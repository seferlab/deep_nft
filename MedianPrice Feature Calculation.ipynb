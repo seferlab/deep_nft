{
 "cells": [
  {
   "cell_type": "markdown",
   "metadata": {
    "id": "xoUarT_EWDn1"
   },
   "source": [
    "# Calculate median price"
   ]
  },
  {
   "cell_type": "code",
   "execution_count": 1,
   "metadata": {
    "id": "_itYv7sFX2rS"
   },
   "outputs": [],
   "source": [
    "import pandas as pd\n",
    "from tqdm.notebook import tqdm\n",
    "import matplotlib.pyplot as plt\n",
    "from sortedcontainers import SortedList\n",
    "import numpy as np"
   ]
  },
  {
   "cell_type": "code",
   "execution_count": 2,
   "metadata": {
    "id": "GviPshUGYBR6"
   },
   "outputs": [],
   "source": [
    "nft_transactions_ = pd.read_csv('data/Data_API.csv',usecols=['Datetime_updated','Datetime_updated_seconds','Unique_id_collection','Collection_cleaned','Price_USD'])"
   ]
  },
  {
   "cell_type": "code",
   "execution_count": 3,
   "metadata": {
    "id": "TfySSqtbo7HF"
   },
   "outputs": [
    {
     "name": "stderr",
     "output_type": "stream",
     "text": [
      "/var/folders/9t/frr8qwnd5h1_3mymt9gwrcm40000gn/T/ipykernel_49188/1025147062.py:3: UserWarning: Pandas doesn't allow columns to be created via a new attribute name - see https://pandas.pydata.org/pandas-docs/stable/indexing.html#attribute-access\n",
      "  nft_transactions.Datetime_updates = pd.to_datetime(nft_transactions.Datetime_updated)\n"
     ]
    }
   ],
   "source": [
    "nft_transactions = nft_transactions_.copy(deep=True)\n",
    "nft_transactions.Datetime_updated_seconds = pd.to_datetime(nft_transactions.Datetime_updated_seconds)\n",
    "nft_transactions.Datetime_updates = pd.to_datetime(nft_transactions.Datetime_updated)\n",
    "nft_transactions.sort_values('Datetime_updated_seconds',inplace=True)"
   ]
  },
  {
   "cell_type": "markdown",
   "metadata": {
    "id": "SoCGYoc2mihl"
   },
   "source": [
    "Convert dataframe to dictionary for fast iteration"
   ]
  },
  {
   "cell_type": "code",
   "execution_count": 4,
   "metadata": {
    "id": "93hbOxZo9rST"
   },
   "outputs": [],
   "source": [
    "nfts = nft_transactions.to_dict('index')"
   ]
  },
  {
   "cell_type": "markdown",
   "metadata": {
    "id": "zs3TBIyCm2w6"
   },
   "source": [
    "Magic"
   ]
  },
  {
   "cell_type": "code",
   "execution_count": 5,
   "metadata": {
    "id": "PgX6PfC2P2TB"
   },
   "outputs": [
    {
     "data": {
      "application/vnd.jupyter.widget-view+json": {
       "model_id": "c5de7c14d921428f952f00c8bff18108",
       "version_major": 2,
       "version_minor": 0
      },
      "text/plain": [
       "  0%|          | 0/6071027 [00:00<?, ?it/s]"
      ]
     },
     "metadata": {},
     "output_type": "display_data"
    },
    {
     "ename": "KeyboardInterrupt",
     "evalue": "",
     "output_type": "error",
     "traceback": [
      "\u001b[0;31m---------------------------------------------------------------------------\u001b[0m",
      "\u001b[0;31mKeyboardInterrupt\u001b[0m                         Traceback (most recent call last)",
      "Cell \u001b[0;32mIn[5], line 21\u001b[0m\n\u001b[1;32m     19\u001b[0m    collection_sales[collection_cleaned] \u001b[38;5;241m=\u001b[39m np\u001b[38;5;241m.\u001b[39marray([(\u001b[38;5;241m0\u001b[39m,\u001b[38;5;241m0\u001b[39m)])\u001b[38;5;241m.\u001b[39mreshape(\u001b[38;5;241m1\u001b[39m,\u001b[38;5;241m2\u001b[39m)\n\u001b[1;32m     20\u001b[0m \u001b[38;5;28;01mif\u001b[39;00m collection_sales[collection_cleaned]\u001b[38;5;241m.\u001b[39mshape[\u001b[38;5;241m0\u001b[39m] \u001b[38;5;241m>\u001b[39m \u001b[38;5;241m1\u001b[39m:\n\u001b[0;32m---> 21\u001b[0m    median_price \u001b[38;5;241m=\u001b[39m \u001b[43mnp\u001b[49m\u001b[38;5;241;43m.\u001b[39;49m\u001b[43mmedian\u001b[49m\u001b[43m(\u001b[49m\u001b[43mcollection_sales\u001b[49m\u001b[43m[\u001b[49m\u001b[43mcollection_cleaned\u001b[49m\u001b[43m]\u001b[49m\u001b[43m[\u001b[49m\u001b[43m:\u001b[49m\u001b[43m,\u001b[49m\u001b[38;5;241;43m0\u001b[39;49m\u001b[43m]\u001b[49m\u001b[43m)\u001b[49m\n\u001b[1;32m     22\u001b[0m \u001b[38;5;28;01melse\u001b[39;00m:\n\u001b[1;32m     23\u001b[0m    median_price \u001b[38;5;241m=\u001b[39m \u001b[38;5;241m0\u001b[39m\n",
      "File \u001b[0;32m<__array_function__ internals>:180\u001b[0m, in \u001b[0;36mmedian\u001b[0;34m(*args, **kwargs)\u001b[0m\n",
      "File \u001b[0;32m~/anaconda3/lib/python3.10/site-packages/numpy/lib/function_base.py:3816\u001b[0m, in \u001b[0;36mmedian\u001b[0;34m(a, axis, out, overwrite_input, keepdims)\u001b[0m\n\u001b[1;32m   3734\u001b[0m \u001b[38;5;129m@array_function_dispatch\u001b[39m(_median_dispatcher)\n\u001b[1;32m   3735\u001b[0m \u001b[38;5;28;01mdef\u001b[39;00m \u001b[38;5;21mmedian\u001b[39m(a, axis\u001b[38;5;241m=\u001b[39m\u001b[38;5;28;01mNone\u001b[39;00m, out\u001b[38;5;241m=\u001b[39m\u001b[38;5;28;01mNone\u001b[39;00m, overwrite_input\u001b[38;5;241m=\u001b[39m\u001b[38;5;28;01mFalse\u001b[39;00m, keepdims\u001b[38;5;241m=\u001b[39m\u001b[38;5;28;01mFalse\u001b[39;00m):\n\u001b[1;32m   3736\u001b[0m \u001b[38;5;250m    \u001b[39m\u001b[38;5;124;03m\"\"\"\u001b[39;00m\n\u001b[1;32m   3737\u001b[0m \u001b[38;5;124;03m    Compute the median along the specified axis.\u001b[39;00m\n\u001b[1;32m   3738\u001b[0m \n\u001b[0;32m   (...)\u001b[0m\n\u001b[1;32m   3814\u001b[0m \n\u001b[1;32m   3815\u001b[0m \u001b[38;5;124;03m    \"\"\"\u001b[39;00m\n\u001b[0;32m-> 3816\u001b[0m     r, k \u001b[38;5;241m=\u001b[39m \u001b[43m_ureduce\u001b[49m\u001b[43m(\u001b[49m\u001b[43ma\u001b[49m\u001b[43m,\u001b[49m\u001b[43m \u001b[49m\u001b[43mfunc\u001b[49m\u001b[38;5;241;43m=\u001b[39;49m\u001b[43m_median\u001b[49m\u001b[43m,\u001b[49m\u001b[43m \u001b[49m\u001b[43maxis\u001b[49m\u001b[38;5;241;43m=\u001b[39;49m\u001b[43maxis\u001b[49m\u001b[43m,\u001b[49m\u001b[43m \u001b[49m\u001b[43mout\u001b[49m\u001b[38;5;241;43m=\u001b[39;49m\u001b[43mout\u001b[49m\u001b[43m,\u001b[49m\n\u001b[1;32m   3817\u001b[0m \u001b[43m                    \u001b[49m\u001b[43moverwrite_input\u001b[49m\u001b[38;5;241;43m=\u001b[39;49m\u001b[43moverwrite_input\u001b[49m\u001b[43m)\u001b[49m\n\u001b[1;32m   3818\u001b[0m     \u001b[38;5;28;01mif\u001b[39;00m keepdims:\n\u001b[1;32m   3819\u001b[0m         \u001b[38;5;28;01mreturn\u001b[39;00m r\u001b[38;5;241m.\u001b[39mreshape(k)\n",
      "File \u001b[0;32m~/anaconda3/lib/python3.10/site-packages/numpy/lib/function_base.py:3725\u001b[0m, in \u001b[0;36m_ureduce\u001b[0;34m(a, func, **kwargs)\u001b[0m\n\u001b[1;32m   3722\u001b[0m \u001b[38;5;28;01melse\u001b[39;00m:\n\u001b[1;32m   3723\u001b[0m     keepdim \u001b[38;5;241m=\u001b[39m (\u001b[38;5;241m1\u001b[39m,) \u001b[38;5;241m*\u001b[39m a\u001b[38;5;241m.\u001b[39mndim\n\u001b[0;32m-> 3725\u001b[0m r \u001b[38;5;241m=\u001b[39m \u001b[43mfunc\u001b[49m\u001b[43m(\u001b[49m\u001b[43ma\u001b[49m\u001b[43m,\u001b[49m\u001b[43m \u001b[49m\u001b[38;5;241;43m*\u001b[39;49m\u001b[38;5;241;43m*\u001b[39;49m\u001b[43mkwargs\u001b[49m\u001b[43m)\u001b[49m\n\u001b[1;32m   3726\u001b[0m \u001b[38;5;28;01mreturn\u001b[39;00m r, keepdim\n",
      "File \u001b[0;32m~/anaconda3/lib/python3.10/site-packages/numpy/lib/function_base.py:3851\u001b[0m, in \u001b[0;36m_median\u001b[0;34m(a, axis, out, overwrite_input)\u001b[0m\n\u001b[1;32m   3849\u001b[0m         part \u001b[38;5;241m=\u001b[39m a\n\u001b[1;32m   3850\u001b[0m \u001b[38;5;28;01melse\u001b[39;00m:\n\u001b[0;32m-> 3851\u001b[0m     part \u001b[38;5;241m=\u001b[39m \u001b[43mpartition\u001b[49m\u001b[43m(\u001b[49m\u001b[43ma\u001b[49m\u001b[43m,\u001b[49m\u001b[43m \u001b[49m\u001b[43mkth\u001b[49m\u001b[43m,\u001b[49m\u001b[43m \u001b[49m\u001b[43maxis\u001b[49m\u001b[38;5;241;43m=\u001b[39;49m\u001b[43maxis\u001b[49m\u001b[43m)\u001b[49m\n\u001b[1;32m   3853\u001b[0m \u001b[38;5;28;01mif\u001b[39;00m part\u001b[38;5;241m.\u001b[39mshape \u001b[38;5;241m==\u001b[39m ():\n\u001b[1;32m   3854\u001b[0m     \u001b[38;5;66;03m# make 0-D arrays work\u001b[39;00m\n\u001b[1;32m   3855\u001b[0m     \u001b[38;5;28;01mreturn\u001b[39;00m part\u001b[38;5;241m.\u001b[39mitem()\n",
      "File \u001b[0;32m<__array_function__ internals>:180\u001b[0m, in \u001b[0;36mpartition\u001b[0;34m(*args, **kwargs)\u001b[0m\n",
      "File \u001b[0;32m~/anaconda3/lib/python3.10/site-packages/numpy/core/fromnumeric.py:758\u001b[0m, in \u001b[0;36mpartition\u001b[0;34m(a, kth, axis, kind, order)\u001b[0m\n\u001b[1;32m    756\u001b[0m \u001b[38;5;28;01melse\u001b[39;00m:\n\u001b[1;32m    757\u001b[0m     a \u001b[38;5;241m=\u001b[39m asanyarray(a)\u001b[38;5;241m.\u001b[39mcopy(order\u001b[38;5;241m=\u001b[39m\u001b[38;5;124m\"\u001b[39m\u001b[38;5;124mK\u001b[39m\u001b[38;5;124m\"\u001b[39m)\n\u001b[0;32m--> 758\u001b[0m \u001b[43ma\u001b[49m\u001b[38;5;241;43m.\u001b[39;49m\u001b[43mpartition\u001b[49m\u001b[43m(\u001b[49m\u001b[43mkth\u001b[49m\u001b[43m,\u001b[49m\u001b[43m \u001b[49m\u001b[43maxis\u001b[49m\u001b[38;5;241;43m=\u001b[39;49m\u001b[43maxis\u001b[49m\u001b[43m,\u001b[49m\u001b[43m \u001b[49m\u001b[43mkind\u001b[49m\u001b[38;5;241;43m=\u001b[39;49m\u001b[43mkind\u001b[49m\u001b[43m,\u001b[49m\u001b[43m \u001b[49m\u001b[43morder\u001b[49m\u001b[38;5;241;43m=\u001b[39;49m\u001b[43morder\u001b[49m\u001b[43m)\u001b[49m\n\u001b[1;32m    759\u001b[0m \u001b[38;5;28;01mreturn\u001b[39;00m a\n",
      "\u001b[0;31mKeyboardInterrupt\u001b[0m: "
     ]
    }
   ],
   "source": [
    "def median(sorted_list):\n",
    "    length = len(sorted_list)\n",
    "    mid_index = length // 2\n",
    "    if length % 2 == 0:\n",
    "        mid_1 = sorted_list[mid_index][0]\n",
    "        mid_2 = sorted_list[mid_index - 1][0]\n",
    "        return (mid_1 + mid_2) / 2\n",
    "    else:\n",
    "        return sorted_list[mid_index][0]\n",
    "\n",
    "collection_sales = {}\n",
    "nft_values = {}\n",
    "time_interval = pd.to_timedelta(7, unit='d')\n",
    "for index, nft in tqdm(nfts.items()):\n",
    "    price_usd = nft['Price_USD']\n",
    "    collection_cleaned = nft['Collection_cleaned']\n",
    "    datetime_updated_seconds = nft['Datetime_updated_seconds']\n",
    "    if collection_cleaned not in collection_sales:\n",
    "        collection_sales[collection_cleaned] = np.array([(0,0)]).reshape(1,2)\n",
    "    if collection_sales[collection_cleaned].shape[0] > 1:\n",
    "        median_price = np.median(collection_sales[collection_cleaned][:,0])\n",
    "    else:\n",
    "        median_price = 0\n",
    "    \n",
    "    nft_values[index] = {\n",
    "       'median_price':median_price\n",
    "    }\n",
    "    collection_sales[collection_cleaned] = np.concatenate((collection_sales[collection_cleaned], [(price_usd, datetime_updated_seconds)]))\n",
    "  \n",
    "  #a = np.array(collection_sales[collection_cleaned])\n",
    "  # index_list = np.where(a[:,1] < datetime_updated_seconds - time_interval)[0]\n",
    "  # if index_list:\n",
    "  #   index = index_list[-1]\n",
    "  #   collection_sales[collection_cleaned] = a[index+1:]\n",
    "  # for i in range(len(collection_sales[collection_cleaned]))[::-1]:\n",
    "  #   pass\n",
    "  # if collection_sales[collection_cleaned][i][1] < datetime_updated_seconds - time_interval:\n",
    "  #   del collection_sales[collection_cleaned][i]\n",
    "    \n",
    "df_medianprice = pd.DataFrame.from_dict(nft_values, orient='index')\n",
    "df_medianprice"
   ]
  },
  {
   "cell_type": "markdown",
   "metadata": {
    "id": "f_lCMupFmw_Q"
   },
   "source": [
    "Transfer the columns from the calculation to the original dataframe"
   ]
  },
  {
   "cell_type": "code",
   "execution_count": null,
   "metadata": {
    "colab": {
     "base_uri": "https://localhost:8080/",
     "height": 423
    },
    "id": "T0oJsqFfbtk0",
    "outputId": "654be9db-c2c3-42ad-df25-32b84acc29b4"
   },
   "outputs": [],
   "source": [
    "nft_transactions['median_price'] = df_medianprice['median_price']\n",
    "nft_transactions"
   ]
  },
  {
   "cell_type": "markdown",
   "metadata": {
    "id": "Jbr1iqIKm7t4"
   },
   "source": [
    "Check if the algorithm we used produces expected result on a collection"
   ]
  },
  {
   "cell_type": "code",
   "execution_count": null,
   "metadata": {
    "colab": {
     "base_uri": "https://localhost:8080/",
     "height": 423
    },
    "id": "w7tv3qBlkfZe",
    "outputId": "63ba56c7-201e-4f5a-d765-1871e0e6144a"
   },
   "outputs": [],
   "source": [
    "nft_transactions[nft_transactions.Collection_cleaned == 'Cryptocelebritie'].loc[:,['Datetime_updated_seconds','median_price','Price_USD']]"
   ]
  },
  {
   "cell_type": "markdown",
   "metadata": {
    "id": "6Lx_-VMlk_Fc"
   },
   "source": [
    "These values are calculated on seconds precision. This leads to values being calculated with NFT transactions made seconds ago.  \n",
    "We want to use daily resolution, which will lead to calculations being up to only the previous day of the NFT transaction.\n"
   ]
  },
  {
   "cell_type": "code",
   "execution_count": null,
   "metadata": {
    "colab": {
     "base_uri": "https://localhost:8080/",
     "height": 423
    },
    "id": "K1o75rwDkEM7",
    "outputId": "af6f0308-0623-453c-aaa3-7cc919617e04"
   },
   "outputs": [],
   "source": [
    "day_precision = nft_transactions.groupby(['Datetime_updated','Collection_cleaned']).first().reset_index()\n",
    "day_precision"
   ]
  },
  {
   "cell_type": "markdown",
   "metadata": {
    "id": "15kiNRFnmXgA"
   },
   "source": [
    "Merge the values with original dataframe on Datetime_updated and Collection_cleaned"
   ]
  },
  {
   "cell_type": "code",
   "execution_count": null,
   "metadata": {
    "colab": {
     "base_uri": "https://localhost:8080/",
     "height": 423
    },
    "id": "OegDOYlynG92",
    "outputId": "1aab4610-7643-4f21-e7c3-3d39b5501809"
   },
   "outputs": [],
   "source": [
    "# remove old values\n",
    "try:\n",
    "    del nft_transactions['median_price']\n",
    "except:\n",
    "    pass\n",
    "nft_transactions = nft_transactions.merge(day_precision.loc[:,['Datetime_updated','Collection_cleaned','median_price']], on=['Datetime_updated','Collection_cleaned'], how='left')\n",
    "nft_transactions"
   ]
  },
  {
   "cell_type": "markdown",
   "metadata": {
    "id": "Q36cVIE8qF-W"
   },
   "source": [
    "Check results on the same collection"
   ]
  },
  {
   "cell_type": "code",
   "execution_count": null,
   "metadata": {
    "colab": {
     "base_uri": "https://localhost:8080/",
     "height": 423
    },
    "id": "ZOD6hLjyqIPL",
    "outputId": "d9af33af-6c4a-4883-b3a3-2f66384fb0b0"
   },
   "outputs": [],
   "source": [
    "nft_transactions[nft_transactions.Collection_cleaned == 'Cryptocelebritie'].loc[:,['Datetime_updated_seconds','median_price','Price_USD']]"
   ]
  },
  {
   "cell_type": "markdown",
   "metadata": {
    "id": "AOR3PJSSti3W"
   },
   "source": [
    "# Visualize the values of top 10 collections"
   ]
  },
  {
   "cell_type": "code",
   "execution_count": null,
   "metadata": {
    "colab": {
     "base_uri": "https://localhost:8080/",
     "height": 497
    },
    "id": "dOvojshPq1xF",
    "outputId": "4a6afdd1-674d-4691-e798-ad3fecfef96d"
   },
   "outputs": [],
   "source": [
    "top_collections = nft_transactions.groupby('Collection_cleaned').median_price.mean().sort_values()[-10:].index\n",
    "nft_transactions[nft_transactions.Collection_cleaned.isin(top_collections)].groupby('Collection_cleaned').median_price.plot(legend=True, ylabel='n', figsize=(24,4))"
   ]
  },
  {
   "cell_type": "code",
   "execution_count": null,
   "metadata": {
    "colab": {
     "base_uri": "https://localhost:8080/",
     "height": 423
    },
    "id": "Z_ZcmjiktOes",
    "outputId": "a23596cd-b9ca-497f-ddc9-554968160940"
   },
   "outputs": [],
   "source": [
    "#nft_transactions.loc[:,['median_price']].to_csv('data/.csv')"
   ]
  }
 ],
 "metadata": {
  "colab": {
   "collapsed_sections": [
    "AOR3PJSSti3W"
   ],
   "machine_shape": "hm",
   "provenance": []
  },
  "gpuClass": "standard",
  "kernelspec": {
   "display_name": "Python 3 (ipykernel)",
   "language": "python",
   "name": "python3"
  },
  "language_info": {
   "codemirror_mode": {
    "name": "ipython",
    "version": 3
   },
   "file_extension": ".py",
   "mimetype": "text/x-python",
   "name": "python",
   "nbconvert_exporter": "python",
   "pygments_lexer": "ipython3",
   "version": "3.10.13"
  }
 },
 "nbformat": 4,
 "nbformat_minor": 1
}
