{
 "cells": [
  {
   "cell_type": "code",
   "execution_count": 1,
   "metadata": {
    "id": "i0ZtbISznUgr"
   },
   "outputs": [],
   "source": [
    "from sklearn.linear_model import LinearRegression\n",
    "from sklearn.ensemble import RandomForestRegressor, GradientBoostingRegressor, AdaBoostRegressor\n",
    "from sklearn.svm import LinearSVR\n",
    "from sklearn.model_selection import train_test_split\n",
    "from sklearn.preprocessing import StandardScaler, MinMaxScaler\n",
    "from sklearn.model_selection import RandomizedSearchCV\n",
    "import matplotlib.pyplot as plt\n",
    "import pandas as pd\n",
    "import numpy as np\n",
    "import h5py\n",
    "import json"
   ]
  },
  {
   "cell_type": "markdown",
   "metadata": {
    "id": "kDF6LMCzwuQ-"
   },
   "source": [
    "# Create dataset"
   ]
  },
  {
   "cell_type": "code",
   "execution_count": 2,
   "metadata": {
    "id": "jUPI0xJnxDbA"
   },
   "outputs": [
    {
     "name": "stderr",
     "output_type": "stream",
     "text": [
      "/var/folders/9t/frr8qwnd5h1_3mymt9gwrcm40000gn/T/ipykernel_22181/2617003772.py:1: DtypeWarning: Columns (2,3,4,6,8,10,11,12,16,17,22) have mixed types. Specify dtype option on import or set low_memory=False.\n",
      "  nft_transactions = pd.read_csv('data/Data_primary_sales.csv', index_col=0)\n"
     ]
    }
   ],
   "source": [
    "nft_transactions = pd.read_csv('data/Data_primary_sales.csv', index_col=0)\n",
    "image_names = pd.read_csv('data/image_names.csv')\n",
    "median_prices = pd.read_csv('data/median_price_week_1.csv', index_col=0)\n",
    "visual_features_vgg16 = pd.read_csv(f'data/vgg16_PCA_features7.csv', index_col=0)\n",
    "visual_features_resnet = pd.read_csv('data/resnet50_PCA_features7.csv', index_col=0)\n",
    "visual_features_efficient = pd.read_csv('data/EfficientNetV2M_PCA.csv', index_col=0)\n",
    "centrality_features = pd.read_csv('data/nft_transactions_with_centrality_with_index.csv', index_col=0)\n",
    "subcols=['Seller_address','Buyer_address','Datetime_updated','Unique_id_collection','centrality_seller','centrality_buyer']\n",
    "centrality_features = centrality_features[subcols].copy()\n",
    "p_resale = pd.read_csv('data/p_resale.csv', index_col=0)"
   ]
  },
  {
   "cell_type": "code",
   "execution_count": 3,
   "metadata": {
    "id": "3GnJKHrBzDhl",
    "scrolled": true
   },
   "outputs": [],
   "source": [
    "nft_transactions.Datetime_updated = pd.to_datetime(nft_transactions.Datetime_updated)\n",
    "centrality_features.Datetime_updated = pd.to_datetime(centrality_features.Datetime_updated)\n",
    "median_prices.Datetime_updated = pd.to_datetime(median_prices.Datetime_updated)\n",
    "centrality_features.drop_duplicates(subset=['Seller_address','Buyer_address','Datetime_updated','Unique_id_collection'], inplace=True)\n",
    "  \n",
    "to_remove = visual_features_vgg16[visual_features_vgg16.iloc[:,0] == 0].index\n",
    "visual_features_vgg16.drop(to_remove, inplace=True)    \n",
    "visual_features_vgg16['image_name'] = visual_features_vgg16.index\n",
    "\n",
    "to_remove = visual_features_resnet[visual_features_resnet.iloc[:,0] == 0].index\n",
    "visual_features_resnet.drop(to_remove, inplace=True)    \n",
    "visual_features_resnet['image_name'] = visual_features_resnet.index\n",
    "\n",
    "to_remove = visual_features_efficient[visual_features_efficient.iloc[:,0] == 0].index\n",
    "visual_features_efficient.drop(to_remove, inplace=True)    \n",
    "visual_features_efficient['image_name'] = visual_features_efficient.index\n",
    "\n",
    "nft_transactions['image_name'] = image_names['image_name']"
   ]
  },
  {
   "cell_type": "code",
   "execution_count": 4,
   "metadata": {
    "id": "_x3BQn_c0MNQ"
   },
   "outputs": [],
   "source": [
    "combined_data = (nft_transactions\n",
    "  .merge(median_prices, on=['Datetime_updated','Collection_cleaned'], how='left')\n",
    "  .merge(visual_features_resnet, on='image_name', how='left')\n",
    "  .merge(visual_features_vgg16, on='image_name', how='left')\n",
    "  .merge(visual_features_efficient, on='image_name', how='left')\n",
    "  .merge(centrality_features.loc[:,subcols], on=['Seller_address','Buyer_address','Datetime_updated','Unique_id_collection'], how='left'))"
   ]
  },
  {
   "cell_type": "code",
   "execution_count": 11,
   "metadata": {},
   "outputs": [
    {
     "name": "stdout",
     "output_type": "stream",
     "text": [
      "4678527\n",
      "4606343\n",
      "990621\n",
      "Index(['index', 'Smart_contract', 'ID_token', 'Transaction_hash',\n",
      "       'Seller_address', 'Seller_username', 'Buyer_address', 'Buyer_username',\n",
      "       'Price_Crypto', 'Crypto', 'Price_USD', 'Name', 'Description',\n",
      "       'Collection', 'Market', 'Datetime_updated', 'Datetime_updated_seconds',\n",
      "       'Unique_id_collection', 'Collection_cleaned', 'Category', 'image_name',\n",
      "       'week_1', '0_x', '1_x', '2_x', '3_x', '4_x', '5_x', '6_x', '0_y', '1_y',\n",
      "       '2_y', '3_y', '4_y', '5_y', '6_y', '0', '1', '2', '3', '4', '5', '6',\n",
      "       'centrality_seller', 'centrality_buyer'],\n",
      "      dtype='object')\n"
     ]
    }
   ],
   "source": [
    "print(len(combined_data))\n",
    "#print(combined_data.columns)\n",
    "#import sys\n",
    "#sys.exit(1)\n",
    "\n",
    "df_filtered = combined_data.copy()\n",
    "# drop null Price_USD rows\n",
    "df_filtered.drop(df_filtered[df_filtered['Price_USD'].isna()].index, inplace=True)\n",
    "# drop null median price rows\n",
    "df_filtered.drop(df_filtered[df_filtered['week_1'].isna()].index, inplace=True)\n",
    "print(len(df_filtered))\n",
    "\n",
    "df_filtered.drop(['Image_url_1', 'Image_url_2', 'Image_url_3', 'Image_url_4', 'Permanent_link'], axis=1, inplace=True)\n",
    "df_filtered.drop_duplicates(subset=['image_name'], inplace=True)\n",
    "\n",
    "print(len(df_filtered))\n",
    "print(df_filtered.columns)\n",
    "df_filtered.to_excel(\"tempim.xlsx\")"
   ]
  },
  {
   "cell_type": "code",
   "execution_count": 45,
   "metadata": {},
   "outputs": [
    {
     "data": {
      "text/html": [
       "<div>\n",
       "<style scoped>\n",
       "    .dataframe tbody tr th:only-of-type {\n",
       "        vertical-align: middle;\n",
       "    }\n",
       "\n",
       "    .dataframe tbody tr th {\n",
       "        vertical-align: top;\n",
       "    }\n",
       "\n",
       "    .dataframe thead th {\n",
       "        text-align: right;\n",
       "    }\n",
       "</style>\n",
       "<table border=\"1\" class=\"dataframe\">\n",
       "  <thead>\n",
       "    <tr style=\"text-align: right;\">\n",
       "      <th></th>\n",
       "      <th>index</th>\n",
       "      <th>Smart_contract</th>\n",
       "      <th>ID_token</th>\n",
       "      <th>Transaction_hash</th>\n",
       "      <th>Seller_address</th>\n",
       "      <th>Seller_username</th>\n",
       "      <th>Buyer_address</th>\n",
       "      <th>Buyer_username</th>\n",
       "      <th>Image_url_1</th>\n",
       "      <th>Image_url_2</th>\n",
       "      <th>...</th>\n",
       "      <th>6_y</th>\n",
       "      <th>0</th>\n",
       "      <th>1</th>\n",
       "      <th>2</th>\n",
       "      <th>3</th>\n",
       "      <th>4</th>\n",
       "      <th>5</th>\n",
       "      <th>6</th>\n",
       "      <th>centrality_seller</th>\n",
       "      <th>centrality_buyer</th>\n",
       "    </tr>\n",
       "  </thead>\n",
       "  <tbody>\n",
       "    <tr>\n",
       "      <th>0</th>\n",
       "      <td>0</td>\n",
       "      <td>NaN</td>\n",
       "      <td>87094722.0</td>\n",
       "      <td>0xed9ff1c311a611e5c457ce0a49bbbb7ed55efca98842...</td>\n",
       "      <td>0x76481caa104b5f6bccb540dae4cefaf1c398ebea</td>\n",
       "      <td>NaN</td>\n",
       "      <td>0xe0fb7622091e3d9ef9b438471b10b9ea88c7cf6b</td>\n",
       "      <td>NaN</td>\n",
       "      <td>https://card.godsunchained.com/?id=33&amp;q=4</td>\n",
       "      <td>NaN</td>\n",
       "      <td>...</td>\n",
       "      <td>8.848661</td>\n",
       "      <td>-3.093087</td>\n",
       "      <td>0.283622</td>\n",
       "      <td>1.730574</td>\n",
       "      <td>-0.095829</td>\n",
       "      <td>-0.834625</td>\n",
       "      <td>0.323648</td>\n",
       "      <td>0.880614</td>\n",
       "      <td>0.060153</td>\n",
       "      <td>0.001268</td>\n",
       "    </tr>\n",
       "    <tr>\n",
       "      <th>1</th>\n",
       "      <td>1</td>\n",
       "      <td>NaN</td>\n",
       "      <td>73044643.0</td>\n",
       "      <td>0xbc8412594ffa7382e8306215ece5b4e041fc641b1813...</td>\n",
       "      <td>0x76481caa104b5f6bccb540dae4cefaf1c398ebea</td>\n",
       "      <td>NaN</td>\n",
       "      <td>0x2c00d05ff7ffe93d77145dfe12aa56e622ae6f40</td>\n",
       "      <td>NaN</td>\n",
       "      <td>https://card.godsunchained.com/?id=79&amp;q=4</td>\n",
       "      <td>NaN</td>\n",
       "      <td>...</td>\n",
       "      <td>5.874319</td>\n",
       "      <td>-3.412786</td>\n",
       "      <td>-0.370806</td>\n",
       "      <td>1.961081</td>\n",
       "      <td>-1.039890</td>\n",
       "      <td>-0.991484</td>\n",
       "      <td>-0.012637</td>\n",
       "      <td>0.866971</td>\n",
       "      <td>0.060153</td>\n",
       "      <td>0.000431</td>\n",
       "    </tr>\n",
       "    <tr>\n",
       "      <th>2</th>\n",
       "      <td>2</td>\n",
       "      <td>NaN</td>\n",
       "      <td>17107482.0</td>\n",
       "      <td>0x92672baf5e9e23de230dee8e57ddf443ab6d5a336341...</td>\n",
       "      <td>0x76481caa104b5f6bccb540dae4cefaf1c398ebea</td>\n",
       "      <td>NaN</td>\n",
       "      <td>0xe0fb7622091e3d9ef9b438471b10b9ea88c7cf6b</td>\n",
       "      <td>NaN</td>\n",
       "      <td>https://card.godsunchained.com/?id=33&amp;q=4</td>\n",
       "      <td>NaN</td>\n",
       "      <td>...</td>\n",
       "      <td>8.848661</td>\n",
       "      <td>-3.093087</td>\n",
       "      <td>0.283622</td>\n",
       "      <td>1.730574</td>\n",
       "      <td>-0.095829</td>\n",
       "      <td>-0.834625</td>\n",
       "      <td>0.323648</td>\n",
       "      <td>0.880614</td>\n",
       "      <td>0.060153</td>\n",
       "      <td>0.001268</td>\n",
       "    </tr>\n",
       "    <tr>\n",
       "      <th>3</th>\n",
       "      <td>3</td>\n",
       "      <td>NaN</td>\n",
       "      <td>82230857.0</td>\n",
       "      <td>0x3d157249e3083622c2d756f07a05caa3a76687288b32...</td>\n",
       "      <td>0x76481caa104b5f6bccb540dae4cefaf1c398ebea</td>\n",
       "      <td>NaN</td>\n",
       "      <td>0x2c00d05ff7ffe93d77145dfe12aa56e622ae6f40</td>\n",
       "      <td>NaN</td>\n",
       "      <td>https://card.godsunchained.com/?id=227&amp;q=4</td>\n",
       "      <td>NaN</td>\n",
       "      <td>...</td>\n",
       "      <td>7.305613</td>\n",
       "      <td>-3.026390</td>\n",
       "      <td>0.262084</td>\n",
       "      <td>2.031854</td>\n",
       "      <td>0.455307</td>\n",
       "      <td>-0.782484</td>\n",
       "      <td>0.485025</td>\n",
       "      <td>1.027610</td>\n",
       "      <td>0.060153</td>\n",
       "      <td>0.000431</td>\n",
       "    </tr>\n",
       "    <tr>\n",
       "      <th>4</th>\n",
       "      <td>4</td>\n",
       "      <td>NaN</td>\n",
       "      <td>40925443.0</td>\n",
       "      <td>0xa892b3569dc8e6b3c7db93aade62372637ebbc61fb63...</td>\n",
       "      <td>0x76481caa104b5f6bccb540dae4cefaf1c398ebea</td>\n",
       "      <td>NaN</td>\n",
       "      <td>0x2c00d05ff7ffe93d77145dfe12aa56e622ae6f40</td>\n",
       "      <td>NaN</td>\n",
       "      <td>https://card.godsunchained.com/?id=62&amp;q=4</td>\n",
       "      <td>NaN</td>\n",
       "      <td>...</td>\n",
       "      <td>7.236298</td>\n",
       "      <td>-2.882816</td>\n",
       "      <td>0.348495</td>\n",
       "      <td>2.287875</td>\n",
       "      <td>0.631947</td>\n",
       "      <td>-0.762286</td>\n",
       "      <td>0.222104</td>\n",
       "      <td>1.194227</td>\n",
       "      <td>0.060153</td>\n",
       "      <td>0.000431</td>\n",
       "    </tr>\n",
       "    <tr>\n",
       "      <th>...</th>\n",
       "      <td>...</td>\n",
       "      <td>...</td>\n",
       "      <td>...</td>\n",
       "      <td>...</td>\n",
       "      <td>...</td>\n",
       "      <td>...</td>\n",
       "      <td>...</td>\n",
       "      <td>...</td>\n",
       "      <td>...</td>\n",
       "      <td>...</td>\n",
       "      <td>...</td>\n",
       "      <td>...</td>\n",
       "      <td>...</td>\n",
       "      <td>...</td>\n",
       "      <td>...</td>\n",
       "      <td>...</td>\n",
       "      <td>...</td>\n",
       "      <td>...</td>\n",
       "      <td>...</td>\n",
       "      <td>...</td>\n",
       "      <td>...</td>\n",
       "    </tr>\n",
       "    <tr>\n",
       "      <th>9995</th>\n",
       "      <td>10376</td>\n",
       "      <td>NaN</td>\n",
       "      <td>14774401.0</td>\n",
       "      <td>0x97ef6cdede1fd98b3b972fe8ae9193d4269f5c3de2d2...</td>\n",
       "      <td>0x76481caa104b5f6bccb540dae4cefaf1c398ebea</td>\n",
       "      <td>NaN</td>\n",
       "      <td>0x837ed29de4cab664c550b721bf26dfc028ef6689</td>\n",
       "      <td>NaN</td>\n",
       "      <td>https://card.godsunchained.com/?id=277&amp;q=4</td>\n",
       "      <td>NaN</td>\n",
       "      <td>...</td>\n",
       "      <td>7.379064</td>\n",
       "      <td>2.884820</td>\n",
       "      <td>0.997579</td>\n",
       "      <td>-1.128738</td>\n",
       "      <td>2.463755</td>\n",
       "      <td>-0.789861</td>\n",
       "      <td>-0.041360</td>\n",
       "      <td>0.301611</td>\n",
       "      <td>0.054208</td>\n",
       "      <td>0.000797</td>\n",
       "    </tr>\n",
       "    <tr>\n",
       "      <th>9996</th>\n",
       "      <td>10377</td>\n",
       "      <td>NaN</td>\n",
       "      <td>88505760.0</td>\n",
       "      <td>0x8c956c7f7c3cb0117d663e685ff6a6de8ab5de78b3c0...</td>\n",
       "      <td>0x76481caa104b5f6bccb540dae4cefaf1c398ebea</td>\n",
       "      <td>NaN</td>\n",
       "      <td>0x837ed29de4cab664c550b721bf26dfc028ef6689</td>\n",
       "      <td>NaN</td>\n",
       "      <td>https://card.godsunchained.com/?id=277&amp;q=4</td>\n",
       "      <td>NaN</td>\n",
       "      <td>...</td>\n",
       "      <td>7.118611</td>\n",
       "      <td>2.599995</td>\n",
       "      <td>1.239249</td>\n",
       "      <td>-0.377456</td>\n",
       "      <td>0.502345</td>\n",
       "      <td>-0.405020</td>\n",
       "      <td>-2.813103</td>\n",
       "      <td>1.889259</td>\n",
       "      <td>0.054208</td>\n",
       "      <td>0.000797</td>\n",
       "    </tr>\n",
       "    <tr>\n",
       "      <th>9997</th>\n",
       "      <td>10378</td>\n",
       "      <td>NaN</td>\n",
       "      <td>14042542.0</td>\n",
       "      <td>0x6f5e0cd03e2c12ca99ae29ce0a80e21aaf1be435f697...</td>\n",
       "      <td>0x76481caa104b5f6bccb540dae4cefaf1c398ebea</td>\n",
       "      <td>NaN</td>\n",
       "      <td>0x837ed29de4cab664c550b721bf26dfc028ef6689</td>\n",
       "      <td>NaN</td>\n",
       "      <td>https://card.godsunchained.com/?id=277&amp;q=4</td>\n",
       "      <td>NaN</td>\n",
       "      <td>...</td>\n",
       "      <td>-4.421387</td>\n",
       "      <td>2.875657</td>\n",
       "      <td>0.671693</td>\n",
       "      <td>-1.646227</td>\n",
       "      <td>2.458200</td>\n",
       "      <td>-0.971188</td>\n",
       "      <td>-0.242470</td>\n",
       "      <td>-0.549747</td>\n",
       "      <td>0.054208</td>\n",
       "      <td>0.000797</td>\n",
       "    </tr>\n",
       "    <tr>\n",
       "      <th>9998</th>\n",
       "      <td>10379</td>\n",
       "      <td>NaN</td>\n",
       "      <td>93574835.0</td>\n",
       "      <td>0x4a6ec200033813b45e85a5cf21f9d0eb725244a3f1d7...</td>\n",
       "      <td>0x76481caa104b5f6bccb540dae4cefaf1c398ebea</td>\n",
       "      <td>NaN</td>\n",
       "      <td>0x837ed29de4cab664c550b721bf26dfc028ef6689</td>\n",
       "      <td>NaN</td>\n",
       "      <td>https://card.godsunchained.com/?id=277&amp;q=4</td>\n",
       "      <td>NaN</td>\n",
       "      <td>...</td>\n",
       "      <td>7.588402</td>\n",
       "      <td>-3.033289</td>\n",
       "      <td>-0.149293</td>\n",
       "      <td>2.023096</td>\n",
       "      <td>-0.530984</td>\n",
       "      <td>-0.718886</td>\n",
       "      <td>0.155359</td>\n",
       "      <td>0.854350</td>\n",
       "      <td>0.054208</td>\n",
       "      <td>0.000797</td>\n",
       "    </tr>\n",
       "    <tr>\n",
       "      <th>9999</th>\n",
       "      <td>10380</td>\n",
       "      <td>NaN</td>\n",
       "      <td>14793312.0</td>\n",
       "      <td>0x48f399b405e6aa9cfc87a07794fc3b85f9106d7f20ab...</td>\n",
       "      <td>0x76481caa104b5f6bccb540dae4cefaf1c398ebea</td>\n",
       "      <td>NaN</td>\n",
       "      <td>0x837ed29de4cab664c550b721bf26dfc028ef6689</td>\n",
       "      <td>NaN</td>\n",
       "      <td>https://card.godsunchained.com/?id=277&amp;q=4</td>\n",
       "      <td>NaN</td>\n",
       "      <td>...</td>\n",
       "      <td>7.588402</td>\n",
       "      <td>-3.033289</td>\n",
       "      <td>-0.149293</td>\n",
       "      <td>2.023096</td>\n",
       "      <td>-0.530984</td>\n",
       "      <td>-0.718886</td>\n",
       "      <td>0.155359</td>\n",
       "      <td>0.854350</td>\n",
       "      <td>0.054208</td>\n",
       "      <td>0.000797</td>\n",
       "    </tr>\n",
       "  </tbody>\n",
       "</table>\n",
       "<p>10000 rows × 50 columns</p>\n",
       "</div>"
      ],
      "text/plain": [
       "      index Smart_contract    ID_token  \\\n",
       "0         0            NaN  87094722.0   \n",
       "1         1            NaN  73044643.0   \n",
       "2         2            NaN  17107482.0   \n",
       "3         3            NaN  82230857.0   \n",
       "4         4            NaN  40925443.0   \n",
       "...     ...            ...         ...   \n",
       "9995  10376            NaN  14774401.0   \n",
       "9996  10377            NaN  88505760.0   \n",
       "9997  10378            NaN  14042542.0   \n",
       "9998  10379            NaN  93574835.0   \n",
       "9999  10380            NaN  14793312.0   \n",
       "\n",
       "                                       Transaction_hash  \\\n",
       "0     0xed9ff1c311a611e5c457ce0a49bbbb7ed55efca98842...   \n",
       "1     0xbc8412594ffa7382e8306215ece5b4e041fc641b1813...   \n",
       "2     0x92672baf5e9e23de230dee8e57ddf443ab6d5a336341...   \n",
       "3     0x3d157249e3083622c2d756f07a05caa3a76687288b32...   \n",
       "4     0xa892b3569dc8e6b3c7db93aade62372637ebbc61fb63...   \n",
       "...                                                 ...   \n",
       "9995  0x97ef6cdede1fd98b3b972fe8ae9193d4269f5c3de2d2...   \n",
       "9996  0x8c956c7f7c3cb0117d663e685ff6a6de8ab5de78b3c0...   \n",
       "9997  0x6f5e0cd03e2c12ca99ae29ce0a80e21aaf1be435f697...   \n",
       "9998  0x4a6ec200033813b45e85a5cf21f9d0eb725244a3f1d7...   \n",
       "9999  0x48f399b405e6aa9cfc87a07794fc3b85f9106d7f20ab...   \n",
       "\n",
       "                                  Seller_address Seller_username  \\\n",
       "0     0x76481caa104b5f6bccb540dae4cefaf1c398ebea             NaN   \n",
       "1     0x76481caa104b5f6bccb540dae4cefaf1c398ebea             NaN   \n",
       "2     0x76481caa104b5f6bccb540dae4cefaf1c398ebea             NaN   \n",
       "3     0x76481caa104b5f6bccb540dae4cefaf1c398ebea             NaN   \n",
       "4     0x76481caa104b5f6bccb540dae4cefaf1c398ebea             NaN   \n",
       "...                                          ...             ...   \n",
       "9995  0x76481caa104b5f6bccb540dae4cefaf1c398ebea             NaN   \n",
       "9996  0x76481caa104b5f6bccb540dae4cefaf1c398ebea             NaN   \n",
       "9997  0x76481caa104b5f6bccb540dae4cefaf1c398ebea             NaN   \n",
       "9998  0x76481caa104b5f6bccb540dae4cefaf1c398ebea             NaN   \n",
       "9999  0x76481caa104b5f6bccb540dae4cefaf1c398ebea             NaN   \n",
       "\n",
       "                                   Buyer_address Buyer_username  \\\n",
       "0     0xe0fb7622091e3d9ef9b438471b10b9ea88c7cf6b            NaN   \n",
       "1     0x2c00d05ff7ffe93d77145dfe12aa56e622ae6f40            NaN   \n",
       "2     0xe0fb7622091e3d9ef9b438471b10b9ea88c7cf6b            NaN   \n",
       "3     0x2c00d05ff7ffe93d77145dfe12aa56e622ae6f40            NaN   \n",
       "4     0x2c00d05ff7ffe93d77145dfe12aa56e622ae6f40            NaN   \n",
       "...                                          ...            ...   \n",
       "9995  0x837ed29de4cab664c550b721bf26dfc028ef6689            NaN   \n",
       "9996  0x837ed29de4cab664c550b721bf26dfc028ef6689            NaN   \n",
       "9997  0x837ed29de4cab664c550b721bf26dfc028ef6689            NaN   \n",
       "9998  0x837ed29de4cab664c550b721bf26dfc028ef6689            NaN   \n",
       "9999  0x837ed29de4cab664c550b721bf26dfc028ef6689            NaN   \n",
       "\n",
       "                                     Image_url_1 Image_url_2  ...       6_y  \\\n",
       "0      https://card.godsunchained.com/?id=33&q=4         NaN  ...  8.848661   \n",
       "1      https://card.godsunchained.com/?id=79&q=4         NaN  ...  5.874319   \n",
       "2      https://card.godsunchained.com/?id=33&q=4         NaN  ...  8.848661   \n",
       "3     https://card.godsunchained.com/?id=227&q=4         NaN  ...  7.305613   \n",
       "4      https://card.godsunchained.com/?id=62&q=4         NaN  ...  7.236298   \n",
       "...                                          ...         ...  ...       ...   \n",
       "9995  https://card.godsunchained.com/?id=277&q=4         NaN  ...  7.379064   \n",
       "9996  https://card.godsunchained.com/?id=277&q=4         NaN  ...  7.118611   \n",
       "9997  https://card.godsunchained.com/?id=277&q=4         NaN  ... -4.421387   \n",
       "9998  https://card.godsunchained.com/?id=277&q=4         NaN  ...  7.588402   \n",
       "9999  https://card.godsunchained.com/?id=277&q=4         NaN  ...  7.588402   \n",
       "\n",
       "             0         1         2         3         4         5         6  \\\n",
       "0    -3.093087  0.283622  1.730574 -0.095829 -0.834625  0.323648  0.880614   \n",
       "1    -3.412786 -0.370806  1.961081 -1.039890 -0.991484 -0.012637  0.866971   \n",
       "2    -3.093087  0.283622  1.730574 -0.095829 -0.834625  0.323648  0.880614   \n",
       "3    -3.026390  0.262084  2.031854  0.455307 -0.782484  0.485025  1.027610   \n",
       "4    -2.882816  0.348495  2.287875  0.631947 -0.762286  0.222104  1.194227   \n",
       "...        ...       ...       ...       ...       ...       ...       ...   \n",
       "9995  2.884820  0.997579 -1.128738  2.463755 -0.789861 -0.041360  0.301611   \n",
       "9996  2.599995  1.239249 -0.377456  0.502345 -0.405020 -2.813103  1.889259   \n",
       "9997  2.875657  0.671693 -1.646227  2.458200 -0.971188 -0.242470 -0.549747   \n",
       "9998 -3.033289 -0.149293  2.023096 -0.530984 -0.718886  0.155359  0.854350   \n",
       "9999 -3.033289 -0.149293  2.023096 -0.530984 -0.718886  0.155359  0.854350   \n",
       "\n",
       "     centrality_seller centrality_buyer  \n",
       "0             0.060153         0.001268  \n",
       "1             0.060153         0.000431  \n",
       "2             0.060153         0.001268  \n",
       "3             0.060153         0.000431  \n",
       "4             0.060153         0.000431  \n",
       "...                ...              ...  \n",
       "9995          0.054208         0.000797  \n",
       "9996          0.054208         0.000797  \n",
       "9997          0.054208         0.000797  \n",
       "9998          0.054208         0.000797  \n",
       "9999          0.054208         0.000797  \n",
       "\n",
       "[10000 rows x 50 columns]"
      ]
     },
     "execution_count": 45,
     "metadata": {},
     "output_type": "execute_result"
    }
   ],
   "source": [
    "combined_data.head(10000)"
   ]
  },
  {
   "cell_type": "code",
   "execution_count": 46,
   "metadata": {},
   "outputs": [
    {
     "name": "stdout",
     "output_type": "stream",
     "text": [
      "Index(['index', 'Smart_contract', 'ID_token', 'Transaction_hash',\n",
      "       'Seller_address', 'Seller_username', 'Buyer_address', 'Buyer_username',\n",
      "       'Image_url_1', 'Image_url_2', 'Image_url_3', 'Image_url_4',\n",
      "       'Price_Crypto', 'Crypto', 'Price_USD', 'Name', 'Description',\n",
      "       'Collection', 'Market', 'Datetime_updated', 'Datetime_updated_seconds',\n",
      "       'Permanent_link', 'Unique_id_collection', 'Collection_cleaned',\n",
      "       'Category', 'image_name', 'week_1', '0_x', '1_x', '2_x', '3_x', '4_x',\n",
      "       '5_x', '6_x', '0_y', '1_y', '2_y', '3_y', '4_y', '5_y', '6_y', '0', '1',\n",
      "       '2', '3', '4', '5', '6', 'centrality_seller', 'centrality_buyer'],\n",
      "      dtype='object')\n",
      "4678527\n"
     ]
    },
    {
     "ename": "SystemExit",
     "evalue": "1",
     "output_type": "error",
     "traceback": [
      "An exception has occurred, use %tb to see the full traceback.\n",
      "\u001b[0;31mSystemExit\u001b[0m\u001b[0;31m:\u001b[0m 1\n"
     ]
    },
    {
     "name": "stderr",
     "output_type": "stream",
     "text": [
      "/Users/emresefer/anaconda3/lib/python3.10/site-packages/IPython/core/interactiveshell.py:3534: UserWarning: To exit: use 'exit', 'quit', or Ctrl-D.\n",
      "  warn(\"To exit: use 'exit', 'quit', or Ctrl-D.\", stacklevel=1)\n"
     ]
    }
   ],
   "source": [
    "print(combined_data.columns)\n",
    "print(len(combined_data))\n",
    "\n",
    "import sys\n",
    "sys.exit(1)\n",
    "\n",
    "combined_data.dropna(inplace=True)\n",
    "print(len(combined_data))\n",
    "\n",
    "# remove secondary sales\n",
    "#combined_data.sort_values('Datetime_updated').drop_duplicates('Unique_id_collection', inplace=True)\n",
    "# remove outlier prices\n",
    "combined_data.drop(combined_data[combined_data.Price_USD > 10000].index, inplace = True)\n",
    "print(len(combined_data))"
   ]
  },
  {
   "cell_type": "code",
   "execution_count": 11,
   "metadata": {
    "id": "Im1qCjJ85zU8"
   },
   "outputs": [],
   "source": [
    "# drop 0 valued image features\n",
    "combined_data.drop(combined_data[combined_data['0_x'] == 0].index, inplace = True)\n",
    "combined_data.drop(combined_data[combined_data['0_y'] == 0].index, inplace = True)\n",
    "# drop all nan\n",
    "combined_data.dropna(inplace=True)\n",
    "# remove secondary sales\n",
    "#combined_data.sort_values('Datetime_updated').drop_duplicates('Unique_id_collection', inplace=True)\n",
    "# remove outlier prices\n",
    "combined_data.drop(combined_data[combined_data.Price_USD > 10000].index, inplace = True)"
   ]
  },
  {
   "cell_type": "code",
   "execution_count": 12,
   "metadata": {
    "id": "FVm-4wwnGF5h"
   },
   "outputs": [],
   "source": [
    "df = combined_data"
   ]
  },
  {
   "cell_type": "markdown",
   "metadata": {
    "id": "Qfo2QkggOoMb"
   },
   "source": [
    "## Define functions"
   ]
  },
  {
   "cell_type": "code",
   "execution_count": 12,
   "metadata": {
    "id": "Uw69lmAts4fc"
   },
   "outputs": [],
   "source": [
    "def prepare_primary_sale_data():\n",
    "  # read in data\n",
    "  df_primary_sales = pd.read_csv(f'data/Data_primary_sales.csv', index_col=0)\n",
    "  #df_visual_features = pd.read_csv(f'{folder}resnet50/resnet50PCA_features.csv', index_col=0) \n",
    "  #df = pd.read_csv('drive/MyDrive/training/secondary_sale_dataset.csv')\n",
    "  df_visual_features = pd.read_csv(f'data/EfficientNetV2M_PCA.csv', index_col=0)\n",
    "  median_prices = pd.read_csv(f'data/median_price_week_1.csv', index_col=0)\n",
    "  p_resale = pd.read_csv('data/p_resale.csv', index_col=0)\n",
    "  centrality_features = pd.read_csv(f'data/nft_transactions_with_centrality_with_index.csv', usecols=['Seller_address','Buyer_address','Datetime_updated','Unique_id_collection','centrality_seller','centrality_buyer'])\n",
    "  df_visual_features['image_name'] = df_visual_features.index\n",
    "  # merge p_resale features with primary sales\n",
    "  df_primary_sales = pd.merge(df_primary_sales, p_resale, how='left', left_on='index', right_index=True)\n",
    "  # merge median price features with primary sales\n",
    "  df_primary_sales.Datetime_updated = pd.to_datetime(df_primary_sales.Datetime_updated)\n",
    "  median_prices.Datetime_updated = pd.to_datetime(median_prices.Datetime_updated)\n",
    "  df_primary_sales = pd.merge(df_primary_sales, median_prices, how='left', on=['Datetime_updated', 'Collection_cleaned'])\n",
    "  # merge centrality features with primary sales\n",
    "  centrality_features.Datetime_updated = pd.to_datetime(centrality_features.Datetime_updated)\n",
    "  centrality_features.drop_duplicates(subset=['Seller_address','Buyer_address','Datetime_updated','Unique_id_collection'], inplace=True)\n",
    "  df_primary_sales = pd.merge(df_primary_sales, centrality_features, how='left', \n",
    "                              on=['Seller_address','Buyer_address','Datetime_updated','Unique_id_collection'])\n",
    "  # drop unnecesary columns (to save space in the ram)\n",
    "  df_primary_sales.drop(df_primary_sales.columns.difference(['Category','Price_USD','image_name','week_1','centrality_seller','centrality_buyer','p_resale','Unique_id_collection']), axis=1, inplace=True)\n",
    "  # remove rows in visual features (this means the image was not processed correctly(image was not downloaded etc.))\n",
    "  resnet50 = pd.read_csv(f'data/resnet50_PCA_features7.csv', index_col=0)\n",
    "  to_remove = resnet50[resnet50.iloc[:,0] == 0].index\n",
    "  df_visual_features.drop(to_remove, inplace=True)\n",
    "  # drop corresponding missing rows from primary sales\n",
    "  df_primary_sales.drop(df_primary_sales[~df_primary_sales['image_name'].isin(df_visual_features['image_name'])].index, inplace=True)\n",
    "  # merge visual features with primary sales\n",
    "  df_filtered = pd.merge(df_primary_sales, df_visual_features, on=['image_name'], how='left')\n",
    "  #df_filtered.drop(['image_name'], axis=1, inplace=True)\n",
    "  # drop null Price_USD rows\n",
    "  df_filtered.drop(df_filtered[df_filtered['Price_USD'].isna()].index, inplace=True)\n",
    "  # drop null median price rows\n",
    "  df_filtered.drop(df_filtered[df_filtered['week_1'].isna()].index, inplace=True)\n",
    "  # drop duplicate image_name rows\n",
    "  #df_filtered.drop_duplicates(subset=['image_name'], inplace=True)\n",
    "  return df_filtered\n",
    "\n",
    "def split_categories(df):\n",
    "  categorized_data = {}\n",
    "  for category in df['Category'].unique():\n",
    "    categorized_data[category] = {\n",
    "        'df': df[df['Category'] == category]\n",
    "    }\n",
    "  categorized_data['All'] = {\n",
    "      'df' : df\n",
    "  }\n",
    "  return categorized_data"
   ]
  },
  {
   "cell_type": "markdown",
   "metadata": {
    "id": "KqvyRefASAUF"
   },
   "source": [
    "### Algorithms"
   ]
  },
  {
   "cell_type": "code",
   "execution_count": 13,
   "metadata": {
    "id": "w_eVsObsL1qA"
   },
   "outputs": [],
   "source": [
    "def linear_regression():\n",
    "    return LinearRegression()\n",
    "\n",
    "def linear_svr():\n",
    "    return LinearSVR(random_state=0, tol=1e-5, verbose=True)\n",
    "\n",
    "def random_forest_regressor():\n",
    "    # {'bootstrap': True, 'criterion': 'mse', 'max_depth': 5, 'n_estimators': 1000}\n",
    "    return RandomForestRegressor(max_depth=5, random_state=0, criterion='squared_error', n_jobs=-1, bootstrap=True, verbose=True)\n",
    "\n",
    "def ada_boost_regressor():\n",
    "    return AdaBoostRegressor(random_state=0, n_estimators=100, loss='square')\n",
    "\n",
    "algorithms = {\n",
    "    'linear_regression': linear_regression,\n",
    "    'linear_svr': linear_svr,\n",
    "    'random_forest_regressor': random_forest_regressor,\n",
    "    'ada_boost_regressor': ada_boost_regressor\n",
    "}"
   ]
  },
  {
   "cell_type": "markdown",
   "metadata": {
    "id": "11UjNMscOq2L"
   },
   "source": [
    "## Prepare data"
   ]
  },
  {
   "cell_type": "code",
   "execution_count": 14,
   "metadata": {
    "colab": {
     "base_uri": "https://localhost:8080/"
    },
    "id": "nKPH-_ZGLULM",
    "outputId": "beb628dd-5c47-4eb8-934f-d405f2b7c99c"
   },
   "outputs": [
    {
     "name": "stderr",
     "output_type": "stream",
     "text": [
      "/var/folders/9t/frr8qwnd5h1_3mymt9gwrcm40000gn/T/ipykernel_22181/819027393.py:3: DtypeWarning: Columns (2,3,4,6,8,10,11,12,16,17,22) have mixed types. Specify dtype option on import or set low_memory=False.\n",
      "  df_primary_sales = pd.read_csv(f'data/Data_primary_sales.csv', index_col=0)\n"
     ]
    }
   ],
   "source": [
    "df2 = prepare_primary_sale_data()"
   ]
  },
  {
   "cell_type": "code",
   "execution_count": 18,
   "metadata": {},
   "outputs": [
    {
     "name": "stdout",
     "output_type": "stream",
     "text": [
      "3376194\n",
      "Index(['Price_USD', 'Unique_id_collection', 'Category', 'image_name',\n",
      "       'p_resale', 'week_1', 'centrality_seller', 'centrality_buyer', '0', '1',\n",
      "       '2', '3', '4', '5', '6'],\n",
      "      dtype='object')\n",
      "2358894\n"
     ]
    }
   ],
   "source": [
    "print(len(df2))\n",
    "print(df2.columns)\n",
    "df_filtered = df2.copy()\n",
    "#df_filtered.drop_duplicates(inplace=True)\n",
    "df_filtered.drop_duplicates(subset=['image_name', 'Price_USD'], inplace=True)\n",
    "print(len(df_filtered))\n",
    "\n",
    "df_filtered.to_csv(\"tempim2.csv\")"
   ]
  },
  {
   "cell_type": "code",
   "execution_count": 22,
   "metadata": {
    "id": "HjoIZW3_qdIa"
   },
   "outputs": [],
   "source": [
    "df = pd.read_csv('data/all.csv')"
   ]
  },
  {
   "cell_type": "code",
   "execution_count": 23,
   "metadata": {
    "colab": {
     "base_uri": "https://localhost:8080/",
     "height": 237
    },
    "id": "jmBV5gq5mbKc",
    "outputId": "9663d89d-ea24-49f6-f3ce-ac04fce5d831"
   },
   "outputs": [
    {
     "ename": "NameError",
     "evalue": "name 'secondary_sales' is not defined",
     "output_type": "error",
     "traceback": [
      "\u001b[0;31m---------------------------------------------------------------------------\u001b[0m",
      "\u001b[0;31mNameError\u001b[0m                                 Traceback (most recent call last)",
      "Cell \u001b[0;32mIn[23], line 1\u001b[0m\n\u001b[0;32m----> 1\u001b[0m df\u001b[38;5;241m.\u001b[39mmerge(\u001b[43msecondary_sales\u001b[49m, on\u001b[38;5;241m=\u001b[39m\u001b[38;5;124m'\u001b[39m\u001b[38;5;124mUnique_id_collection\u001b[39m\u001b[38;5;124m'\u001b[39m, how\u001b[38;5;241m=\u001b[39m\u001b[38;5;124m'\u001b[39m\u001b[38;5;124mleft\u001b[39m\u001b[38;5;124m'\u001b[39m)\u001b[38;5;241m.\u001b[39mloc[\u001b[38;5;241m400000\u001b[39m:,[\u001b[38;5;124m'\u001b[39m\u001b[38;5;124mUnique_id_collection\u001b[39m\u001b[38;5;124m'\u001b[39m,\u001b[38;5;124m'\u001b[39m\u001b[38;5;124mPrice_USD\u001b[39m\u001b[38;5;124m'\u001b[39m,\u001b[38;5;124m'\u001b[39m\u001b[38;5;124msecondary_sale\u001b[39m\u001b[38;5;124m'\u001b[39m]]\u001b[38;5;241m.\u001b[39mrename(columns\u001b[38;5;241m=\u001b[39m{\u001b[38;5;124m'\u001b[39m\u001b[38;5;124mUnique_id_collection\u001b[39m\u001b[38;5;124m'\u001b[39m:\u001b[38;5;124m'\u001b[39m\u001b[38;5;124mUnique NFT ID\u001b[39m\u001b[38;5;124m'\u001b[39m,\u001b[38;5;124m'\u001b[39m\u001b[38;5;124mPrice_USD\u001b[39m\u001b[38;5;124m'\u001b[39m:\u001b[38;5;124m'\u001b[39m\u001b[38;5;124mPrimary Sale Price\u001b[39m\u001b[38;5;124m'\u001b[39m,\u001b[38;5;124m'\u001b[39m\u001b[38;5;124msecondary_sale\u001b[39m\u001b[38;5;124m'\u001b[39m:\u001b[38;5;124m'\u001b[39m\u001b[38;5;124mSecondary Sale\u001b[39m\u001b[38;5;124m'\u001b[39m})\u001b[38;5;241m.\u001b[39mset_index(\u001b[38;5;124m'\u001b[39m\u001b[38;5;124mUnique NFT ID\u001b[39m\u001b[38;5;124m'\u001b[39m)\u001b[38;5;241m.\u001b[39mhead()\n",
      "\u001b[0;31mNameError\u001b[0m: name 'secondary_sales' is not defined"
     ]
    }
   ],
   "source": [
    "#df.merge(secondary_sales, on='Unique_id_collection', how='left').loc[400000:,['Unique_id_collection','Price_USD','secondary_sale']].rename(columns={'Unique_id_collection':'Unique NFT ID','Price_USD':'Primary Sale Price','secondary_sale':'Secondary Sale'}).set_index('Unique NFT ID').head()"
   ]
  },
  {
   "cell_type": "code",
   "execution_count": null,
   "metadata": {
    "id": "j-w-y8_5O03F"
   },
   "outputs": [],
   "source": [
    "#df.to_csv('data/all.csv')"
   ]
  },
  {
   "cell_type": "code",
   "execution_count": 24,
   "metadata": {
    "id": "ynF5qKCA3Atw"
   },
   "outputs": [],
   "source": [
    "def subset_by_iqr(df, column, whisker_width=1.5):\n",
    "    # Calculate Q1, Q2 and IQR\n",
    "    q1 = df[column].quantile(0.25)\n",
    "    q3 = df[column].quantile(0.75)\n",
    "    iqr = q3 - q1\n",
    "    # Apply filter with respect to IQR, including optional whiskers\n",
    "    filter = (df[column] >= q1 - whisker_width*iqr) & (df[column] <= q3 + whisker_width*iqr)\n",
    "    return df.loc[filter]\n",
    "\n",
    "df = subset_by_iqr(df, 'Price_USD')"
   ]
  },
  {
   "cell_type": "code",
   "execution_count": 25,
   "metadata": {
    "id": "nHQuYaevs-FB"
   },
   "outputs": [],
   "source": [
    "df_original = df.copy(deep=True)"
   ]
  },
  {
   "cell_type": "code",
   "execution_count": 26,
   "metadata": {
    "colab": {
     "base_uri": "https://localhost:8080/"
    },
    "id": "pbZ4QSqNtKQE",
    "outputId": "052d67d5-69c9-4553-d6c8-c7cc45e1de09"
   },
   "outputs": [
    {
     "name": "stdout",
     "output_type": "stream",
     "text": [
      "-17.912247483849022 19.18101463889701\n",
      "Percentiles: 25th=0.200, 75th=4.472, IQR=4.272\n",
      "-6.207909999999998 10.879226\n"
     ]
    }
   ],
   "source": [
    "std = df_original.Price_USD.std()\n",
    "mean = df_original.Price_USD.mean()\n",
    "print(mean - 3 * std, mean + 2 * std)\n",
    "q25, q75 = np.percentile(df_original.Price_USD, 25), np.percentile(df_original.Price_USD, 75)\n",
    "iqr = q75 - q25\n",
    "print('Percentiles: 25th=%.3f, 75th=%.3f, IQR=%.3f' % (q25, q75, iqr))\n",
    "# calculate the outlier cutoff\n",
    "cut_off = iqr * 1.5\n",
    "lower, upper = q25 - cut_off, q75 + cut_off\n",
    "print(lower, upper)"
   ]
  },
  {
   "cell_type": "code",
   "execution_count": 27,
   "metadata": {
    "colab": {
     "base_uri": "https://localhost:8080/",
     "height": 288
    },
    "id": "oMVldugcyqG1",
    "outputId": "0f248d6d-05aa-4ef3-f6e1-08916c310a16"
   },
   "outputs": [
    {
     "data": {
      "text/plain": [
       "<Axes: >"
      ]
     },
     "execution_count": 27,
     "metadata": {},
     "output_type": "execute_result"
    },
    {
     "data": {
      "image/png": "[encoded data removed]",
      "text/plain": [
       "<Figure size 640x480 with 1 Axes>"
      ]
     },
     "metadata": {},
     "output_type": "display_data"
    }
   ],
   "source": [
    "df_original.Price_USD.plot(kind='box', ylim=(0,40))"
   ]
  },
  {
   "cell_type": "code",
   "execution_count": 28,
   "metadata": {
    "colab": {
     "base_uri": "https://localhost:8080/"
    },
    "id": "bsPtpJfuxCdZ",
    "outputId": "de05bb89-f649-48f4-f6cd-8a90addd1f26"
   },
   "outputs": [
    {
     "data": {
      "text/plain": [
       "count    2822492.00000000000000000000\n",
       "mean           4.34370978979859678759\n",
       "std            7.41865242454920625903\n",
       "min            0.00000000000000015143\n",
       "25%            0.19976599999999999913\n",
       "50%            0.88231979261562698547\n",
       "75%            4.47154999999999969162\n",
       "max           35.72597987239583261498\n",
       "Name: Price_USD, dtype: object"
      ]
     },
     "execution_count": 28,
     "metadata": {},
     "output_type": "execute_result"
    }
   ],
   "source": [
    "df_original.Price_USD.describe().map('{:.20f}'.format)"
   ]
  },
  {
   "cell_type": "code",
   "execution_count": 29,
   "metadata": {
    "colab": {
     "base_uri": "https://localhost:8080/",
     "height": 175
    },
    "id": "MR7B56Ig1qUP",
    "outputId": "6755de03-c5a3-44c5-c4d5-daeb2c34bbd3"
   },
   "outputs": [
    {
     "data": {
      "text/html": [
       "<div>\n",
       "<style scoped>\n",
       "    .dataframe tbody tr th:only-of-type {\n",
       "        vertical-align: middle;\n",
       "    }\n",
       "\n",
       "    .dataframe tbody tr th {\n",
       "        vertical-align: top;\n",
       "    }\n",
       "\n",
       "    .dataframe thead th {\n",
       "        text-align: right;\n",
       "    }\n",
       "</style>\n",
       "<table border=\"1\" class=\"dataframe\">\n",
       "  <thead>\n",
       "    <tr style=\"text-align: right;\">\n",
       "      <th></th>\n",
       "      <th>0</th>\n",
       "    </tr>\n",
       "  </thead>\n",
       "  <tbody>\n",
       "    <tr>\n",
       "      <th>max</th>\n",
       "      <td>7501893.000</td>\n",
       "    </tr>\n",
       "    <tr>\n",
       "      <th>mean</th>\n",
       "      <td>131.624</td>\n",
       "    </tr>\n",
       "    <tr>\n",
       "      <th>std</th>\n",
       "      <td>6430.506</td>\n",
       "    </tr>\n",
       "    <tr>\n",
       "      <th>75%</th>\n",
       "      <td>14.455</td>\n",
       "    </tr>\n",
       "  </tbody>\n",
       "</table>\n",
       "</div>"
      ],
      "text/plain": [
       "                0\n",
       "max   7501893.000\n",
       "mean      131.624\n",
       "std      6430.506\n",
       "75%        14.455"
      ]
     },
     "execution_count": 29,
     "metadata": {},
     "output_type": "execute_result"
    }
   ],
   "source": [
    "pd.DataFrame.from_dict({'max':7501893.000,'mean':131.624,'std':6430.506,'75%':14.455},'index')"
   ]
  },
  {
   "cell_type": "code",
   "execution_count": 30,
   "metadata": {
    "colab": {
     "base_uri": "https://localhost:8080/"
    },
    "id": "xMIHjvWEyMwD",
    "outputId": "4dc8aeb1-99ae-4b80-9603-b9052541a103"
   },
   "outputs": [
    {
     "data": {
      "text/plain": [
       "count    2.822492e+06\n",
       "mean     4.343710e+00\n",
       "std      7.418652e+00\n",
       "min      1.514250e-16\n",
       "25%      1.997660e-01\n",
       "50%      8.823198e-01\n",
       "75%      4.471550e+00\n",
       "max      3.572598e+01\n",
       "Name: Price_USD, dtype: float64"
      ]
     },
     "execution_count": 30,
     "metadata": {},
     "output_type": "execute_result"
    }
   ],
   "source": [
    "df_original.Price_USD.describe()"
   ]
  },
  {
   "cell_type": "code",
   "execution_count": 31,
   "metadata": {
    "id": "GSkqnLga5yvW"
   },
   "outputs": [],
   "source": [
    "df_original['index_col'] = df_original.reset_index().index"
   ]
  },
  {
   "cell_type": "code",
   "execution_count": 32,
   "metadata": {
    "id": "FeUae0Dr3sT_"
   },
   "outputs": [],
   "source": [
    "# first 95% of the prices\n",
    "stds = np.full(df_original.shape[0], df_original.Price_USD.std() * 2 + df_original.Price_USD.mean())\n",
    "xs = np.arange(0,df_original.shape[0])"
   ]
  },
  {
   "cell_type": "code",
   "execution_count": 33,
   "metadata": {
    "colab": {
     "base_uri": "https://localhost:8080/",
     "height": 313
    },
    "id": "OdAabMHxsm9K",
    "outputId": "6d4ce5a2-fa20-4f57-8590-f978804d541f"
   },
   "outputs": [
    {
     "data": {
      "text/plain": [
       "<matplotlib.collections.PolyCollection at 0x1059dbac0>"
      ]
     },
     "execution_count": 33,
     "metadata": {},
     "output_type": "execute_result"
    },
    {
     "data": {
      "image/png": "[encoded data removed]",
      "text/plain": [
       "<Figure size 1400x400 with 1 Axes>"
      ]
     },
     "metadata": {},
     "output_type": "display_data"
    }
   ],
   "source": [
    "fig, ax = plt.subplots(figsize=(14, 4))\n",
    "plt.title('Sale prices of NFTs')\n",
    "df_original.rename(columns={'Price_USD':'Price in USD','index_col':'NFT sample'}).plot(kind='scatter',x='NFT sample',y='Price in USD',ylim=(0,40000),ax=ax)\n",
    "ax.fill_between(xs, stds, alpha=0.4,color='green')"
   ]
  },
  {
   "cell_type": "code",
   "execution_count": 34,
   "metadata": {
    "id": "GQTOu0S26Htb"
   },
   "outputs": [
    {
     "data": {
      "text/plain": [
       "0"
      ]
     },
     "execution_count": 34,
     "metadata": {},
     "output_type": "execute_result"
    }
   ],
   "source": [
    "df_original[df_original.Price_USD > 35.72598188568845].shape[0]"
   ]
  },
  {
   "cell_type": "code",
   "execution_count": 35,
   "metadata": {
    "id": "2wmFuKWILzhD"
   },
   "outputs": [],
   "source": [
    "#df.drop(df[df.Price_USD > 35.72598188568845].index, inplace=True)\n",
    "# DROPPING NAN HEREEEEEEEEEEEEEEEEEEEEEEEEEEEEEEEEEEEEEEEEEEEEEEEE\n",
    "#df.dropna(inplace=True)\n",
    "categorized_data = split_categories(df)\n",
    "feature_columns = ['0','1','2','3','4','5','6','week_1','centrality_seller','centrality_buyer','p_resale']\n",
    "label_column = 'Price_USD'\n",
    "for key, item in categorized_data.items():\n",
    "  category_df = item['df']\n",
    "  X_ = category_df[feature_columns].values\n",
    "  y_ = category_df[label_column].values\n",
    "  #X_train, X_test, y_train, y_test = train_test_split(X_, y_, test_size=0.08, random_state=42)\n",
    "  #categorized_data[key]['X_train'] = X_train\n",
    "  #categorized_data[key]['X_test'] = X_test\n",
    "  #categorized_data[key]['y_train'] = y_train\n",
    "  #categorized_data[key]['y_test'] = y_test\n",
    "  X, X_test, y, y_test = train_test_split(X_,y_,test_size=0.2,train_size=0.8)\n",
    "  X_train, X_validation, y_train, y_validation = train_test_split(X,y,test_size = 0.25,train_size =0.75)\n",
    "  categorized_data[key]['X_train'] = X_train\n",
    "  categorized_data[key]['X_test'] = X_test\n",
    "  categorized_data[key]['y_train'] = y_train\n",
    "  categorized_data[key]['y_test'] = y_test\n",
    "  categorized_data[key]['X_validation'] = X_validation\n",
    "  categorized_data[key]['y_validation'] = y_validation"
   ]
  },
  {
   "cell_type": "code",
   "execution_count": 36,
   "metadata": {
    "colab": {
     "base_uri": "https://localhost:8080/"
    },
    "id": "c5p9gGOKQuEo",
    "outputId": "d1e047fe-6c53-4943-8f3b-dc5e5f9b0bb7"
   },
   "outputs": [
    {
     "name": "stdout",
     "output_type": "stream",
     "text": [
      "Games\n",
      "\tTrain count: 752,625\n",
      "\tTest count: 250,876\n",
      "\tValidation count: 250,875\n",
      "Art\n",
      "\tTrain count: 356,308\n",
      "\tTest count: 118,770\n",
      "\tValidation count: 118,770\n",
      "Other\n",
      "\tTrain count: 53,100\n",
      "\tTest count: 17,701\n",
      "\tValidation count: 17,701\n",
      "Collectible\n",
      "\tTrain count: 520,026\n",
      "\tTest count: 173,342\n",
      "\tValidation count: 173,342\n",
      "Utility\n",
      "\tTrain count: 1,701\n",
      "\tTest count: 568\n",
      "\tValidation count: 567\n",
      "Metaverse\n",
      "\tTrain count: 9,732\n",
      "\tTest count: 3,244\n",
      "\tValidation count: 3,244\n",
      "All\n",
      "\tTrain count: 1,693,494\n",
      "\tTest count: 564,499\n",
      "\tValidation count: 564,499\n"
     ]
    }
   ],
   "source": [
    "for key, item in categorized_data.items():\n",
    "  print(f'{key}\\n\\tTrain count: {len(item[\"X_train\"]):,}\\n\\tTest count: {len(item[\"X_test\"]):,}\\n\\tValidation count: {len(item[\"X_validation\"]):,}')"
   ]
  },
  {
   "cell_type": "markdown",
   "metadata": {
    "id": "wcusfIeeHpuc"
   },
   "source": [
    "## Old way"
   ]
  },
  {
   "cell_type": "code",
   "execution_count": 37,
   "metadata": {
    "id": "DbzVIDo_qxse"
   },
   "outputs": [],
   "source": [
    "X = df[feature_columns].values\n",
    "y = df[label_column].values\n",
    "x_scaler = StandardScaler()\n",
    "y_scaler = StandardScaler()\n",
    "x_scaler.fit(X)\n",
    "y_scaler.fit(y.reshape(-1, 1))\n",
    "X = x_scaler.transform(X)\n",
    "y = y_scaler.transform(y.reshape(-1, 1)).reshape(df.shape[0],)\n",
    "x_minmax_scaler = MinMaxScaler()\n",
    "y_minmax_scaler = MinMaxScaler()\n",
    "X = x_minmax_scaler.fit_transform(X)\n",
    "y = y_minmax_scaler.fit_transform(y.reshape(-1, 1)).reshape(df.shape[0],)\n",
    "df[feature_columns] = X\n",
    "df[label_column] = y\n",
    "\n",
    "\n",
    "# X_train, X_test, y_train, y_test = train_test_split(X, y, test_size=0.08, random_state=42)\n",
    "# print(f'\\n{len(X_train)} training, {len(X_test)} test samples')\n",
    "# categorized_data = split_categories(df)\n",
    "# for category, category_data in categorized_data.items():\n",
    "#   print(f'\\n{category} category: {category_data[\"df\"].shape[0]} samples')\n",
    "# plt.title(\"Number of Samples\", fontsize=14)\n",
    "# plt.bar(x=df.Category.value_counts().index,\n",
    "#         height=df.Category.value_counts().values)"
   ]
  },
  {
   "cell_type": "code",
   "execution_count": 38,
   "metadata": {
    "colab": {
     "base_uri": "https://localhost:8080/",
     "height": 457
    },
    "id": "RnvSIEYjBlpw",
    "outputId": "57cc445d-6c92-4292-dc1b-deacfb7dcd78"
   },
   "outputs": [
    {
     "ename": "ValueError",
     "evalue": "could not convert string to float: 'Games'",
     "output_type": "error",
     "traceback": [
      "\u001b[0;31m---------------------------------------------------------------------------\u001b[0m",
      "\u001b[0;31mValueError\u001b[0m                                Traceback (most recent call last)",
      "Cell \u001b[0;32mIn[38], line 2\u001b[0m\n\u001b[1;32m      1\u001b[0m \u001b[38;5;28;01mimport\u001b[39;00m \u001b[38;5;21;01mseaborn\u001b[39;00m \u001b[38;5;28;01mas\u001b[39;00m \u001b[38;5;21;01msns\u001b[39;00m\n\u001b[0;32m----> 2\u001b[0m df_corr \u001b[38;5;241m=\u001b[39m \u001b[43mdf\u001b[49m\u001b[38;5;241;43m.\u001b[39;49m\u001b[43mdropna\u001b[49m\u001b[43m(\u001b[49m\u001b[43m)\u001b[49m\u001b[38;5;241;43m.\u001b[39;49m\u001b[43mcorr\u001b[49m\u001b[43m(\u001b[49m\u001b[43mmethod\u001b[49m\u001b[43m \u001b[49m\u001b[38;5;241;43m=\u001b[39;49m\u001b[38;5;124;43m'\u001b[39;49m\u001b[38;5;124;43mpearson\u001b[39;49m\u001b[38;5;124;43m'\u001b[39;49m\u001b[43m)\u001b[49m\n\u001b[1;32m      3\u001b[0m cm \u001b[38;5;241m=\u001b[39m sns\u001b[38;5;241m.\u001b[39mlight_palette(\u001b[38;5;124m\"\u001b[39m\u001b[38;5;124mgreen\u001b[39m\u001b[38;5;124m\"\u001b[39m, as_cmap\u001b[38;5;241m=\u001b[39m\u001b[38;5;28;01mTrue\u001b[39;00m)\n\u001b[1;32m      4\u001b[0m s \u001b[38;5;241m=\u001b[39m df_corr\u001b[38;5;241m.\u001b[39mstyle\u001b[38;5;241m.\u001b[39mbackground_gradient(cmap\u001b[38;5;241m=\u001b[39mcm)\n",
      "File \u001b[0;32m~/anaconda3/lib/python3.10/site-packages/pandas/core/frame.py:10054\u001b[0m, in \u001b[0;36mDataFrame.corr\u001b[0;34m(self, method, min_periods, numeric_only)\u001b[0m\n\u001b[1;32m  10052\u001b[0m cols \u001b[38;5;241m=\u001b[39m data\u001b[38;5;241m.\u001b[39mcolumns\n\u001b[1;32m  10053\u001b[0m idx \u001b[38;5;241m=\u001b[39m cols\u001b[38;5;241m.\u001b[39mcopy()\n\u001b[0;32m> 10054\u001b[0m mat \u001b[38;5;241m=\u001b[39m \u001b[43mdata\u001b[49m\u001b[38;5;241;43m.\u001b[39;49m\u001b[43mto_numpy\u001b[49m\u001b[43m(\u001b[49m\u001b[43mdtype\u001b[49m\u001b[38;5;241;43m=\u001b[39;49m\u001b[38;5;28;43mfloat\u001b[39;49m\u001b[43m,\u001b[49m\u001b[43m \u001b[49m\u001b[43mna_value\u001b[49m\u001b[38;5;241;43m=\u001b[39;49m\u001b[43mnp\u001b[49m\u001b[38;5;241;43m.\u001b[39;49m\u001b[43mnan\u001b[49m\u001b[43m,\u001b[49m\u001b[43m \u001b[49m\u001b[43mcopy\u001b[49m\u001b[38;5;241;43m=\u001b[39;49m\u001b[38;5;28;43;01mFalse\u001b[39;49;00m\u001b[43m)\u001b[49m\n\u001b[1;32m  10056\u001b[0m \u001b[38;5;28;01mif\u001b[39;00m method \u001b[38;5;241m==\u001b[39m \u001b[38;5;124m\"\u001b[39m\u001b[38;5;124mpearson\u001b[39m\u001b[38;5;124m\"\u001b[39m:\n\u001b[1;32m  10057\u001b[0m     correl \u001b[38;5;241m=\u001b[39m libalgos\u001b[38;5;241m.\u001b[39mnancorr(mat, minp\u001b[38;5;241m=\u001b[39mmin_periods)\n",
      "File \u001b[0;32m~/anaconda3/lib/python3.10/site-packages/pandas/core/frame.py:1838\u001b[0m, in \u001b[0;36mDataFrame.to_numpy\u001b[0;34m(self, dtype, copy, na_value)\u001b[0m\n\u001b[1;32m   1836\u001b[0m \u001b[38;5;28;01mif\u001b[39;00m dtype \u001b[38;5;129;01mis\u001b[39;00m \u001b[38;5;129;01mnot\u001b[39;00m \u001b[38;5;28;01mNone\u001b[39;00m:\n\u001b[1;32m   1837\u001b[0m     dtype \u001b[38;5;241m=\u001b[39m np\u001b[38;5;241m.\u001b[39mdtype(dtype)\n\u001b[0;32m-> 1838\u001b[0m result \u001b[38;5;241m=\u001b[39m \u001b[38;5;28;43mself\u001b[39;49m\u001b[38;5;241;43m.\u001b[39;49m\u001b[43m_mgr\u001b[49m\u001b[38;5;241;43m.\u001b[39;49m\u001b[43mas_array\u001b[49m\u001b[43m(\u001b[49m\u001b[43mdtype\u001b[49m\u001b[38;5;241;43m=\u001b[39;49m\u001b[43mdtype\u001b[49m\u001b[43m,\u001b[49m\u001b[43m \u001b[49m\u001b[43mcopy\u001b[49m\u001b[38;5;241;43m=\u001b[39;49m\u001b[43mcopy\u001b[49m\u001b[43m,\u001b[49m\u001b[43m \u001b[49m\u001b[43mna_value\u001b[49m\u001b[38;5;241;43m=\u001b[39;49m\u001b[43mna_value\u001b[49m\u001b[43m)\u001b[49m\n\u001b[1;32m   1839\u001b[0m \u001b[38;5;28;01mif\u001b[39;00m result\u001b[38;5;241m.\u001b[39mdtype \u001b[38;5;129;01mis\u001b[39;00m \u001b[38;5;129;01mnot\u001b[39;00m dtype:\n\u001b[1;32m   1840\u001b[0m     result \u001b[38;5;241m=\u001b[39m np\u001b[38;5;241m.\u001b[39marray(result, dtype\u001b[38;5;241m=\u001b[39mdtype, copy\u001b[38;5;241m=\u001b[39m\u001b[38;5;28;01mFalse\u001b[39;00m)\n",
      "File \u001b[0;32m~/anaconda3/lib/python3.10/site-packages/pandas/core/internals/managers.py:1732\u001b[0m, in \u001b[0;36mBlockManager.as_array\u001b[0;34m(self, dtype, copy, na_value)\u001b[0m\n\u001b[1;32m   1730\u001b[0m         arr\u001b[38;5;241m.\u001b[39mflags\u001b[38;5;241m.\u001b[39mwriteable \u001b[38;5;241m=\u001b[39m \u001b[38;5;28;01mFalse\u001b[39;00m\n\u001b[1;32m   1731\u001b[0m \u001b[38;5;28;01melse\u001b[39;00m:\n\u001b[0;32m-> 1732\u001b[0m     arr \u001b[38;5;241m=\u001b[39m \u001b[38;5;28;43mself\u001b[39;49m\u001b[38;5;241;43m.\u001b[39;49m\u001b[43m_interleave\u001b[49m\u001b[43m(\u001b[49m\u001b[43mdtype\u001b[49m\u001b[38;5;241;43m=\u001b[39;49m\u001b[43mdtype\u001b[49m\u001b[43m,\u001b[49m\u001b[43m \u001b[49m\u001b[43mna_value\u001b[49m\u001b[38;5;241;43m=\u001b[39;49m\u001b[43mna_value\u001b[49m\u001b[43m)\u001b[49m\n\u001b[1;32m   1733\u001b[0m     \u001b[38;5;66;03m# The underlying data was copied within _interleave, so no need\u001b[39;00m\n\u001b[1;32m   1734\u001b[0m     \u001b[38;5;66;03m# to further copy if copy=True or setting na_value\u001b[39;00m\n\u001b[1;32m   1736\u001b[0m \u001b[38;5;28;01mif\u001b[39;00m na_value \u001b[38;5;129;01mis\u001b[39;00m \u001b[38;5;129;01mnot\u001b[39;00m lib\u001b[38;5;241m.\u001b[39mno_default:\n",
      "File \u001b[0;32m~/anaconda3/lib/python3.10/site-packages/pandas/core/internals/managers.py:1794\u001b[0m, in \u001b[0;36mBlockManager._interleave\u001b[0;34m(self, dtype, na_value)\u001b[0m\n\u001b[1;32m   1792\u001b[0m     \u001b[38;5;28;01melse\u001b[39;00m:\n\u001b[1;32m   1793\u001b[0m         arr \u001b[38;5;241m=\u001b[39m blk\u001b[38;5;241m.\u001b[39mget_values(dtype)\n\u001b[0;32m-> 1794\u001b[0m     result[rl\u001b[38;5;241m.\u001b[39mindexer] \u001b[38;5;241m=\u001b[39m arr\n\u001b[1;32m   1795\u001b[0m     itemmask[rl\u001b[38;5;241m.\u001b[39mindexer] \u001b[38;5;241m=\u001b[39m \u001b[38;5;241m1\u001b[39m\n\u001b[1;32m   1797\u001b[0m \u001b[38;5;28;01mif\u001b[39;00m \u001b[38;5;129;01mnot\u001b[39;00m itemmask\u001b[38;5;241m.\u001b[39mall():\n",
      "\u001b[0;31mValueError\u001b[0m: could not convert string to float: 'Games'"
     ]
    }
   ],
   "source": [
    "import seaborn as sns\n",
    "df_corr = df.dropna().corr(method ='pearson')\n",
    "cm = sns.light_palette(\"green\", as_cmap=True)\n",
    "s = df_corr.style.background_gradient(cmap=cm)\n",
    "s"
   ]
  },
  {
   "cell_type": "markdown",
   "metadata": {
    "id": "Myn6ztiUSEd8"
   },
   "source": [
    "## Visualize"
   ]
  },
  {
   "cell_type": "code",
   "execution_count": 39,
   "metadata": {
    "colab": {
     "base_uri": "https://localhost:8080/",
     "height": 265
    },
    "id": "xdrk1bvxrNfH",
    "outputId": "8ab2f7f8-38a5-43e8-ffb8-ba803afb4514"
   },
   "outputs": [
    {
     "ename": "ValueError",
     "evalue": "could not convert string to float: 'Games'",
     "output_type": "error",
     "traceback": [
      "\u001b[0;31m---------------------------------------------------------------------------\u001b[0m",
      "\u001b[0;31mValueError\u001b[0m                                Traceback (most recent call last)",
      "Cell \u001b[0;32mIn[39], line 16\u001b[0m\n\u001b[1;32m     14\u001b[0m fig \u001b[38;5;241m=\u001b[39m plt\u001b[38;5;241m.\u001b[39mfigure()\n\u001b[1;32m     15\u001b[0m ax \u001b[38;5;241m=\u001b[39m fig\u001b[38;5;241m.\u001b[39madd_subplot(projection\u001b[38;5;241m=\u001b[39m\u001b[38;5;124m'\u001b[39m\u001b[38;5;124m3d\u001b[39m\u001b[38;5;124m'\u001b[39m)\n\u001b[0;32m---> 16\u001b[0m \u001b[43max\u001b[49m\u001b[38;5;241;43m.\u001b[39;49m\u001b[43mscatter\u001b[49m\u001b[43m(\u001b[49m\u001b[43mvalues\u001b[49m\u001b[43m[\u001b[49m\u001b[43m:\u001b[49m\u001b[43m,\u001b[49m\u001b[38;5;241;43m0\u001b[39;49m\u001b[43m]\u001b[49m\u001b[43m,\u001b[49m\u001b[43m \u001b[49m\u001b[43mvalues\u001b[49m\u001b[43m[\u001b[49m\u001b[43m:\u001b[49m\u001b[43m,\u001b[49m\u001b[38;5;241;43m1\u001b[39;49m\u001b[43m]\u001b[49m\u001b[43m,\u001b[49m\u001b[43m \u001b[49m\u001b[43mvalues\u001b[49m\u001b[43m[\u001b[49m\u001b[43m:\u001b[49m\u001b[43m,\u001b[49m\u001b[38;5;241;43m2\u001b[39;49m\u001b[43m]\u001b[49m\u001b[43m,\u001b[49m\u001b[43m \u001b[49m\u001b[43mc\u001b[49m\u001b[38;5;241;43m=\u001b[39;49m\u001b[43mcolor_list\u001b[49m\u001b[43m,\u001b[49m\u001b[43m \u001b[49m\u001b[43ms\u001b[49m\u001b[38;5;241;43m=\u001b[39;49m\u001b[38;5;241;43m3\u001b[39;49m\u001b[43m)\u001b[49m\n",
      "File \u001b[0;32m~/anaconda3/lib/python3.10/site-packages/matplotlib/__init__.py:1446\u001b[0m, in \u001b[0;36m_preprocess_data.<locals>.inner\u001b[0;34m(ax, data, *args, **kwargs)\u001b[0m\n\u001b[1;32m   1443\u001b[0m \u001b[38;5;129m@functools\u001b[39m\u001b[38;5;241m.\u001b[39mwraps(func)\n\u001b[1;32m   1444\u001b[0m \u001b[38;5;28;01mdef\u001b[39;00m \u001b[38;5;21minner\u001b[39m(ax, \u001b[38;5;241m*\u001b[39margs, data\u001b[38;5;241m=\u001b[39m\u001b[38;5;28;01mNone\u001b[39;00m, \u001b[38;5;241m*\u001b[39m\u001b[38;5;241m*\u001b[39mkwargs):\n\u001b[1;32m   1445\u001b[0m     \u001b[38;5;28;01mif\u001b[39;00m data \u001b[38;5;129;01mis\u001b[39;00m \u001b[38;5;28;01mNone\u001b[39;00m:\n\u001b[0;32m-> 1446\u001b[0m         \u001b[38;5;28;01mreturn\u001b[39;00m \u001b[43mfunc\u001b[49m\u001b[43m(\u001b[49m\u001b[43max\u001b[49m\u001b[43m,\u001b[49m\u001b[43m \u001b[49m\u001b[38;5;241;43m*\u001b[39;49m\u001b[38;5;28;43mmap\u001b[39;49m\u001b[43m(\u001b[49m\u001b[43msanitize_sequence\u001b[49m\u001b[43m,\u001b[49m\u001b[43m \u001b[49m\u001b[43margs\u001b[49m\u001b[43m)\u001b[49m\u001b[43m,\u001b[49m\u001b[43m \u001b[49m\u001b[38;5;241;43m*\u001b[39;49m\u001b[38;5;241;43m*\u001b[39;49m\u001b[43mkwargs\u001b[49m\u001b[43m)\u001b[49m\n\u001b[1;32m   1448\u001b[0m     bound \u001b[38;5;241m=\u001b[39m new_sig\u001b[38;5;241m.\u001b[39mbind(ax, \u001b[38;5;241m*\u001b[39margs, \u001b[38;5;241m*\u001b[39m\u001b[38;5;241m*\u001b[39mkwargs)\n\u001b[1;32m   1449\u001b[0m     auto_label \u001b[38;5;241m=\u001b[39m (bound\u001b[38;5;241m.\u001b[39marguments\u001b[38;5;241m.\u001b[39mget(label_namer)\n\u001b[1;32m   1450\u001b[0m                   \u001b[38;5;129;01mor\u001b[39;00m bound\u001b[38;5;241m.\u001b[39mkwargs\u001b[38;5;241m.\u001b[39mget(label_namer))\n",
      "File \u001b[0;32m~/anaconda3/lib/python3.10/site-packages/mpl_toolkits/mplot3d/axes3d.py:2281\u001b[0m, in \u001b[0;36mAxes3D.scatter\u001b[0;34m(self, xs, ys, zs, zdir, s, c, depthshade, *args, **kwargs)\u001b[0m\n\u001b[1;32m   2278\u001b[0m \u001b[38;5;28;01mif\u001b[39;00m \u001b[38;5;28mself\u001b[39m\u001b[38;5;241m.\u001b[39m_zmargin \u001b[38;5;241m<\u001b[39m \u001b[38;5;241m0.05\u001b[39m \u001b[38;5;129;01mand\u001b[39;00m xs\u001b[38;5;241m.\u001b[39msize \u001b[38;5;241m>\u001b[39m \u001b[38;5;241m0\u001b[39m:\n\u001b[1;32m   2279\u001b[0m     \u001b[38;5;28mself\u001b[39m\u001b[38;5;241m.\u001b[39mset_zmargin(\u001b[38;5;241m0.05\u001b[39m)\n\u001b[0;32m-> 2281\u001b[0m \u001b[38;5;28;43mself\u001b[39;49m\u001b[38;5;241;43m.\u001b[39;49m\u001b[43mauto_scale_xyz\u001b[49m\u001b[43m(\u001b[49m\u001b[43mxs\u001b[49m\u001b[43m,\u001b[49m\u001b[43m \u001b[49m\u001b[43mys\u001b[49m\u001b[43m,\u001b[49m\u001b[43m \u001b[49m\u001b[43mzs\u001b[49m\u001b[43m,\u001b[49m\u001b[43m \u001b[49m\u001b[43mhad_data\u001b[49m\u001b[43m)\u001b[49m\n\u001b[1;32m   2283\u001b[0m \u001b[38;5;28;01mreturn\u001b[39;00m patches\n",
      "File \u001b[0;32m~/anaconda3/lib/python3.10/site-packages/mpl_toolkits/mplot3d/axes3d.py:608\u001b[0m, in \u001b[0;36mAxes3D.auto_scale_xyz\u001b[0;34m(self, X, Y, Z, had_data)\u001b[0m\n\u001b[1;32m    604\u001b[0m \u001b[38;5;28;01mdef\u001b[39;00m \u001b[38;5;21mauto_scale_xyz\u001b[39m(\u001b[38;5;28mself\u001b[39m, X, Y, Z\u001b[38;5;241m=\u001b[39m\u001b[38;5;28;01mNone\u001b[39;00m, had_data\u001b[38;5;241m=\u001b[39m\u001b[38;5;28;01mNone\u001b[39;00m):\n\u001b[1;32m    605\u001b[0m     \u001b[38;5;66;03m# This updates the bounding boxes as to keep a record as to what the\u001b[39;00m\n\u001b[1;32m    606\u001b[0m     \u001b[38;5;66;03m# minimum sized rectangular volume holds the data.\u001b[39;00m\n\u001b[1;32m    607\u001b[0m     \u001b[38;5;28;01mif\u001b[39;00m np\u001b[38;5;241m.\u001b[39mshape(X) \u001b[38;5;241m==\u001b[39m np\u001b[38;5;241m.\u001b[39mshape(Y):\n\u001b[0;32m--> 608\u001b[0m         \u001b[38;5;28;43mself\u001b[39;49m\u001b[38;5;241;43m.\u001b[39;49m\u001b[43mxy_dataLim\u001b[49m\u001b[38;5;241;43m.\u001b[39;49m\u001b[43mupdate_from_data_xy\u001b[49m\u001b[43m(\u001b[49m\n\u001b[1;32m    609\u001b[0m \u001b[43m            \u001b[49m\u001b[43mnp\u001b[49m\u001b[38;5;241;43m.\u001b[39;49m\u001b[43mcolumn_stack\u001b[49m\u001b[43m(\u001b[49m\u001b[43m[\u001b[49m\u001b[43mnp\u001b[49m\u001b[38;5;241;43m.\u001b[39;49m\u001b[43mravel\u001b[49m\u001b[43m(\u001b[49m\u001b[43mX\u001b[49m\u001b[43m)\u001b[49m\u001b[43m,\u001b[49m\u001b[43m \u001b[49m\u001b[43mnp\u001b[49m\u001b[38;5;241;43m.\u001b[39;49m\u001b[43mravel\u001b[49m\u001b[43m(\u001b[49m\u001b[43mY\u001b[49m\u001b[43m)\u001b[49m\u001b[43m]\u001b[49m\u001b[43m)\u001b[49m\u001b[43m,\u001b[49m\u001b[43m \u001b[49m\u001b[38;5;129;43;01mnot\u001b[39;49;00m\u001b[43m \u001b[49m\u001b[43mhad_data\u001b[49m\u001b[43m)\u001b[49m\n\u001b[1;32m    610\u001b[0m     \u001b[38;5;28;01melse\u001b[39;00m:\n\u001b[1;32m    611\u001b[0m         \u001b[38;5;28mself\u001b[39m\u001b[38;5;241m.\u001b[39mxy_dataLim\u001b[38;5;241m.\u001b[39mupdate_from_data_x(X, \u001b[38;5;129;01mnot\u001b[39;00m had_data)\n",
      "File \u001b[0;32m~/anaconda3/lib/python3.10/site-packages/matplotlib/transforms.py:954\u001b[0m, in \u001b[0;36mBbox.update_from_data_xy\u001b[0;34m(self, xy, ignore, updatex, updatey)\u001b[0m\n\u001b[1;32m    951\u001b[0m \u001b[38;5;28;01mif\u001b[39;00m \u001b[38;5;28mlen\u001b[39m(xy) \u001b[38;5;241m==\u001b[39m \u001b[38;5;241m0\u001b[39m:\n\u001b[1;32m    952\u001b[0m     \u001b[38;5;28;01mreturn\u001b[39;00m\n\u001b[0;32m--> 954\u001b[0m path \u001b[38;5;241m=\u001b[39m \u001b[43mPath\u001b[49m\u001b[43m(\u001b[49m\u001b[43mxy\u001b[49m\u001b[43m)\u001b[49m\n\u001b[1;32m    955\u001b[0m \u001b[38;5;28mself\u001b[39m\u001b[38;5;241m.\u001b[39mupdate_from_path(path, ignore\u001b[38;5;241m=\u001b[39mignore,\n\u001b[1;32m    956\u001b[0m                       updatex\u001b[38;5;241m=\u001b[39mupdatex, updatey\u001b[38;5;241m=\u001b[39mupdatey)\n",
      "File \u001b[0;32m~/anaconda3/lib/python3.10/site-packages/matplotlib/path.py:129\u001b[0m, in \u001b[0;36mPath.__init__\u001b[0;34m(self, vertices, codes, _interpolation_steps, closed, readonly)\u001b[0m\n\u001b[1;32m     99\u001b[0m \u001b[38;5;28;01mdef\u001b[39;00m \u001b[38;5;21m__init__\u001b[39m(\u001b[38;5;28mself\u001b[39m, vertices, codes\u001b[38;5;241m=\u001b[39m\u001b[38;5;28;01mNone\u001b[39;00m, _interpolation_steps\u001b[38;5;241m=\u001b[39m\u001b[38;5;241m1\u001b[39m,\n\u001b[1;32m    100\u001b[0m              closed\u001b[38;5;241m=\u001b[39m\u001b[38;5;28;01mFalse\u001b[39;00m, readonly\u001b[38;5;241m=\u001b[39m\u001b[38;5;28;01mFalse\u001b[39;00m):\n\u001b[1;32m    101\u001b[0m \u001b[38;5;250m    \u001b[39m\u001b[38;5;124;03m\"\"\"\u001b[39;00m\n\u001b[1;32m    102\u001b[0m \u001b[38;5;124;03m    Create a new path with the given vertices and codes.\u001b[39;00m\n\u001b[1;32m    103\u001b[0m \n\u001b[0;32m   (...)\u001b[0m\n\u001b[1;32m    127\u001b[0m \u001b[38;5;124;03m        and codes as read-only arrays.\u001b[39;00m\n\u001b[1;32m    128\u001b[0m \u001b[38;5;124;03m    \"\"\"\u001b[39;00m\n\u001b[0;32m--> 129\u001b[0m     vertices \u001b[38;5;241m=\u001b[39m \u001b[43m_to_unmasked_float_array\u001b[49m\u001b[43m(\u001b[49m\u001b[43mvertices\u001b[49m\u001b[43m)\u001b[49m\n\u001b[1;32m    130\u001b[0m     _api\u001b[38;5;241m.\u001b[39mcheck_shape((\u001b[38;5;28;01mNone\u001b[39;00m, \u001b[38;5;241m2\u001b[39m), vertices\u001b[38;5;241m=\u001b[39mvertices)\n\u001b[1;32m    132\u001b[0m     \u001b[38;5;28;01mif\u001b[39;00m codes \u001b[38;5;129;01mis\u001b[39;00m \u001b[38;5;129;01mnot\u001b[39;00m \u001b[38;5;28;01mNone\u001b[39;00m:\n",
      "File \u001b[0;32m~/anaconda3/lib/python3.10/site-packages/matplotlib/cbook/__init__.py:1340\u001b[0m, in \u001b[0;36m_to_unmasked_float_array\u001b[0;34m(x)\u001b[0m\n\u001b[1;32m   1338\u001b[0m     \u001b[38;5;28;01mreturn\u001b[39;00m np\u001b[38;5;241m.\u001b[39mma\u001b[38;5;241m.\u001b[39masarray(x, \u001b[38;5;28mfloat\u001b[39m)\u001b[38;5;241m.\u001b[39mfilled(np\u001b[38;5;241m.\u001b[39mnan)\n\u001b[1;32m   1339\u001b[0m \u001b[38;5;28;01melse\u001b[39;00m:\n\u001b[0;32m-> 1340\u001b[0m     \u001b[38;5;28;01mreturn\u001b[39;00m \u001b[43mnp\u001b[49m\u001b[38;5;241;43m.\u001b[39;49m\u001b[43masarray\u001b[49m\u001b[43m(\u001b[49m\u001b[43mx\u001b[49m\u001b[43m,\u001b[49m\u001b[43m \u001b[49m\u001b[38;5;28;43mfloat\u001b[39;49m\u001b[43m)\u001b[49m\n",
      "\u001b[0;31mValueError\u001b[0m: could not convert string to float: 'Games'"
     ]
    },
    {
     "data": {
      "image/png": "[encoded data removed]",
      "text/plain": [
       "<Figure size 640x480 with 1 Axes>"
      ]
     },
     "metadata": {},
     "output_type": "display_data"
    }
   ],
   "source": [
    "colors = {\n",
    "    'Games': 'red',\n",
    "    'Art': 'green',\n",
    "    'Other': 'blue',\n",
    "    'Collectible': 'yellow',\n",
    "    'Metaverse': 'pink',\n",
    "    'Utility': 'purple'\n",
    "}\n",
    "\n",
    "X = df.iloc[::6]\n",
    "color_list = X.dropna(subset=['Category'])['Category'].map(colors).values\n",
    "values = X.iloc[:,2:].values\n",
    "\n",
    "fig = plt.figure()\n",
    "ax = fig.add_subplot(projection='3d')\n",
    "ax.scatter(values[:,0], values[:,1], values[:,2], c=color_list, s=3)"
   ]
  },
  {
   "cell_type": "code",
   "execution_count": null,
   "metadata": {
    "id": "JSkyWPhbt-Sx"
   },
   "outputs": [],
   "source": [
    "import plotly.graph_objs as go\n",
    "nth = 100\n",
    "\n",
    "categories = X.dropna(subset=['Category'])['Category']\n",
    "layout = go.Layout(\n",
    "    legend=dict(\n",
    "        x=1,\n",
    "        y=1\n",
    "    ),\n",
    "    margin=dict(\n",
    "        l=0,\n",
    "        r=0,\n",
    "        b=0,\n",
    "        t=0\n",
    "    ),\n",
    "    scene=go.layout.Scene(\n",
    "      xaxis=go.layout.scene.XAxis(title='1st Principle Component'),\n",
    "      yaxis=go.layout.scene.YAxis(title='2nd Principle Component'),\n",
    "      zaxis=go.layout.scene.ZAxis(title='3rd Principle Component')\n",
    "    )\n",
    ")\n",
    "\n",
    "fig = go.Figure(layout=layout)\n",
    "\n",
    "for category in categories.unique():\n",
    "  dfp = categories[categories==category][::6]\n",
    "  print(category)\n",
    "  print(dfp.shape)\n",
    "  print(dfp.index)\n",
    "  fig.add_trace(go.Scatter3d(\n",
    "    x=X.loc[dfp.index,'2'].values,\n",
    "    y=X.loc[dfp.index,'3'].values,\n",
    "    z=X.loc[dfp.index,'4'].values,\n",
    "    mode = 'markers',\n",
    "    name=category,\n",
    "    marker = dict(\n",
    "      size=2,\n",
    "      color=colors[category],\n",
    "      opacity=1,\n",
    "    )\n",
    "  ))\n",
    "\n",
    "fig.show()"
   ]
  },
  {
   "cell_type": "markdown",
   "metadata": {
    "id": "s1MuFGy2SGvu"
   },
   "source": [
    "## Fit"
   ]
  },
  {
   "cell_type": "code",
   "execution_count": null,
   "metadata": {
    "id": "sMJ53fDwVwWI"
   },
   "outputs": [],
   "source": [
    "import xgboost as xgb\n",
    "from sklearn.model_selection import GridSearchCV\n",
    "\n",
    "param_grid = {\"max_depth\":    [4, 5, 7, 9],\n",
    "              \"n_estimators\": [500, 600, 700],\n",
    "              \"learning_rate\": [0.01, 0.015, 0.03]}\n",
    "\n",
    "regressor = xgb.XGBRegressor(tree_method='gpu_hist', objective='reg:squarederror')\n",
    "search = GridSearchCV(regressor, param_grid, cv=5).fit(categorized_data['Art']['X_train'], categorized_data['Art']['y_train'])\n",
    "\n",
    "print(\"The best hyperparameters are \",search.best_params_)"
   ]
  },
  {
   "cell_type": "code",
   "execution_count": null,
   "metadata": {
    "colab": {
     "base_uri": "https://localhost:8080/"
    },
    "id": "UivF4W14q-R4",
    "outputId": "0e91779c-5f62-47c4-9878-4e12c6b5e063"
   },
   "outputs": [],
   "source": [
    "print(\"The best hyperparameters are \",search.best_params_)"
   ]
  },
  {
   "cell_type": "code",
   "execution_count": null,
   "metadata": {
    "colab": {
     "background_save": true
    },
    "id": "pV9CUKhHYvm-"
   },
   "outputs": [],
   "source": [
    "import xgboost as xgb\n",
    "from sklearn.model_selection import GridSearchCV\n",
    "from sklearn.metrics import mean_absolute_error\n",
    "from sklearn.model_selection import cross_val_score, cross_validate\n",
    "regressor=xgb.XGBRegressor(tree_method=\"gpu_hist\",\n",
    "                           n_estimators  = 500,\n",
    "                           colsample_bytree=0.6592393666880914,\n",
    "                           gamma= 0.8949857773840227,\n",
    "                           learning_rate= 0.13225793236639394,\n",
    "                           max_bin= 439,\n",
    "                           max_depth= 5,\n",
    "                           min_child_weight= 0.1108374927273914,\n",
    "                           reg_alpha= 38.28551235131752,\n",
    "                           reg_lambda= 43.81714225406587,\n",
    "                           objective='reg:squarederror')\n",
    "\n",
    "folds = 5\n",
    "results = pd.DataFrame(columns=[f'fold{i+1}' for i in range(folds)], index=categorized_data.keys())\n",
    "#feature_importances = pd.DataFrame(columns=[f'fold{i+1}' for i in range(folds)], index=categorized_data.keys())\n",
    "#results = {}\n",
    "for category in categorized_data.keys():\n",
    "  #scores = cross_val_score(regressor, categorized_data[category]['X_train'], categorized_data[category]['y_train'], scoring='r2', cv=folds)\n",
    "  #results.loc[category] = scores\n",
    "  X_train = categorized_data[category]['X_train']\n",
    "  y_train = categorized_data[category]['y_train']\n",
    "  X_validation = categorized_data[category]['X_validation']\n",
    "  y_validation = categorized_data[category]['y_validation']\n",
    "  fit_params = {\n",
    "      'eval_set':[(X_train, y_train), (X_validation, y_validation)],\n",
    "      'early_stopping_rounds':5\n",
    "  }\n",
    "  results.loc[category] = cross_validate(regressor, categorized_data[category]['X_train'], categorized_data[category]['y_train'], cv=folds, scoring = 'r2', return_estimator=False, return_train_score=True, fit_params=fit_params)['test_score']"
   ]
  },
  {
   "cell_type": "code",
   "execution_count": null,
   "metadata": {
    "colab": {
     "background_save": true
    },
    "id": "JbMiOMEfJs8R",
    "outputId": "4d923b8e-7dc6-46f9-8da1-2412492a937d"
   },
   "outputs": [],
   "source": [
    "results.mean(axis=1)"
   ]
  },
  {
   "cell_type": "code",
   "execution_count": null,
   "metadata": {
    "colab": {
     "base_uri": "https://localhost:8080/"
    },
    "id": "N3Y5hw-B7huE",
    "outputId": "dd7661a9-d27b-4da8-dcf4-f20db3e48364"
   },
   "outputs": [],
   "source": [
    "results.mean(axis=1)"
   ]
  },
  {
   "cell_type": "code",
   "execution_count": null,
   "metadata": {
    "id": "G5mryV-G23rm"
   },
   "outputs": [],
   "source": [
    "import xgboost as xgb\n",
    "from sklearn.model_selection import GridSearchCV\n",
    "from sklearn.metrics import mean_absolute_error\n",
    "from sklearn.model_selection import cross_val_score, cross_validate\n",
    "from hyperopt import STATUS_OK, Trials, fmin, hp, tpe\n",
    "from sklearn.metrics import mean_squared_error\n",
    "from hyperopt.pyll.base import scope\n",
    "\n",
    "space = {'max_depth': scope.int(hp.quniform(\"max_depth\", 1, 5, 1)),\n",
    "        'gamma': hp.uniform ('gamma', 0,1),\n",
    "        'reg_alpha' : hp.uniform('reg_alpha', 0,50),\n",
    "        'reg_lambda' : hp.uniform('reg_lambda', 10,100),\n",
    "        'colsample_bytree' : hp.uniform('colsample_bytree', 0,1),\n",
    "        'min_child_weight' : hp.uniform('min_child_weight', 0, 5),\n",
    "        'n_estimators': 2000,\n",
    "        'learning_rate': hp.uniform('learning_rate', 0, .15),\n",
    "        'tree_method':'gpu_hist',\n",
    "        'gpu_id': 0,\n",
    "        'random_state': 5,\n",
    "        'max_bin' : scope.int(hp.quniform('max_bin', 200, 550, 1))}\n",
    "\n",
    "def hyperparameter_tuning(space):\n",
    "    model = xgb.XGBRegressor(**space)\n",
    "\n",
    "    X_train = categorized_data['Art']['X_train']\n",
    "    y_train = categorized_data['Art']['y_train']\n",
    "    X_validation = categorized_data['Art']['X_validation']\n",
    "    y_validation = categorized_data['Art']['y_validation']\n",
    "\n",
    "    #Define evaluation datasets.\n",
    "    evaluation = [(X_train, y_train), (X_validation, y_validation)]\n",
    "\n",
    "    #Fit the model. Define evaluation sets, early_stopping_rounds, and eval_metric.\n",
    "    model.fit(X_train, y_train,\n",
    "            eval_set=evaluation, eval_metric=\"rmse\",\n",
    "            early_stopping_rounds=20,verbose=False)\n",
    "\n",
    "    #Obtain prediction and rmse score.\n",
    "\n",
    "    pred = model.predict(X_validation)\n",
    "    rmse = mean_squared_error(y_validation, pred, squared=False)\n",
    "    print (\"SCORE:\", rmse)\n",
    "\n",
    "    #Specify what the loss is for each model.\n",
    "    return {'loss':rmse, 'status': STATUS_OK }\n",
    "\n",
    "trials = Trials()\n",
    "best = fmin(fn=hyperparameter_tuning,\n",
    "            space=space,\n",
    "            algo=tpe.suggest,\n",
    "            max_evals=30,\n",
    "            trials=trials)\n",
    "\n",
    "print(best)\n",
    "\n",
    "#Create instace of best model.\n",
    "best_model = trials.results[np.argmin([r['loss'] for r in\n",
    "    trials.results])]\n",
    "\n",
    "#Examine model hyperparameters\n",
    "print(best_model)"
   ]
  },
  {
   "cell_type": "code",
   "execution_count": null,
   "metadata": {
    "colab": {
     "base_uri": "https://localhost:8080/",
     "height": 1000
    },
    "id": "exLvqsvm5IU5",
    "outputId": "68955ad8-30eb-400c-fd4e-4fe45009f4c0"
   },
   "outputs": [],
   "source": [
    "regressor=xgb.XGBRegressor(tree_method=\"gpu_hist\",\n",
    "                           n_estimators  = 5000,\n",
    "                           colsample_bytree=0.6592393666880914,\n",
    "                           gamma= 0.8949857773840227,\n",
    "                           learning_rate= 0.13225793236639394,\n",
    "                           max_bin= 439,\n",
    "                           max_depth= 5,\n",
    "                           min_child_weight= 0.1108374927273914,\n",
    "                           reg_alpha= 38.28551235131752,\n",
    "                           reg_lambda= 43.81714225406587,\n",
    "                           objective='reg:squarederror')\n",
    "X_train = categorized_data['Art']['X_train']\n",
    "y_train = categorized_data['Art']['y_train']\n",
    "X_validation = categorized_data['Art']['X_validation']\n",
    "y_validation = categorized_data['Art']['y_validation']\n",
    "eval_set = [(X_train, y_train), (X_validation, y_validation)]\n",
    "regressor.fit(X_train, y_train, eval_set=eval_set)\n",
    "pd.DataFrame({key:value['rmse'] for key, value in regressor.evals_result().items()}).rename(columns={'validation_0':'Train','validation_1':'Validation'}).plot()\n"
   ]
  },
  {
   "cell_type": "code",
   "execution_count": null,
   "metadata": {
    "colab": {
     "base_uri": "https://localhost:8080/"
    },
    "id": "qXaGSAPNvZsg",
    "outputId": "6612fdfd-7334-4a09-a02d-a1fcbadcd24f"
   },
   "outputs": [],
   "source": [
    "results['All']"
   ]
  },
  {
   "cell_type": "code",
   "execution_count": null,
   "metadata": {
    "colab": {
     "base_uri": "https://localhost:8080/"
    },
    "id": "MilwYcvmlFS6",
    "outputId": "44bee917-f2cf-49bd-982e-6034d23c2b0e"
   },
   "outputs": [],
   "source": [
    "results.mean(axis=1)"
   ]
  },
  {
   "cell_type": "code",
   "execution_count": null,
   "metadata": {
    "colab": {
     "base_uri": "https://localhost:8080/"
    },
    "id": "l20vEk1mdWBy",
    "outputId": "6c3256a5-4132-42d6-dc40-540093122be7"
   },
   "outputs": [],
   "source": [
    "results.mean(axis=1)"
   ]
  },
  {
   "cell_type": "code",
   "execution_count": null,
   "metadata": {
    "colab": {
     "base_uri": "https://localhost:8080/",
     "height": 468
    },
    "id": "BnQ-tqBXs18g",
    "outputId": "95653ba6-6ded-4d42-a9fd-97b07811a9e9"
   },
   "outputs": [],
   "source": [
    "df"
   ]
  },
  {
   "cell_type": "code",
   "execution_count": null,
   "metadata": {
    "colab": {
     "base_uri": "https://localhost:8080/",
     "height": 269
    },
    "id": "c6wwE0N16G8H",
    "outputId": "f27507d8-ed6e-4e2c-ed4e-1384ebd23297"
   },
   "outputs": [],
   "source": [
    "results"
   ]
  },
  {
   "cell_type": "code",
   "execution_count": null,
   "metadata": {
    "colab": {
     "base_uri": "https://localhost:8080/",
     "height": 269
    },
    "id": "_DqnKJxR5EO9",
    "outputId": "dd1db3e2-84da-4c03-f6d8-078e9add5aad"
   },
   "outputs": [],
   "source": [
    "results"
   ]
  },
  {
   "cell_type": "code",
   "execution_count": null,
   "metadata": {
    "colab": {
     "base_uri": "https://localhost:8080/"
    },
    "id": "mY8SkilFSSnD",
    "outputId": "59d2a26e-5b25-4492-ec9a-944d89afd689"
   },
   "outputs": [],
   "source": [
    "results = pd.DataFrame(columns=algorithms.keys(), index=categorized_data.keys())\n",
    "losses = {}\n",
    "for category, category_data in categorized_data.items():\n",
    "  X_train = category_data['X_train']\n",
    "  y_train = category_data['y_train']\n",
    "  X_test = category_data['X_test']\n",
    "  y_test = category_data['y_test']\n",
    "  print(f'category {category}')\n",
    "  for alg_name, alg_func in algorithms.items():\n",
    "    algorithm = alg_func()\n",
    "    print(f'\\tfitting {alg_name}')\n",
    "    algorithm.fit(X_train, y_train)\n",
    "    score = algorithm.score(X_test, y_test)\n",
    "    results.loc[category, alg_name] = score\n",
    "    losses[category] = {\n",
    "        'train': algorithm.train_score_,\n",
    "        'val': algorithm.validation_score_\n",
    "    }\n",
    "    if hasattr(algorithm, 'feature_importances_'):\n",
    "      print(algorithm.feature_importances_)"
   ]
  },
  {
   "cell_type": "code",
   "execution_count": null,
   "metadata": {
    "colab": {
     "base_uri": "https://localhost:8080/",
     "height": 278
    },
    "id": "_TxJ_pW67YRO",
    "outputId": "d8062f8c-2211-497b-8c6c-8f5989ad15c6"
   },
   "outputs": [],
   "source": [
    "fig, axes = plt.subplots(ncols=2, figsize=(12,4))\n",
    "fig.text(0.5, 0.04, 'Iterations', ha='center', va='center')\n",
    "for key, item in losses.items():\n",
    "  pd.DataFrame(item).loc[:,'train'].rename(key).abs().plot(ax=axes[0], legend=True, ylabel='Train loss')\n",
    "  pd.DataFrame(item).loc[:,'val'].rename(key).abs().plot(ax=axes[1], legend=True, ylabel='Validation loss')"
   ]
  },
  {
   "cell_type": "code",
   "execution_count": null,
   "metadata": {
    "colab": {
     "base_uri": "https://localhost:8080/",
     "height": 269
    },
    "id": "feXBus51_xeM",
    "outputId": "ae893bbe-7b19-44b9-8932-065556b3cd71"
   },
   "outputs": [],
   "source": [
    "results"
   ]
  },
  {
   "cell_type": "code",
   "execution_count": null,
   "metadata": {
    "colab": {
     "base_uri": "https://localhost:8080/",
     "height": 269
    },
    "id": "55zVwAIm9P5T",
    "outputId": "eabc0bde-0287-41d7-9eca-fa566f10ee2b"
   },
   "outputs": [],
   "source": [
    "results"
   ]
  },
  {
   "cell_type": "code",
   "execution_count": null,
   "metadata": {
    "colab": {
     "base_uri": "https://localhost:8080/",
     "height": 269
    },
    "id": "_9iLT7XR70EU",
    "outputId": "1c9ca81f-85f4-4da2-bdf5-2681edab07f8"
   },
   "outputs": [],
   "source": [
    "results"
   ]
  },
  {
   "cell_type": "code",
   "execution_count": null,
   "metadata": {
    "colab": {
     "base_uri": "https://localhost:8080/",
     "height": 269
    },
    "id": "6x7edQdoln82",
    "outputId": "ea4ad248-a5a7-4377-a531-99dca2d4b2b9"
   },
   "outputs": [],
   "source": [
    "results"
   ]
  },
  {
   "cell_type": "code",
   "execution_count": null,
   "metadata": {
    "colab": {
     "base_uri": "https://localhost:8080/",
     "height": 269
    },
    "id": "c6oKwZrPKMIN",
    "outputId": "71f723b1-6e0e-417b-822e-48fe532ba4be"
   },
   "outputs": [],
   "source": [
    "results"
   ]
  },
  {
   "cell_type": "code",
   "execution_count": null,
   "metadata": {
    "colab": {
     "base_uri": "https://localhost:8080/",
     "height": 269
    },
    "id": "f1OBHhw_isuc",
    "outputId": "74333307-213d-4ca6-a9e3-0840d034f0c4"
   },
   "outputs": [],
   "source": [
    "results"
   ]
  },
  {
   "cell_type": "code",
   "execution_count": null,
   "metadata": {
    "colab": {
     "base_uri": "https://localhost:8080/",
     "height": 269
    },
    "id": "tQOLB7FiFbOZ",
    "outputId": "349d1493-a1e2-407f-9694-4caefdbe154b"
   },
   "outputs": [],
   "source": [
    "results"
   ]
  },
  {
   "cell_type": "code",
   "execution_count": null,
   "metadata": {
    "colab": {
     "base_uri": "https://localhost:8080/",
     "height": 269
    },
    "id": "2_Y0SYVuBqgh",
    "outputId": "908a3a34-bb83-434c-f34a-61bec8ec3046"
   },
   "outputs": [],
   "source": [
    "results"
   ]
  },
  {
   "cell_type": "code",
   "execution_count": null,
   "metadata": {
    "colab": {
     "base_uri": "https://localhost:8080/",
     "height": 278
    },
    "id": "rhzJA1ahCBNK",
    "outputId": "6fa14b9d-699f-443c-f490-678328bc0e0f"
   },
   "outputs": [],
   "source": [
    "fig, axes = plt.subplots(ncols=2, figsize=(12,4))\n",
    "fig.text(0.5, 0.04, 'Iterations', ha='center', va='center')\n",
    "for key, item in losses.items():\n",
    "  pd.DataFrame(item).loc[:,'train'].rename(key).abs().plot(ax=axes[0], legend=True, ylabel='Train loss')\n",
    "  pd.DataFrame(item).loc[:,'val'].rename(key).abs().plot(ax=axes[1], legend=True, ylabel='Validation loss')"
   ]
  },
  {
   "cell_type": "code",
   "execution_count": null,
   "metadata": {
    "colab": {
     "base_uri": "https://localhost:8080/",
     "height": 269
    },
    "id": "aZ5L1ntCus3r",
    "outputId": "c5b773f7-c139-4652-e45b-7f5e16a84e5b"
   },
   "outputs": [],
   "source": [
    "results"
   ]
  },
  {
   "cell_type": "code",
   "execution_count": null,
   "metadata": {
    "colab": {
     "base_uri": "https://localhost:8080/",
     "height": 269
    },
    "id": "FgYfdZBIuMJt",
    "outputId": "58ac7c25-5b28-4262-942b-6a51e390032b"
   },
   "outputs": [],
   "source": [
    "results"
   ]
  },
  {
   "cell_type": "code",
   "execution_count": null,
   "metadata": {
    "colab": {
     "base_uri": "https://localhost:8080/",
     "height": 237
    },
    "id": "GZXdpNRZjAxj",
    "outputId": "074c6d34-1221-48a2-b32c-6c8aa6df3d54"
   },
   "outputs": [],
   "source": [
    "# with 0..6, week_1, centrality\n",
    "# learning_rate = 0.1\n",
    "# max_iter = 250\n",
    "results"
   ]
  },
  {
   "cell_type": "code",
   "execution_count": null,
   "metadata": {
    "colab": {
     "base_uri": "https://localhost:8080/",
     "height": 237
    },
    "id": "xb8zpUdvinfw",
    "outputId": "3ba8690b-8ff2-483e-dabd-4c07d96bc212"
   },
   "outputs": [],
   "source": [
    "# with 0..6, week_1, centrality\n",
    "results"
   ]
  },
  {
   "cell_type": "code",
   "execution_count": null,
   "metadata": {
    "colab": {
     "base_uri": "https://localhost:8080/",
     "height": 237
    },
    "id": "WCHzUAFmhb5O",
    "outputId": "05dbe95f-10ce-4354-d3ba-816f6478cc74"
   },
   "outputs": [],
   "source": [
    "# with 0..6, week_1, centrality\n",
    "results"
   ]
  },
  {
   "cell_type": "code",
   "execution_count": null,
   "metadata": {
    "colab": {
     "base_uri": "https://localhost:8080/",
     "height": 237
    },
    "id": "otaDkK88hRcY",
    "outputId": "136806b5-0a87-439c-9130-0edc447e59e8"
   },
   "outputs": [],
   "source": [
    "# with 0..6, week_1, centrality\n",
    "# learning_rate = 0.5\n",
    "# max_iter = 250\n",
    "results"
   ]
  },
  {
   "cell_type": "code",
   "execution_count": null,
   "metadata": {
    "colab": {
     "base_uri": "https://localhost:8080/",
     "height": 237
    },
    "id": "sWurLSGbfEnv",
    "outputId": "ba0a804c-3933-4ddb-f2de-299501848b48"
   },
   "outputs": [],
   "source": [
    "# with 0..6, week_1, centrality\n",
    "# null centralities dropped\n",
    "# 0.12 instead of 0.08\n",
    "# learning_rate = 0.5\n",
    "# max_iter = 250\n",
    "results"
   ]
  },
  {
   "cell_type": "code",
   "execution_count": null,
   "metadata": {
    "colab": {
     "base_uri": "https://localhost:8080/",
     "height": 237
    },
    "id": "oWCDVdOie8n7",
    "outputId": "3e473fbd-599e-4653-bf65-6ae05a81102e"
   },
   "outputs": [],
   "source": [
    "# with 0..6, week_1, centrality\n",
    "# null centralities dropped\n",
    "# 0.12 instead of 0.08\n",
    "# learning_rate = 0.9\n",
    "results"
   ]
  },
  {
   "cell_type": "code",
   "execution_count": null,
   "metadata": {
    "colab": {
     "base_uri": "https://localhost:8080/",
     "height": 237
    },
    "id": "CtUukfqpewJs",
    "outputId": "3efc87c2-a547-40ac-f56e-e0bb50133e13"
   },
   "outputs": [],
   "source": [
    "# with 0..6, week_1, centrality\n",
    "# null centralities dropped\n",
    "# 0.12 instead of 0.08\n",
    "# learning_rate = 0.5\n",
    "results"
   ]
  },
  {
   "cell_type": "code",
   "execution_count": null,
   "metadata": {
    "colab": {
     "base_uri": "https://localhost:8080/",
     "height": 237
    },
    "id": "1iWXe9LJdofi",
    "outputId": "1620cf4e-89e5-4ab9-c69e-b9a03f91f9ec"
   },
   "outputs": [],
   "source": [
    "# with 0..6, week_1, centrality\n",
    "# null centralities dropped\n",
    "# 0.12 instead of 0.08\n",
    "results"
   ]
  },
  {
   "cell_type": "code",
   "execution_count": null,
   "metadata": {
    "colab": {
     "base_uri": "https://localhost:8080/",
     "height": 237
    },
    "id": "3i4eVrMZdVxG",
    "outputId": "36b8cb00-5418-489d-a9f5-06e2c400890a"
   },
   "outputs": [],
   "source": [
    "# with 0..6, week_1, centrality\n",
    "# null centralities dropped\n",
    "results"
   ]
  },
  {
   "cell_type": "code",
   "execution_count": null,
   "metadata": {
    "colab": {
     "base_uri": "https://localhost:8080/",
     "height": 237
    },
    "id": "ux2nr46qdAFU",
    "outputId": "51b12118-3275-4957-e858-2345916600a7"
   },
   "outputs": [],
   "source": [
    "# with 0..6, week_1, centrality\n",
    "results"
   ]
  },
  {
   "cell_type": "code",
   "execution_count": null,
   "metadata": {
    "colab": {
     "base_uri": "https://localhost:8080/",
     "height": 237
    },
    "id": "_Tre95mUPgJq",
    "outputId": "1e0e3e2c-1801-4d00-db67-3046ed2b3842"
   },
   "outputs": [],
   "source": [
    "# with 0..6, week_1\n",
    "results"
   ]
  },
  {
   "cell_type": "code",
   "execution_count": null,
   "metadata": {
    "colab": {
     "base_uri": "https://localhost:8080/",
     "height": 269
    },
    "id": "sXhWu3CdiGiJ",
    "outputId": "4b14b5b8-ef98-4150-c574-1b99b73685c4"
   },
   "outputs": [],
   "source": [
    "# with 0..6, week_1, centrality, p_resale\n",
    "results"
   ]
  },
  {
   "cell_type": "code",
   "execution_count": null,
   "metadata": {
    "colab": {
     "base_uri": "https://localhost:8080/",
     "height": 237
    },
    "id": "XDvLJDd6m59Y",
    "outputId": "04682c25-7c7f-45a2-b251-c49ba52767f6"
   },
   "outputs": [],
   "source": [
    "results"
   ]
  },
  {
   "cell_type": "code",
   "execution_count": null,
   "metadata": {
    "colab": {
     "base_uri": "https://localhost:8080/"
    },
    "id": "_PSM5gnMOyQb",
    "outputId": "51a8e08e-4a32-467e-c4f3-40199a50e8d4"
   },
   "outputs": [],
   "source": [
    "scores = {}\n",
    "for alg_name, alg_func in algorithms.items():\n",
    "  algorithm = alg_func()\n",
    "  print(f'fitting {alg_name}')\n",
    "  algorithm.fit(X_train, y_train)\n",
    "  all_score = algorithm.score(X_test, y_test)\n",
    "  scores[alg_name] = { 'All' : all_score }\n",
    "  for category, category_df in categorized_data.items():\n",
    "    X = category_df[feature_columns].values\n",
    "    y = category_df[label_column].values\n",
    "    category_score = algorithm.score(X, y)\n",
    "    scores[alg_name][category] = category_score\n",
    "  print(algorithm.feature_importances_)\n",
    "print(json.dumps(scores, indent=4))"
   ]
  },
  {
   "cell_type": "code",
   "execution_count": null,
   "metadata": {
    "colab": {
     "base_uri": "https://localhost:8080/"
    },
    "id": "N9ZGPCbYnf3o",
    "outputId": "dd1c5ed5-53ba-4731-d73b-54965857c4be"
   },
   "outputs": [],
   "source": [
    "feature_columns"
   ]
  },
  {
   "cell_type": "markdown",
   "metadata": {
    "id": "SzrXD9sxv-cq"
   },
   "source": [
    "# TEMP STUFF AFTER THIS"
   ]
  },
  {
   "cell_type": "code",
   "execution_count": null,
   "metadata": {
    "colab": {
     "base_uri": "https://localhost:8080/",
     "height": 815
    },
    "id": "4cPVOzXKZPuN",
    "outputId": "8dd196e8-8dd0-4d14-eba3-8580f20770e0"
   },
   "outputs": [],
   "source": [
    "def plot_relationships(df, num_cols):\n",
    "    variables = df.columns\n",
    "    # This function assumes that the dependent variable is in the last column\n",
    "    dep_var = variables[-1]\n",
    "    ind_var = variables[:-1]\n",
    "    figs = len(dep_var)\n",
    "    num_cols = num_cols\n",
    "    num_rows = round(figs / num_cols) + 1\n",
    "    fig = 1\n",
    "    plt.figure(figsize=(20,30))\n",
    "    # Loop through all independent variables and create the scatter plot\n",
    "    for i in ind_var:\n",
    "        pltfignums = [str(num_rows), str(num_cols), str(fig)]\n",
    "        pltfig = int(''.join(pltfignums))\n",
    "        plt.subplot(pltfig)\n",
    "        plt.scatter(df[i], df[dep_var])\n",
    "        plt.xlabel(str(i))\n",
    "        plt.ylabel(str(dep_var))\n",
    "        fig +=1\n",
    "plot_relationships(df,8)"
   ]
  },
  {
   "cell_type": "code",
   "execution_count": null,
   "metadata": {
    "id": "jK7Itd9bkFqM"
   },
   "outputs": [],
   "source": [
    "#zamn = 0\n",
    "#with h5py.File(f'data/resnet50/resnet50_features.h5', 'r') as f:\n",
    "#  data = f['data']\n",
    "#  zamn = pd.DataFrame(data)\n",
    "#  zamn.to_csv('data/resnet50/resnet50_features.csv')"
   ]
  },
  {
   "cell_type": "code",
   "execution_count": null,
   "metadata": {
    "colab": {
     "base_uri": "https://localhost:8080/",
     "height": 415
    },
    "id": "0GLeNxzvFZ3F",
    "outputId": "2711b023-4763-4ef6-9555-fc13f875b79a"
   },
   "outputs": [],
   "source": [
    "zamn = 0\n",
    "with h5py.File(f'data/resnet50/resnet50PCA_features.h5', 'r') as f:\n",
    "  data = f['data']\n",
    "  zamn = pd.DataFrame(data)"
   ]
  },
  {
   "cell_type": "code",
   "execution_count": null,
   "metadata": {
    "id": "_lC-raZj__yd"
   },
   "outputs": [],
   "source": [
    "feature_folder = 'data/'\n",
    "df_primary_sales = pd.read_csv(f'{feature_folder}Data_primary_sales.csv', index_col=0)\n",
    "f = h5py.File(f'{feature_folder}resnet50/resnet50PCA_features.h5', 'r')\n",
    "df_visual_features = pd.DataFrame(f['data'])\n",
    "f.close()"
   ]
  },
  {
   "cell_type": "code",
   "execution_count": null,
   "metadata": {
    "id": "2A6ENPEyGoKK"
   },
   "outputs": [],
   "source": [
    "df_visual_features['image_name'] = df_visual_features.index\n",
    "df_primary_sales = pd.merge(df_primary_sales, df_visual_features, on=['image_name'], how='left')"
   ]
  },
  {
   "cell_type": "code",
   "execution_count": null,
   "metadata": {
    "id": "6N0DI1WKF9Xe"
   },
   "outputs": [],
   "source": [
    "df_filtered = df_primary_sales.drop(df_primary_sales[df_primary_sales[0] == 0].index).reset_index()"
   ]
  },
  {
   "cell_type": "code",
   "execution_count": null,
   "metadata": {
    "id": "t6SK1gk0INCC"
   },
   "outputs": [],
   "source": [
    "X = df_filtered[[0,1,2,3,4,5,6]].values\n",
    "y = df_filtered['Price_USD'].values"
   ]
  },
  {
   "cell_type": "code",
   "execution_count": null,
   "metadata": {
    "id": "BvfUWHEdIYk1"
   },
   "outputs": [],
   "source": [
    "X_train, X_test, y_train, y_test = train_test_split(X, y, test_size=0.10, random_state=42)"
   ]
  },
  {
   "cell_type": "code",
   "execution_count": null,
   "metadata": {
    "colab": {
     "base_uri": "https://localhost:8080/",
     "height": 556
    },
    "id": "qFrFkiGBPaa6",
    "outputId": "f3d3114f-9a1b-462b-a19f-66a70e521c1c"
   },
   "outputs": [],
   "source": [
    "  folder = 'data/'\n",
    "  df_primary_sales = pd.read_csv(f'{folder}Data_primary_sales.csv', index_col=0)\n",
    "  df_visual_features = pd.read_csv(f'{folder}resnet50/resnet50PCA_features.csv', index_col=0)\n",
    "  # merge visual features with primary sales\n",
    "  df_visual_features['image_name'] = df_visual_features.index\n",
    "  df_primary_sales = pd.merge(df_primary_sales, df_visual_features, on=['image_name'], how='left')\n",
    "  # remove rows with 0 in visual features (this means the image was not processed correctly(image was not downloaded etc.))\n",
    "  df_filtered = df_primary_sales.drop(df_primary_sales[df_primary_sales[0] == 0].index).reset_index()\n",
    "  # pick features and label\n",
    "  X = df_filtered[[0,1,2,3,4,5,6]].values\n",
    "  y = df_filtered['Price_USD'].values\n",
    "  # shuffle and split training data\n",
    "  X_train, X_test, y_train, y_test = train_test_split(X, y, test_size=0.10, random_state=42)"
   ]
  },
  {
   "cell_type": "code",
   "execution_count": null,
   "metadata": {
    "id": "rLqPpzjZRFgP"
   },
   "outputs": [],
   "source": [
    "df_filtered = df_primary_sales[~df_primary_sales[['0','1','2','3','4','5','6']].eq(0).sum(1).ge(7)].reset_index()"
   ]
  },
  {
   "cell_type": "code",
   "execution_count": null,
   "metadata": {
    "id": "sXp10zMugwv_"
   },
   "outputs": [],
   "source": [
    "X = df_filtered[['0','1','2','3','4','5','6']].values\n",
    "y = df_filtered['Price_USD'].values"
   ]
  },
  {
   "cell_type": "code",
   "execution_count": null,
   "metadata": {
    "colab": {
     "base_uri": "https://localhost:8080/",
     "height": 870
    },
    "id": "gqZwE7iwhzhh",
    "outputId": "aae843b9-13aa-4072-b92a-b75671cb1443"
   },
   "outputs": [],
   "source": [
    "df_primary_sales[df_primary_sales['Price_USD'].isna()]"
   ]
  },
  {
   "cell_type": "code",
   "execution_count": null,
   "metadata": {
    "colab": {
     "base_uri": "https://localhost:8080/",
     "height": 870
    },
    "id": "DF0RH03Khekr",
    "outputId": "15512546-bc31-4cf8-96ec-731c7b7a59bd"
   },
   "outputs": [],
   "source": [
    "pd.set_option('display.max_columns', None)\n",
    "df_filtered[df_filtered['Price_USD'].isna()]"
   ]
  },
  {
   "cell_type": "code",
   "execution_count": null,
   "metadata": {
    "colab": {
     "base_uri": "https://localhost:8080/"
    },
    "id": "8dog-Vybg9Yw",
    "outputId": "4386c1cf-dcfa-4755-deba-eec6f43f6a5a"
   },
   "outputs": [],
   "source": [
    "np.argwhere(np.isnan(y))"
   ]
  },
  {
   "cell_type": "code",
   "execution_count": null,
   "metadata": {
    "id": "UEMlDJLYSX9h"
   },
   "outputs": [],
   "source": [
    "!cat data/resnet50/resnet50_batch000.csv | grep 2454,"
   ]
  },
  {
   "cell_type": "code",
   "execution_count": null,
   "metadata": {
    "colab": {
     "base_uri": "https://localhost:8080/"
    },
    "id": "jrrgehQZTTkG",
    "outputId": "4fff45ee-882d-441b-9283-57355bc70dbf"
   },
   "outputs": [],
   "source": [
    "!head -n 3000 data/resnet50/resnet50PCA_features.csv | grep '2454,'"
   ]
  },
  {
   "cell_type": "code",
   "execution_count": null,
   "metadata": {
    "id": "H5UZX7_hDIJ8"
   },
   "outputs": [],
   "source": []
  },
  {
   "cell_type": "code",
   "execution_count": null,
   "metadata": {
    "colab": {
     "base_uri": "https://localhost:8080/",
     "height": 765
    },
    "id": "Fyou83v8FsiB",
    "outputId": "4ef298a1-6b88-44c6-e0cb-f946e0cb2ae1"
   },
   "outputs": [],
   "source": []
  }
 ],
 "metadata": {
  "colab": {
   "collapsed_sections": [
    "SzrXD9sxv-cq"
   ],
   "machine_shape": "hm",
   "provenance": []
  },
  "gpuClass": "standard",
  "kernelspec": {
   "display_name": "Python 3 (ipykernel)",
   "language": "python",
   "name": "python3"
  },
  "language_info": {
   "codemirror_mode": {
    "name": "ipython",
    "version": 3
   },
   "file_extension": ".py",
   "mimetype": "text/x-python",
   "name": "python",
   "nbconvert_exporter": "python",
   "pygments_lexer": "ipython3",
   "version": "3.10.13"
  }
 },
 "nbformat": 4,
 "nbformat_minor": 1
}
