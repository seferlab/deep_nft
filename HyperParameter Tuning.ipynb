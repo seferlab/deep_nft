{
 "cells": [
  {
   "cell_type": "markdown",
   "metadata": {
    "id": "b7Bz7lnnXy5R"
   },
   "source": [
    "# STEP 1 : Install and Import Libaries"
   ]
  },
  {
   "cell_type": "code",
   "execution_count": null,
   "metadata": {
    "id": "rogChBT4XxiW"
   },
   "outputs": [],
   "source": [
    "# Data processing\n",
    "import pandas as pd\n",
    "import numpy as np\n",
    "import matplotlib.pyplot as plt\n",
    "\n",
    "# Model and performance evaluation\n",
    "from sklearn.model_selection import train_test_split\n",
    "from xgboost import XGBClassifier\n",
    "from sklearn.ensemble import RandomForestClassifier\n",
    "from sklearn.ensemble import AdaBoostClassifier\n",
    "from sklearn.metrics import precision_recall_fscore_support as score\n",
    "from sklearn.metrics import precision_score, recall_score, f1_score, accuracy_score\n",
    "from sklearn.metrics import confusion_matrix\n",
    "\n",
    "# Hyperparameter tuning\n",
    "from sklearn.model_selection import StratifiedKFold, cross_val_score, GridSearchCV\n",
    "from hyperopt import tpe, STATUS_OK, Trials, hp, fmin, STATUS_OK, space_eval\n",
    "\n",
    "#OverSampling\n",
    "from imblearn.over_sampling import RandomOverSampler, SMOTE"
   ]
  },
  {
   "cell_type": "markdown",
   "metadata": {
    "id": "A6Fy2jxFYGj3"
   },
   "source": [
    "#STEP 2 : Download and Preparing Data"
   ]
  },
  {
   "cell_type": "code",
   "execution_count": null,
   "metadata": {
    "id": "idbHgrTrXlem"
   },
   "outputs": [],
   "source": [
    "df = pd.read_csv('data/secondary_sale_dataset.csv')"
   ]
  },
  {
   "cell_type": "code",
   "execution_count": null,
   "metadata": {
    "id": "WflYPCSyYXQ1"
   },
   "outputs": [],
   "source": [
    "def split_categories(df):\n",
    "  categorized_data = {}\n",
    "  for category in df['Category'].unique():\n",
    "    categorized_data[category] = {\n",
    "        'df': df[df['Category'] == category].copy(deep=True)\n",
    "    }\n",
    "  categorized_data['All'] = {\n",
    "      'df' : df.copy(deep=True)\n",
    "  }\n",
    "  return categorized_data\n",
    "\n",
    "# prepare data\n",
    "categorized_data = split_categories(df)\n",
    "feature_columns = ['0','1','2','3','4','5','6','week_1','centrality_buyer','centrality_seller','p_resale']\n",
    "label_column = 'secondary_sale'\n",
    "for key, item in categorized_data.items():\n",
    "  category_df = item['df']\n",
    "  X = category_df[feature_columns].values\n",
    "  y = category_df[label_column].values\n",
    "#train-test split\n",
    "  X_train, X_test, y_train, y_test = train_test_split(X, y, test_size=0.05, random_state=42)\n",
    "# define oversampling strategy\n",
    "  oversample = RandomOverSampler(sampling_strategy='minority')\n",
    "# fit and apply the transform\n",
    "  X_train_over, y_train_over = oversample.fit_resample(X_train, y_train)\n",
    "  categorized_data[key]['X_train'] = X_train_res\n",
    "  categorized_data[key]['X_test'] = X_test\n",
    "  categorized_data[key]['y_train'] = y_train_res\n",
    "  categorized_data[key]['y_test'] = y_test\n",
    "for key, item in categorized_data.items():\n",
    "  print(f'{key}\\n\\tTrain count: {len(item[\"X_train\"]):,}\\n\\tTest count: {len(item[\"X_test\"]):,}')"
   ]
  },
  {
   "cell_type": "markdown",
   "metadata": {
    "id": "Od3gfK7BYLoB"
   },
   "source": [
    "# Step 3: AdaBoost Classifier Grid Search"
   ]
  },
  {
   "cell_type": "code",
   "execution_count": null,
   "metadata": {
    "id": "V87gVIbGYlfg"
   },
   "outputs": [],
   "source": [
    "# Initiate AdaBoost Classifier\n",
    "clf_ada = AdaBoostClassifier()\n",
    "# Print default setting\n",
    "clf_ada.get_params()"
   ]
  },
  {
   "cell_type": "code",
   "execution_count": null,
   "metadata": {
    "id": "sQI80BOVYr8X"
   },
   "outputs": [],
   "source": [
    "# Seting up the hyperparameter search\n",
    "\n",
    "param_dist = {\"n_estimators\": [200, 300, 400, 500],\n",
    "              \"learning_rate\": [0.3, 0.4, 0.5]}\n"
   ]
  },
  {
   "cell_type": "code",
   "execution_count": null,
   "metadata": {
    "id": "fcjCBDyYYwvd"
   },
   "outputs": [],
   "source": [
    "from sklearn.model_selection import RepeatedStratifiedKFold\n",
    "\n",
    "# Set up the k-fold cross-validation\n",
    "kfold = StratifiedKFold(n_splits=5, shuffle=True, random_state=10)"
   ]
  },
  {
   "cell_type": "code",
   "execution_count": null,
   "metadata": {
    "id": "MXfWqVzAY-9K"
   },
   "outputs": [],
   "source": [
    "ada_search_2 = GridSearchCV(estimator=clf_ada,\n",
    "                           param_grid= param_dist,\n",
    "                           scoring='f1',\n",
    "                           refit='f1',\n",
    "                           n_jobs=-1,\n",
    "                           cv=kfold,\n",
    "                           verbose=0)"
   ]
  },
  {
   "cell_type": "code",
   "execution_count": null,
   "metadata": {
    "id": "VCcju8jdZG68"
   },
   "outputs": [],
   "source": [
    "# For each category fit model AdaBoost\n",
    "results = pd.DataFrame(columns=['accuracy','recall','f1','precision','confusion_matrix'], index=categorized_data.keys())\n",
    "for category, category_data in categorized_data.items():\n",
    "    X_train = category_data['X_train']\n",
    "    y_train = category_data['y_train']\n",
    "    X_test = category_data['X_test']\n",
    "    y_test = category_data['y_test']\n",
    "    print(f'Training {category}')\n",
    "    games_ada2 = ada_search_2.fit(X_train, y_train)\n",
    "    games_ada2_preds = games_ada2.best_estimator_.predict(X_test)\n",
    "    print(f'The best hyperparameters are {games_ada2.best_params_}')\n",
    "    #printing performance according to the best model for accuracy\n",
    "    print(\"\\tAccuracy:\" ,accuracy_score(y_test, games_ada2_preds))\n",
    "    print(\"\\tRecall:\", recall_score(y_test, games_ada2_preds))\n",
    "    print(\"\\tF1 score:\",f1_score(y_test,games_ada2_preds))\n",
    "    print(\"\\tPresicion\", precision_score(y_test,games_ada2_preds))\n",
    "    print(\"\\tconfusion_matrix\", confusion_matrix(y_test, games_ada2_preds))"
   ]
  },
  {
   "cell_type": "markdown",
   "metadata": {
    "id": "swoi03SkZV50"
   },
   "source": [
    "# Step 4: RandomForest Classifier Grid Search"
   ]
  },
  {
   "cell_type": "code",
   "execution_count": null,
   "metadata": {
    "id": "jd_O9lhDZc7E"
   },
   "outputs": [],
   "source": [
    "# Create a based model\n",
    "rf = RandomForestClassifier()\n",
    "# Print default setting\n",
    "rf.get_params()"
   ]
  },
  {
   "cell_type": "code",
   "execution_count": null,
   "metadata": {
    "id": "d6gTFO5zyFCj"
   },
   "outputs": [],
   "source": [
    "# Seting up the hyperparameter search\n",
    "param_grid = {\n",
    "  # Percentage of columns to be randomly samples for each tree.\n",
    "    \"colsample_bytree\": [ 0.3, 0.5 , 0.8, 1],\n",
    "    # reg_alpha provides l1 regularization to the weight, higher values result in more conservative models\n",
    "    \"reg_alpha\": [0, 0.5, 1, 5],\n",
    "    # reg_lambda provides l2 regularization to the weight, higher values result in more conservative models\n",
    "    \"reg_lambda\": [0, 0.5, 1, 5]\n",
    "    }"
   ]
  },
  {
   "cell_type": "code",
   "execution_count": null,
   "metadata": {
    "id": "9tSsBc1x-CLI"
   },
   "outputs": [],
   "source": [
    "# Set up the k-fold cross-validation\n",
    "kfold = StratifiedKFold(n_splits=5, shuffle=True, random_state=10)"
   ]
  },
  {
   "cell_type": "code",
   "execution_count": null,
   "metadata": {
    "id": "boy0cgov0DlU"
   },
   "outputs": [],
   "source": [
    "random_search  = GridSearchCV(estimator=rf,\n",
    "                 param_grid= param_grid,\n",
    "                 scoring='f1',\n",
    "                 refit='f1',\n",
    "                 n_jobs=-1,\n",
    "                 cv=kfold,\n",
    "                 verbose=0)"
   ]
  },
  {
   "cell_type": "code",
   "execution_count": null,
   "metadata": {
    "id": "qPMpnIxdyayy"
   },
   "outputs": [],
   "source": [
    "# For each category fit model AdaBoost\n",
    "results2 = pd.DataFrame(columns=['accuracy','recall','f1','precision','confusion_matrix'], index=categorized_data.keys())\n",
    "for category, category_data in categorized_data.items():\n",
    "    X_train = category_data['X_train']\n",
    "    y_train = category_data['y_train']\n",
    "    X_test = category_data['X_test']\n",
    "    y_test = category_data['y_test']\n",
    "    print(f'Training {category}')\n",
    "    randomOver2 = random_search.fit(X_train, y_train)\n",
    "    randomOver2_preds = randomOver2.best_estimator_.predict(X_test)\n",
    "    print(f'The best hyperparameters are {randomOver2.best_params_}')\n",
    "    #printing performance according to the best model for accuracy\n",
    "    print(\"\\tAccuracy:\" ,accuracy_score(y_test, randomOver2_preds))\n",
    "    print(\"\\tRecall:\", recall_score(y_test,randomOver2_preds))\n",
    "    print(\"\\tF1 score:\",f1_score(y_test,randomOver2_preds))\n",
    "    print(\"\\tPresicion\", precision_score(y_test,randomOver2_preds))\n",
    "    print(\"\\tconfusion_matrix\", confusion_matrix(y_test,randomOver2_preds))"
   ]
  },
  {
   "cell_type": "markdown",
   "metadata": {
    "id": "i-bxlWswZcMt"
   },
   "source": [
    "# Step 5: XGBoost Classifier Grid Search"
   ]
  },
  {
   "cell_type": "code",
   "execution_count": null,
   "metadata": {
    "id": "wnac-pLyaoxz"
   },
   "outputs": [],
   "source": [
    "# Initiate XGBoost Classifier\n",
    "model = XGBClassifier()\n",
    "# Print default setting\n",
    "model.get_params()"
   ]
  },
  {
   "cell_type": "code",
   "execution_count": null,
   "metadata": {
    "id": "QQv3wvWvvYvA"
   },
   "outputs": [],
   "source": [
    "# Define the search space\n",
    "param_grid = {\n",
    "  # Percentage of columns to be randomly samples for each tree.\n",
    "    \"colsample_bytree\": [ 0.3, 0.5 , 0.8, 1],\n",
    "    # reg_alpha provides l1 regularization to the weight, higher values result in more conservative models\n",
    "    \"reg_alpha\": [0, 0.5, 1, 5],\n",
    "    # reg_lambda provides l2 regularization to the weight, higher values result in more conservative models\n",
    "    \"reg_lambda\": [0, 0.5, 1, 5]\n",
    "    }"
   ]
  },
  {
   "cell_type": "code",
   "execution_count": null,
   "metadata": {
    "id": "7ya4Z4Sb3aCW"
   },
   "outputs": [],
   "source": [
    "# Set up the k-fold cross-validation\n",
    "kfold = StratifiedKFold(n_splits=5, shuffle=True, random_state=10)"
   ]
  },
  {
   "cell_type": "code",
   "execution_count": null,
   "metadata": {
    "id": "rLjJzIeC3cOs"
   },
   "outputs": [],
   "source": [
    "grid_search = GridSearchCV(estimator=model,\n",
    "              param_grid= param_grid,\n",
    "              scoring='f1',\n",
    "              refit='f1',\n",
    "              n_jobs=-1,\n",
    "              cv=kfold,\n",
    "              verbose=0)"
   ]
  },
  {
   "cell_type": "code",
   "execution_count": null,
   "metadata": {
    "id": "cba8bfzM4Fga"
   },
   "outputs": [],
   "source": [
    "# For each category fit model AdaBoost\n",
    "results3 = pd.DataFrame(columns=['accuracy','recall','f1','precision','confusion_matrix'], index=categorized_data.keys())\n",
    "for category, category_data in categorized_data.items():\n",
    "    X_train = category_data['X_train']\n",
    "    y_train = category_data['y_train']\n",
    "    X_test = category_data['X_test']\n",
    "    y_test = category_data['y_test']\n",
    "    print(f'Training {category}')\n",
    "    xgboost2 = grid_search.fit(X_train, y_train)\n",
    "    xgboost2_preds = xgboost2.best_estimator_.predict(X_test)\n",
    "    print(f'The best hyperparameters are {xgboost2.best_params_}')\n",
    "    #printing performance according to the best model for accuracy\n",
    "    print(\"\\tAccuracy:\" ,accuracy_score(y_test, xgboost2_preds))\n",
    "    print(\"\\tRecall:\", recall_score(y_test, xgboost2_preds))\n",
    "    print(\"\\tF1 score:\",f1_score(y_test,xgboost2_preds))\n",
    "    print(\"\\tPresicion\", precision_score(y_test,xgboost2_preds))\n",
    "    print(\"\\tconfusion_matrix\", confusion_matrix(y_test, xgboost2_preds))"
   ]
  }
 ],
 "metadata": {
  "colab": {
   "provenance": []
  },
  "kernelspec": {
   "display_name": "Python 3 (ipykernel)",
   "language": "python",
   "name": "python3"
  },
  "language_info": {
   "codemirror_mode": {
    "name": "ipython",
    "version": 3
   },
   "file_extension": ".py",
   "mimetype": "text/x-python",
   "name": "python",
   "nbconvert_exporter": "python",
   "pygments_lexer": "ipython3",
   "version": "3.10.13"
  }
 },
 "nbformat": 4,
 "nbformat_minor": 1
}
