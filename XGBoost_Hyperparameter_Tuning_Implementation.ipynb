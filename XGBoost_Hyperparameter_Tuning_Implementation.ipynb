{
 "cells": [
  {
   "cell_type": "markdown",
   "metadata": {
    "id": "u858Ksxjf08D"
   },
   "source": [
    "# STEP 1 : Install and Important Libaries"
   ]
  },
  {
   "cell_type": "code",
   "execution_count": null,
   "metadata": {
    "id": "DtL0XN4zgaym"
   },
   "outputs": [],
   "source": [
    "# Data processing\n",
    "import pandas as pd\n",
    "import numpy as np\n",
    "import matplotlib.pyplot as plt\n",
    "\n",
    "# Model and performance evaluation\n",
    "from sklearn.model_selection import train_test_split\n",
    "from xgboost import XGBClassifier\n",
    "from sklearn.ensemble import RandomForestClassifier\n",
    "from sklearn.metrics import precision_recall_fscore_support as score\n",
    "from sklearn.metrics import precision_score, recall_score, f1_score, accuracy_score\n",
    "from sklearn.metrics import confusion_matrix\n",
    "\n",
    "# Hyperparameter tuning\n",
    "from sklearn.model_selection import StratifiedKFold, cross_val_score, GridSearchCV, RandomizedSearchCV\n",
    "from hyperopt import tpe, STATUS_OK, Trials, hp, fmin, STATUS_OK, space_eval\n",
    "\n",
    "#OverSampling\n",
    "from imblearn.over_sampling import RandomOverSampler, SMOTE"
   ]
  },
  {
   "cell_type": "markdown",
   "metadata": {
    "id": "oadNoStqhn5G"
   },
   "source": [
    "#STEP 2 : Download and Preparing Data"
   ]
  },
  {
   "cell_type": "code",
   "execution_count": null,
   "metadata": {
    "id": "qMIqDZjih5IZ"
   },
   "outputs": [],
   "source": [
    "!gdown 1-2gXdkQELPxQXdUOwN8F1dR2vgke60qW\n",
    "df = pd.read_csv('data/secondary_sale_dataset.csv')"
   ]
  },
  {
   "cell_type": "code",
   "execution_count": null,
   "metadata": {
    "colab": {
     "base_uri": "https://localhost:8080/"
    },
    "id": "4F7pk-WXiEfd",
    "outputId": "38651d24-5957-42f4-eacb-87aa4085a5e7"
   },
   "outputs": [
    {
     "name": "stdout",
     "output_type": "stream",
     "text": [
      "Games\n",
      "\tTrain count: 1,938,626\n",
      "\tTest count: 65,809\n",
      "Art\n",
      "\tTrain count: 1,638,290\n",
      "\tTest count: 56,073\n",
      "Other\n",
      "\tTrain count: 173,102\n",
      "\tTest count: 5,313\n",
      "Collectible\n",
      "\tTrain count: 1,427,352\n",
      "\tTest count: 52,716\n",
      "Utility\n",
      "\tTrain count: 6,470\n",
      "\tTest count: 209\n",
      "Metaverse\n",
      "\tTrain count: 33,464\n",
      "\tTest count: 1,693\n",
      "All\n",
      "\tTrain count: 4,072,412\n",
      "\tTest count: 181,810\n"
     ]
    }
   ],
   "source": [
    "def split_categories(df):\n",
    "  categorized_data = {}\n",
    "  for category in df['Category'].unique():\n",
    "    categorized_data[category] = {\n",
    "        'df': df[df['Category'] == category].copy(deep=True)\n",
    "    }\n",
    "  categorized_data['All'] = {\n",
    "      'df' : df.copy(deep=True)\n",
    "  }\n",
    "  return categorized_data\n",
    "\n",
    "# prepare data\n",
    "categorized_data = split_categories(df)\n",
    "feature_columns = ['0','1','2','3','4','5','6','week_1','centrality_buyer','centrality_seller','p_resale']\n",
    "label_column = 'secondary_sale'\n",
    "for key, item in categorized_data.items():\n",
    "  category_df = item['df']\n",
    "  X = category_df[feature_columns].values\n",
    "  y = category_df[label_column].values\n",
    "#train-test split\n",
    "  X_train, X_test, y_train, y_test = train_test_split(X, y, test_size=0.05, random_state=42)\n",
    "#SMOTE for OverSampling\n",
    "  oversample = SMOTE()\n",
    "  X_train_res, y_train_res = oversample.fit_resample(X_train, y_train)\n",
    "  categorized_data[key]['X_train'] = X_train_res\n",
    "  categorized_data[key]['X_test'] = X_test\n",
    "  categorized_data[key]['y_train'] = y_train_res\n",
    "  categorized_data[key]['y_test'] = y_test\n",
    "for key, item in categorized_data.items():\n",
    "  print(f'{key}\\n\\tTrain count: {len(item[\"X_train\"]):,}\\n\\tTest count: {len(item[\"X_test\"]):,}')"
   ]
  },
  {
   "cell_type": "markdown",
   "metadata": {
    "id": "zRRONPg-14s8"
   },
   "source": [
    "# Step 3: XGBoost Classifier With No Hyperparameter Tuning"
   ]
  },
  {
   "cell_type": "code",
   "execution_count": null,
   "metadata": {
    "colab": {
     "base_uri": "https://localhost:8080/"
    },
    "id": "esgugkEy2F3r",
    "outputId": "b4438f18-311d-4f2a-f7ba-e5ea0f70ddce"
   },
   "outputs": [
    {
     "data": {
      "text/plain": [
       "{'base_score': 0.5,\n",
       " 'booster': 'gbtree',\n",
       " 'colsample_bylevel': 1,\n",
       " 'colsample_bynode': 1,\n",
       " 'colsample_bytree': 1,\n",
       " 'gamma': 0,\n",
       " 'learning_rate': 0.1,\n",
       " 'max_delta_step': 0,\n",
       " 'max_depth': 3,\n",
       " 'min_child_weight': 1,\n",
       " 'missing': None,\n",
       " 'n_estimators': 100,\n",
       " 'n_jobs': 1,\n",
       " 'nthread': None,\n",
       " 'objective': 'binary:logistic',\n",
       " 'random_state': 0,\n",
       " 'reg_alpha': 0,\n",
       " 'reg_lambda': 1,\n",
       " 'scale_pos_weight': 1,\n",
       " 'seed': None,\n",
       " 'silent': None,\n",
       " 'subsample': 1,\n",
       " 'verbosity': 1}"
      ]
     },
     "execution_count": 4,
     "metadata": {},
     "output_type": "execute_result"
    }
   ],
   "source": [
    "# Initiate XGBoost Classifier\n",
    "model = XGBClassifier()\n",
    "# Print default setting\n",
    "model.get_params()"
   ]
  },
  {
   "cell_type": "code",
   "execution_count": null,
   "metadata": {
    "colab": {
     "base_uri": "https://localhost:8080/"
    },
    "id": "mxnGxAcv4IF9",
    "outputId": "b6f297d9-3cfc-41e2-9f94-006d9d8b4985"
   },
   "outputs": [
    {
     "name": "stdout",
     "output_type": "stream",
     "text": [
      "Training Games\n",
      "\tAccuracy: 0.7016821407406282\n",
      "\tRecall: 0.5891075577422441\n",
      "\tF1 score: 0.4675923414872268\n",
      "\tPresicion 0.38763489208633095\n",
      "\tconfusion_matrix [[37556 13619]\n",
      " [ 6013  8621]]\n",
      "Training Art\n",
      "\tAccuracy: 0.7687122144347547\n",
      "\tRecall: 0.7723340929172674\n",
      "\tF1 score: 0.8366604113401932\n",
      "\tPresicion 0.9126755145220234\n",
      "\tconfusion_matrix [[ 9889  3178]\n",
      " [ 9791 33215]]\n",
      "Training Other\n",
      "\tAccuracy: 0.6627140974967062\n",
      "\tRecall: 0.5392296718972895\n",
      "\tF1 score: 0.2967032967032967\n",
      "\tPresicion 0.2046561992420141\n",
      "\tconfusion_matrix [[3143 1469]\n",
      " [ 323  378]]\n",
      "Training Collectible\n",
      "\tAccuracy: 0.7403824265877532\n",
      "\tRecall: 0.5395354992390657\n",
      "\tF1 score: 0.5437087417483497\n",
      "\tPresicion 0.5479470465694509\n",
      "\tconfusion_matrix [[30876  6727]\n",
      " [ 6959  8154]]\n",
      "Training Utility\n",
      "\tAccuracy: 0.7033492822966507\n",
      "\tRecall: 0.5227272727272727\n",
      "\tF1 score: 0.4259259259259259\n",
      "\tPresicion 0.359375\n",
      "\tconfusion_matrix [[124  41]\n",
      " [ 21  23]]\n",
      "Training Metaverse\n",
      "\tAccuracy: 0.7365623154164206\n",
      "\tRecall: 0.7288135593220338\n",
      "\tF1 score: 0.7296969696969696\n",
      "\tPresicion 0.7305825242718447\n",
      "\tconfusion_matrix [[645 222]\n",
      " [224 602]]\n",
      "Training All\n",
      "\tAccuracy: 0.7377261976788956\n",
      "\tRecall: 0.7118675794202588\n",
      "\tF1 score: 0.690701053396295\n",
      "\tPresicion 0.6707569038500303\n",
      "\tconfusion_matrix [[80884 26134]\n",
      " [21550 53242]]\n"
     ]
    }
   ],
   "source": [
    "# For each category fit model XGBoost\n",
    "results = pd.DataFrame(columns=['accuracy','recall','f1','precision','confusion_matrix'], index=categorized_data.keys())\n",
    "for category, category_data in categorized_data.items():\n",
    "  X_train = category_data['X_train']\n",
    "  y_train = category_data['y_train']\n",
    "  X_test = category_data['X_test']\n",
    "  y_test = category_data['y_test']\n",
    "  print(f'Training {category}')\n",
    "  model.fit(X_train, y_train)\n",
    "  y_pred = model.predict(X_test)\n",
    "#Calculating and printing performance metrics\n",
    "  results.loc[category,'accuracy'] = accuracy_score(y_test, y_pred)\n",
    "  results.loc[category,'recall'] = recall_score(y_test, y_pred)\n",
    "  results.loc[category,'f1'] = f1_score(y_test,y_pred)\n",
    "  results.loc[category,'precision'] = precision_score(y_test,y_pred)\n",
    "  results.loc[category,'confusion_matrix'] = confusion_matrix(y_test, y_pred)\n",
    "  print(\"\\tAccuracy:\" ,accuracy_score(y_test, y_pred))\n",
    "  print(\"\\tRecall:\", recall_score(y_test, y_pred))\n",
    "  print(\"\\tF1 score:\",f1_score(y_test,y_pred))\n",
    "  print(\"\\tPresicion\", precision_score(y_test,y_pred))\n",
    "  print(\"\\tconfusion_matrix\", confusion_matrix(y_test, y_pred))"
   ]
  },
  {
   "cell_type": "markdown",
   "metadata": {
    "id": "heH3eqCAfJnK"
   },
   "source": [
    "# Step 5: Grid Search for XGBoost"
   ]
  },
  {
   "cell_type": "code",
   "execution_count": null,
   "metadata": {
    "id": "HNE3MnPPfRTH"
   },
   "outputs": [],
   "source": [
    "# Define the search space\n",
    "param_grid = {\n",
    "    # Percentage of columns to be randomly samples for each tree.\n",
    "    \"colsample_bytree\": [ 0.3, 0.5 , 0.8, 1],\n",
    "    # reg_alpha provides l1 regularization to the weight, higher values result in more conservative models\n",
    "    \"reg_alpha\": [0, 0.5, 1, 5],\n",
    "    # reg_lambda provides l2 regularization to the weight, higher values result in more conservative models\n",
    "    \"reg_lambda\": [0, 0.5, 1, 5]\n",
    "    }\n",
    "\n",
    "kfold = StratifiedKFold(n_splits=10, shuffle=True, random_state=17)\n",
    "#from sklearn.model_selection import KFold\n",
    "#cv_inner = KFold(n_splits=15, shuffle=True, random_state=1)"
   ]
  },
  {
   "cell_type": "code",
   "execution_count": null,
   "metadata": {
    "colab": {
     "base_uri": "https://localhost:8080/"
    },
    "id": "Q5jfkcfsEOw_",
    "outputId": "0685c957-30b0-439a-9570-056db12e498c"
   },
   "outputs": [
    {
     "name": "stdout",
     "output_type": "stream",
     "text": [
      "Training Other\n",
      "The best score is 0.6635\n",
      "The best hyperparameters are {'colsample_bytree': 0.3, 'reg_alpha': 0.5, 'reg_lambda': 0}\n",
      "\tAccuracy: 0.6559382646339168\n",
      "\tRecall: 0.5592011412268189\n",
      "\tF1 score: 0.3001531393568147\n",
      "\tPresicion 0.20512820512820512\n",
      "\tconfusion_matrix [[3093 1519]\n",
      " [ 309  392]]\n"
     ]
    }
   ],
   "source": [
    "# Define grid search\n",
    "grid_search = GridSearchCV(estimator=model,\n",
    "                           param_grid=param_grid,\n",
    "                           scoring='f1',\n",
    "                           refit='f1',\n",
    "                           n_jobs=-1,\n",
    "                           cv=kfold,\n",
    "                           verbose=0)\n",
    "\n",
    "for category, category_data in categorized_data.items():\n",
    "   if category == 'Other' :\n",
    "    X_train = category_data['X_train']\n",
    "    y_train = category_data['y_train']\n",
    "    X_test = category_data['X_test']\n",
    "    y_test = category_data['y_test']\n",
    "    print(f'Training {category}')\n",
    "    # Fit grid search\n",
    "    grid_search.fit(X_train, y_train)\n",
    "    # Print the best score and the corresponding hyperparameters\n",
    "    print(f'The best score is {grid_search.best_score_:.4f}')\n",
    "    print(f'The best hyperparameters are {grid_search.best_params_}')\n",
    "    # Make prediction using the best model\n",
    "    grid_predict = grid_search.predict(X_test)\n",
    "    #printing performance according to the best model for accuracy\n",
    "    print(\"\\tAccuracy:\" ,accuracy_score(y_test, grid_predict))\n",
    "    print(\"\\tRecall:\", recall_score(y_test, grid_predict))\n",
    "    print(\"\\tF1 score:\",f1_score(y_test,grid_predict))\n",
    "    print(\"\\tPresicion\", precision_score(y_test,grid_predict))\n",
    "    print(\"\\tconfusion_matrix\", confusion_matrix(y_test, grid_predict))"
   ]
  },
  {
   "cell_type": "code",
   "execution_count": null,
   "metadata": {
    "colab": {
     "base_uri": "https://localhost:8080/"
    },
    "id": "W_zZOhxi3dyQ",
    "outputId": "a987b50c-8f5e-4150-f6eb-e045f8849547"
   },
   "outputs": [
    {
     "name": "stdout",
     "output_type": "stream",
     "text": [
      "Training Other\n",
      "The best score is 0.6621\n",
      "The best hyperparameters are {'colsample_bytree': 0.3, 'reg_alpha': 0.5, 'reg_lambda': 0}\n",
      "\tAccuracy: 0.6563146997929606\n",
      "\tRecall: 0.5420827389443652\n",
      "\tF1 score: 0.29389017788089716\n",
      "\tPresicion 0.20159151193633953\n",
      "\tconfusion_matrix [[3107 1505]\n",
      " [ 321  380]]\n",
      "Training Utility\n",
      "The best score is 0.7696\n",
      "The best hyperparameters are {'colsample_bytree': 0.8, 'reg_alpha': 0.5, 'reg_lambda': 0.5}\n",
      "\tAccuracy: 0.7129186602870813\n",
      "\tRecall: 0.5454545454545454\n",
      "\tF1 score: 0.4444444444444444\n",
      "\tPresicion 0.375\n",
      "\tconfusion_matrix [[125  40]\n",
      " [ 20  24]]\n",
      "Training Metaverse\n",
      "The best score is 0.7568\n",
      "The best hyperparameters are {'colsample_bytree': 0.3, 'reg_alpha': 0, 'reg_lambda': 5}\n",
      "\tAccuracy: 0.7383343177790904\n",
      "\tRecall: 0.7554479418886199\n",
      "\tF1 score: 0.7380248373743348\n",
      "\tPresicion 0.7213872832369942\n",
      "\tconfusion_matrix [[626 241]\n",
      " [202 624]]\n"
     ]
    }
   ],
   "source": [
    "# Define grid search\n",
    "grid_search = GridSearchCV(estimator=model,\n",
    "                           param_grid=param_grid,\n",
    "                           scoring='f1',\n",
    "                           n_jobs=-1,\n",
    "                           cv=kfold,\n",
    "                           verbose=0)\n",
    "\n",
    "for category, category_data in categorized_data.items():\n",
    "  if category == 'Metaverse' or category == 'Other' or category =='Utility' :\n",
    "    X_train = category_data['X_train']\n",
    "    y_train = category_data['y_train']\n",
    "    X_test = category_data['X_test']\n",
    "    y_test = category_data['y_test']\n",
    "    print(f'Training {category}')\n",
    "    # Fit grid search\n",
    "    grid_result = grid_search.fit(X_train, y_train)\n",
    "    # Print the best score and the corresponding hyperparameters\n",
    "    print(f'The best score is {grid_result.best_score_:.4f}')\n",
    "    print(f'The best hyperparameters are {grid_result.best_params_}')\n",
    "    # Make prediction using the best model\n",
    "    grid_predict = grid_result.predict(X_test)\n",
    "    # Get predicted probabilities\n",
    "    grid_result_prob = grid_result.predict_proba(X_test)[:,1]\n",
    "    #printing performance according to the best model for accuracy\n",
    "    print(\"\\tAccuracy:\" ,accuracy_score(y_test, grid_predict))\n",
    "    print(\"\\tRecall:\", recall_score(y_test, grid_predict))\n",
    "    print(\"\\tF1 score:\",f1_score(y_test,grid_predict))\n",
    "    print(\"\\tPresicion\", precision_score(y_test,grid_predict))\n",
    "    print(\"\\tconfusion_matrix\", confusion_matrix(y_test, grid_predict))\n",
    "  # Get performance metrics\n",
    "  #precision, recall, fscore, support = score(y_test, grid_predict)\n",
    "  # Print result\n",
    "  #print(f'Presicion: {precision[0]:.4f}')\n",
    "  #print(f'Recall: {recall[1]:.4f}')\n",
    "  #print(f'F1 score: {fscore[2]:.4f}')"
   ]
  },
  {
   "cell_type": "code",
   "execution_count": null,
   "metadata": {
    "colab": {
     "base_uri": "https://localhost:8080/"
    },
    "id": "emwqPWxOMjPu",
    "outputId": "b3805f74-89f6-435e-b03c-c3cc714b6a55"
   },
   "outputs": [
    {
     "name": "stdout",
     "output_type": "stream",
     "text": [
      "Training Collectible\n",
      "The best score is 0.6477\n",
      "The best hyperparameters are {'colsample_bytree': 0.8, 'reg_alpha': 5, 'reg_lambda': 0}\n",
      "\tAccuracy: 0.7411032703543516\n",
      "\tRecall: 0.5341097068748759\n",
      "\tF1 score: 0.541890440386681\n",
      "\tPresicion 0.5499012194291164\n",
      "\tconfusion_matrix [[30996  6607]\n",
      " [ 7041  8072]]\n"
     ]
    }
   ],
   "source": [
    "# Define grid search\n",
    "grid_search = GridSearchCV(estimator=model,\n",
    "                           param_grid=param_grid,\n",
    "                           scoring='f1',\n",
    "                           n_jobs=-1,\n",
    "                           cv=kfold,\n",
    "                           verbose=0)\n",
    "\n",
    "for category, category_data in categorized_data.items():\n",
    "  if category == 'Collectible' :\n",
    "    X_train = category_data['X_train']\n",
    "    y_train = category_data['y_train']\n",
    "    X_test = category_data['X_test']\n",
    "    y_test = category_data['y_test']\n",
    "    print(f'Training {category}')\n",
    "    # Fit grid search\n",
    "    grid_result_collectible = grid_search.fit(X_train, y_train)\n",
    "    # Print the best score and the corresponding hyperparameters\n",
    "    print(f'The best score is {grid_result_collectible.best_score_:.4f}')\n",
    "    print(f'The best hyperparameters are {grid_result_collectible.best_params_}')\n",
    "    # Make prediction using the best model\n",
    "    grid_predict_collectible = grid_result_collectible.predict(X_test)\n",
    "    # Get predicted probabilities\n",
    "    grid_result_prob = grid_result_collectible.predict_proba(X_test)[:,1]\n",
    "    #printing performance according to the best model for accuracy\n",
    "    print(\"\\tAccuracy:\" ,accuracy_score(y_test, grid_predict_collectible))\n",
    "    print(\"\\tRecall:\", recall_score(y_test, grid_predict_collectible))\n",
    "    print(\"\\tF1 score:\",f1_score(y_test,grid_predict_collectible))\n",
    "    print(\"\\tPresicion\", precision_score(y_test,grid_predict_collectible))\n",
    "    print(\"\\tconfusion_matrix\", confusion_matrix(y_test, grid_predict_collectible))\n",
    "  # Get performance metrics\n",
    "  #precision, recall, fscore, support = score(y_test, grid_predict)\n",
    "  # Print result\n",
    "  #print(f'Presicion: {precision[0]:.4f}')\n",
    "  #print(f'Recall: {recall[1]:.4f}')\n",
    "  #print(f'F1 score: {fscore[2]:.4f}')"
   ]
  },
  {
   "cell_type": "code",
   "execution_count": null,
   "metadata": {
    "colab": {
     "base_uri": "https://localhost:8080/",
     "height": 206
    },
    "id": "ezJ3QMwniARu",
    "outputId": "550e62d1-4e76-4334-9e8d-4727cebd1ba7"
   },
   "outputs": [
    {
     "data": {
      "text/html": [
       "\n",
       "  <div id=\"df-b5460222-ff9d-4047-866a-e42003cc4c98\">\n",
       "    <div class=\"colab-df-container\">\n",
       "      <div>\n",
       "<style scoped>\n",
       "    .dataframe tbody tr th:only-of-type {\n",
       "        vertical-align: middle;\n",
       "    }\n",
       "\n",
       "    .dataframe tbody tr th {\n",
       "        vertical-align: top;\n",
       "    }\n",
       "\n",
       "    .dataframe thead th {\n",
       "        text-align: right;\n",
       "    }\n",
       "</style>\n",
       "<table border=\"1\" class=\"dataframe\">\n",
       "  <thead>\n",
       "    <tr style=\"text-align: right;\">\n",
       "      <th></th>\n",
       "      <th>colsample_bytree</th>\n",
       "      <th>reg_alpha</th>\n",
       "      <th>reg_lambda</th>\n",
       "      <th>F1</th>\n",
       "    </tr>\n",
       "  </thead>\n",
       "  <tbody>\n",
       "    <tr>\n",
       "      <th>0</th>\n",
       "      <td>0.3</td>\n",
       "      <td>0.0</td>\n",
       "      <td>0.0</td>\n",
       "      <td>0.640112</td>\n",
       "    </tr>\n",
       "    <tr>\n",
       "      <th>1</th>\n",
       "      <td>0.3</td>\n",
       "      <td>0.0</td>\n",
       "      <td>0.5</td>\n",
       "      <td>0.640103</td>\n",
       "    </tr>\n",
       "    <tr>\n",
       "      <th>2</th>\n",
       "      <td>0.3</td>\n",
       "      <td>0.0</td>\n",
       "      <td>1.0</td>\n",
       "      <td>0.639788</td>\n",
       "    </tr>\n",
       "    <tr>\n",
       "      <th>3</th>\n",
       "      <td>0.3</td>\n",
       "      <td>0.0</td>\n",
       "      <td>5.0</td>\n",
       "      <td>0.639960</td>\n",
       "    </tr>\n",
       "    <tr>\n",
       "      <th>4</th>\n",
       "      <td>0.3</td>\n",
       "      <td>0.5</td>\n",
       "      <td>0.0</td>\n",
       "      <td>0.640009</td>\n",
       "    </tr>\n",
       "  </tbody>\n",
       "</table>\n",
       "</div>\n",
       "      <button class=\"colab-df-convert\" onclick=\"convertToInteractive('df-b5460222-ff9d-4047-866a-e42003cc4c98')\"\n",
       "              title=\"Convert this dataframe to an interactive table.\"\n",
       "              style=\"display:none;\">\n",
       "        \n",
       "  <svg xmlns=\"http://www.w3.org/2000/svg\" height=\"24px\"viewBox=\"0 0 24 24\"\n",
       "       width=\"24px\">\n",
       "    <path d=\"M0 0h24v24H0V0z\" fill=\"none\"/>\n",
       "    <path d=\"M18.56 5.44l.94 2.06.94-2.06 2.06-.94-2.06-.94-.94-2.06-.94 2.06-2.06.94zm-11 1L8.5 8.5l.94-2.06 2.06-.94-2.06-.94L8.5 2.5l-.94 2.06-2.06.94zm10 10l.94 2.06.94-2.06 2.06-.94-2.06-.94-.94-2.06-.94 2.06-2.06.94z\"/><path d=\"M17.41 7.96l-1.37-1.37c-.4-.4-.92-.59-1.43-.59-.52 0-1.04.2-1.43.59L10.3 9.45l-7.72 7.72c-.78.78-.78 2.05 0 2.83L4 21.41c.39.39.9.59 1.41.59.51 0 1.02-.2 1.41-.59l7.78-7.78 2.81-2.81c.8-.78.8-2.07 0-2.86zM5.41 20L4 18.59l7.72-7.72 1.47 1.35L5.41 20z\"/>\n",
       "  </svg>\n",
       "      </button>\n",
       "      \n",
       "  <style>\n",
       "    .colab-df-container {\n",
       "      display:flex;\n",
       "      flex-wrap:wrap;\n",
       "      gap: 12px;\n",
       "    }\n",
       "\n",
       "    .colab-df-convert {\n",
       "      background-color: #E8F0FE;\n",
       "      border: none;\n",
       "      border-radius: 50%;\n",
       "      cursor: pointer;\n",
       "      display: none;\n",
       "      fill: #1967D2;\n",
       "      height: 32px;\n",
       "      padding: 0 0 0 0;\n",
       "      width: 32px;\n",
       "    }\n",
       "\n",
       "    .colab-df-convert:hover {\n",
       "      background-color: #E2EBFA;\n",
       "      box-shadow: 0px 1px 2px rgba(60, 64, 67, 0.3), 0px 1px 3px 1px rgba(60, 64, 67, 0.15);\n",
       "      fill: #174EA6;\n",
       "    }\n",
       "\n",
       "    [theme=dark] .colab-df-convert {\n",
       "      background-color: #3B4455;\n",
       "      fill: #D2E3FC;\n",
       "    }\n",
       "\n",
       "    [theme=dark] .colab-df-convert:hover {\n",
       "      background-color: #434B5C;\n",
       "      box-shadow: 0px 1px 3px 1px rgba(0, 0, 0, 0.15);\n",
       "      filter: drop-shadow(0px 1px 2px rgba(0, 0, 0, 0.3));\n",
       "      fill: #FFFFFF;\n",
       "    }\n",
       "  </style>\n",
       "\n",
       "      <script>\n",
       "        const buttonEl =\n",
       "          document.querySelector('#df-b5460222-ff9d-4047-866a-e42003cc4c98 button.colab-df-convert');\n",
       "        buttonEl.style.display =\n",
       "          google.colab.kernel.accessAllowed ? 'block' : 'none';\n",
       "\n",
       "        async function convertToInteractive(key) {\n",
       "          const element = document.querySelector('#df-b5460222-ff9d-4047-866a-e42003cc4c98');\n",
       "          const dataTable =\n",
       "            await google.colab.kernel.invokeFunction('convertToInteractive',\n",
       "                                                     [key], {});\n",
       "          if (!dataTable) return;\n",
       "\n",
       "          const docLinkHtml = 'Like what you see? Visit the ' +\n",
       "            '<a target=\"_blank\" href=https://colab.research.google.com/notebooks/data_table.ipynb>data table notebook</a>'\n",
       "            + ' to learn more about interactive tables.';\n",
       "          element.innerHTML = '';\n",
       "          dataTable['output_type'] = 'display_data';\n",
       "          await google.colab.output.renderOutput(dataTable, element);\n",
       "          const docLink = document.createElement('div');\n",
       "          docLink.innerHTML = docLinkHtml;\n",
       "          element.appendChild(docLink);\n",
       "        }\n",
       "      </script>\n",
       "    </div>\n",
       "  </div>\n",
       "  "
      ],
      "text/plain": [
       "   colsample_bytree  reg_alpha  reg_lambda        F1\n",
       "0               0.3        0.0         0.0  0.640112\n",
       "1               0.3        0.0         0.5  0.640103\n",
       "2               0.3        0.0         1.0  0.639788\n",
       "3               0.3        0.0         5.0  0.639960\n",
       "4               0.3        0.5         0.0  0.640009"
      ]
     },
     "execution_count": 9,
     "metadata": {},
     "output_type": "execute_result"
    }
   ],
   "source": [
    "import pandas as pd\n",
    "random_results_pd_collectible = pd.concat([pd.DataFrame(grid_search.cv_results_[\"params\"]),pd.DataFrame(grid_search.cv_results_[\"mean_test_score\"], columns=[\"F1\"])],axis=1)\n",
    "random_results_pd_collectible.head()"
   ]
  },
  {
   "cell_type": "code",
   "execution_count": null,
   "metadata": {
    "colab": {
     "base_uri": "https://localhost:8080/",
     "height": 542
    },
    "id": "0TXdSiBUiODf",
    "outputId": "9e79e828-2484-44c6-d763-6204e4b167c1"
   },
   "outputs": [
    {
     "data": {
      "text/html": [
       "<html>\n",
       "<head><meta charset=\"utf-8\" /></head>\n",
       "<body>\n",
       "    <div>            <script src=\"https://cdnjs.cloudflare.com/ajax/libs/mathjax/2.7.5/MathJax.js?config=TeX-AMS-MML_SVG\"></script><script type=\"text/javascript\">if (window.MathJax) {MathJax.Hub.Config({SVG: {font: \"STIX-Web\"}});}</script>                <script type=\"text/javascript\">window.PlotlyConfig = {MathJaxConfig: 'local'};</script>\n",
       "        <script src=\"https://cdn.plot.ly/plotly-2.8.3.min.js\"></script>                <div id=\"561cc841-49c8-4169-83d0-2470e965ebba\" class=\"plotly-graph-div\" style=\"height:525px; width:100%;\"></div>            <script type=\"text/javascript\">                                    window.PLOTLYENV=window.PLOTLYENV || {};                                    if (document.getElementById(\"561cc841-49c8-4169-83d0-2470e965ebba\")) {                    Plotly.newPlot(                        \"561cc841-49c8-4169-83d0-2470e965ebba\",                        [{\"dimensions\":[{\"label\":\"colsample_bytree\",\"values\":[0.3,0.3,0.3,0.3,0.3,0.3,0.3,0.3,0.3,0.3,0.3,0.3,0.3,0.3,0.3,0.3,0.5,0.5,0.5,0.5,0.5,0.5,0.5,0.5,0.5,0.5,0.5,0.5,0.5,0.5,0.5,0.5,0.8,0.8,0.8,0.8,0.8,0.8,0.8,0.8,0.8,0.8,0.8,0.8,0.8,0.8,0.8,0.8]},{\"label\":\"reg_alpha\",\"values\":[0.0,0.0,0.0,0.0,0.5,0.5,0.5,0.5,1.0,1.0,1.0,1.0,5.0,5.0,5.0,5.0,0.0,0.0,0.0,0.0,0.5,0.5,0.5,0.5,1.0,1.0,1.0,1.0,5.0,5.0,5.0,5.0,0.0,0.0,0.0,0.0,0.5,0.5,0.5,0.5,1.0,1.0,1.0,1.0,5.0,5.0,5.0,5.0]},{\"label\":\"reg_lambda\",\"values\":[0.0,0.5,1.0,5.0,0.0,0.5,1.0,5.0,0.0,0.5,1.0,5.0,0.0,0.5,1.0,5.0,0.0,0.5,1.0,5.0,0.0,0.5,1.0,5.0,0.0,0.5,1.0,5.0,0.0,0.5,1.0,5.0,0.0,0.5,1.0,5.0,0.0,0.5,1.0,5.0,0.0,0.5,1.0,5.0,0.0,0.5,1.0,5.0]},{\"label\":\"F1\",\"values\":[0.6401124736131475,0.6401025694161898,0.6397880182536423,0.6399601540744271,0.6400085375962844,0.6400021633907819,0.6402169888292696,0.6400023261269855,0.6401533110221069,0.6405687118200211,0.63950769603139,0.6398598793126541,0.6398082501580856,0.6398427007269752,0.6398473736638536,0.6400657940369631,0.6420156571114798,0.64181859223602,0.6418850934857753,0.6419970676963239,0.642326651661031,0.6421361500576459,0.6421301600471631,0.6419923823004677,0.6424778431275823,0.6424487315881112,0.6421022420381565,0.6420321350817907,0.6423237939148164,0.6416920421005213,0.6414036525383549,0.64142639196207,0.6469255044865809,0.6470758897961463,0.646583178164197,0.6465098621883049,0.6465771130602108,0.6468093660365238,0.6472853046834715,0.6468671339726643,0.6465038296740155,0.6469945972486263,0.6469400322607048,0.6467339156753694,0.6476963227658139,0.6474841546768043,0.6472001723420456,0.6461610364817183]}],\"domain\":{\"x\":[0.0,1.0],\"y\":[0.0,1.0]},\"line\":{\"color\":[0.6401124736131475,0.6401025694161898,0.6397880182536423,0.6399601540744271,0.6400085375962844,0.6400021633907819,0.6402169888292696,0.6400023261269855,0.6401533110221069,0.6405687118200211,0.63950769603139,0.6398598793126541,0.6398082501580856,0.6398427007269752,0.6398473736638536,0.6400657940369631,0.6420156571114798,0.64181859223602,0.6418850934857753,0.6419970676963239,0.642326651661031,0.6421361500576459,0.6421301600471631,0.6419923823004677,0.6424778431275823,0.6424487315881112,0.6421022420381565,0.6420321350817907,0.6423237939148164,0.6416920421005213,0.6414036525383549,0.64142639196207,0.6469255044865809,0.6470758897961463,0.646583178164197,0.6465098621883049,0.6465771130602108,0.6468093660365238,0.6472853046834715,0.6468671339726643,0.6465038296740155,0.6469945972486263,0.6469400322607048,0.6467339156753694,0.6476963227658139,0.6474841546768043,0.6472001723420456,0.6461610364817183],\"coloraxis\":\"coloraxis\"},\"name\":\"\",\"type\":\"parcoords\"}],                        {\"template\":{\"data\":{\"bar\":[{\"error_x\":{\"color\":\"#2a3f5f\"},\"error_y\":{\"color\":\"#2a3f5f\"},\"marker\":{\"line\":{\"color\":\"#E5ECF6\",\"width\":0.5},\"pattern\":{\"fillmode\":\"overlay\",\"size\":10,\"solidity\":0.2}},\"type\":\"bar\"}],\"barpolar\":[{\"marker\":{\"line\":{\"color\":\"#E5ECF6\",\"width\":0.5},\"pattern\":{\"fillmode\":\"overlay\",\"size\":10,\"solidity\":0.2}},\"type\":\"barpolar\"}],\"carpet\":[{\"aaxis\":{\"endlinecolor\":\"#2a3f5f\",\"gridcolor\":\"white\",\"linecolor\":\"white\",\"minorgridcolor\":\"white\",\"startlinecolor\":\"#2a3f5f\"},\"baxis\":{\"endlinecolor\":\"#2a3f5f\",\"gridcolor\":\"white\",\"linecolor\":\"white\",\"minorgridcolor\":\"white\",\"startlinecolor\":\"#2a3f5f\"},\"type\":\"carpet\"}],\"choropleth\":[{\"colorbar\":{\"outlinewidth\":0,\"ticks\":\"\"},\"type\":\"choropleth\"}],\"contour\":[{\"colorbar\":{\"outlinewidth\":0,\"ticks\":\"\"},\"colorscale\":[[0.0,\"#0d0887\"],[0.1111111111111111,\"#46039f\"],[0.2222222222222222,\"#7201a8\"],[0.3333333333333333,\"#9c179e\"],[0.4444444444444444,\"#bd3786\"],[0.5555555555555556,\"#d8576b\"],[0.6666666666666666,\"#ed7953\"],[0.7777777777777778,\"#fb9f3a\"],[0.8888888888888888,\"#fdca26\"],[1.0,\"#f0f921\"]],\"type\":\"contour\"}],\"contourcarpet\":[{\"colorbar\":{\"outlinewidth\":0,\"ticks\":\"\"},\"type\":\"contourcarpet\"}],\"heatmap\":[{\"colorbar\":{\"outlinewidth\":0,\"ticks\":\"\"},\"colorscale\":[[0.0,\"#0d0887\"],[0.1111111111111111,\"#46039f\"],[0.2222222222222222,\"#7201a8\"],[0.3333333333333333,\"#9c179e\"],[0.4444444444444444,\"#bd3786\"],[0.5555555555555556,\"#d8576b\"],[0.6666666666666666,\"#ed7953\"],[0.7777777777777778,\"#fb9f3a\"],[0.8888888888888888,\"#fdca26\"],[1.0,\"#f0f921\"]],\"type\":\"heatmap\"}],\"heatmapgl\":[{\"colorbar\":{\"outlinewidth\":0,\"ticks\":\"\"},\"colorscale\":[[0.0,\"#0d0887\"],[0.1111111111111111,\"#46039f\"],[0.2222222222222222,\"#7201a8\"],[0.3333333333333333,\"#9c179e\"],[0.4444444444444444,\"#bd3786\"],[0.5555555555555556,\"#d8576b\"],[0.6666666666666666,\"#ed7953\"],[0.7777777777777778,\"#fb9f3a\"],[0.8888888888888888,\"#fdca26\"],[1.0,\"#f0f921\"]],\"type\":\"heatmapgl\"}],\"histogram\":[{\"marker\":{\"pattern\":{\"fillmode\":\"overlay\",\"size\":10,\"solidity\":0.2}},\"type\":\"histogram\"}],\"histogram2d\":[{\"colorbar\":{\"outlinewidth\":0,\"ticks\":\"\"},\"colorscale\":[[0.0,\"#0d0887\"],[0.1111111111111111,\"#46039f\"],[0.2222222222222222,\"#7201a8\"],[0.3333333333333333,\"#9c179e\"],[0.4444444444444444,\"#bd3786\"],[0.5555555555555556,\"#d8576b\"],[0.6666666666666666,\"#ed7953\"],[0.7777777777777778,\"#fb9f3a\"],[0.8888888888888888,\"#fdca26\"],[1.0,\"#f0f921\"]],\"type\":\"histogram2d\"}],\"histogram2dcontour\":[{\"colorbar\":{\"outlinewidth\":0,\"ticks\":\"\"},\"colorscale\":[[0.0,\"#0d0887\"],[0.1111111111111111,\"#46039f\"],[0.2222222222222222,\"#7201a8\"],[0.3333333333333333,\"#9c179e\"],[0.4444444444444444,\"#bd3786\"],[0.5555555555555556,\"#d8576b\"],[0.6666666666666666,\"#ed7953\"],[0.7777777777777778,\"#fb9f3a\"],[0.8888888888888888,\"#fdca26\"],[1.0,\"#f0f921\"]],\"type\":\"histogram2dcontour\"}],\"mesh3d\":[{\"colorbar\":{\"outlinewidth\":0,\"ticks\":\"\"},\"type\":\"mesh3d\"}],\"parcoords\":[{\"line\":{\"colorbar\":{\"outlinewidth\":0,\"ticks\":\"\"}},\"type\":\"parcoords\"}],\"pie\":[{\"automargin\":true,\"type\":\"pie\"}],\"scatter\":[{\"marker\":{\"colorbar\":{\"outlinewidth\":0,\"ticks\":\"\"}},\"type\":\"scatter\"}],\"scatter3d\":[{\"line\":{\"colorbar\":{\"outlinewidth\":0,\"ticks\":\"\"}},\"marker\":{\"colorbar\":{\"outlinewidth\":0,\"ticks\":\"\"}},\"type\":\"scatter3d\"}],\"scattercarpet\":[{\"marker\":{\"colorbar\":{\"outlinewidth\":0,\"ticks\":\"\"}},\"type\":\"scattercarpet\"}],\"scattergeo\":[{\"marker\":{\"colorbar\":{\"outlinewidth\":0,\"ticks\":\"\"}},\"type\":\"scattergeo\"}],\"scattergl\":[{\"marker\":{\"colorbar\":{\"outlinewidth\":0,\"ticks\":\"\"}},\"type\":\"scattergl\"}],\"scattermapbox\":[{\"marker\":{\"colorbar\":{\"outlinewidth\":0,\"ticks\":\"\"}},\"type\":\"scattermapbox\"}],\"scatterpolar\":[{\"marker\":{\"colorbar\":{\"outlinewidth\":0,\"ticks\":\"\"}},\"type\":\"scatterpolar\"}],\"scatterpolargl\":[{\"marker\":{\"colorbar\":{\"outlinewidth\":0,\"ticks\":\"\"}},\"type\":\"scatterpolargl\"}],\"scatterternary\":[{\"marker\":{\"colorbar\":{\"outlinewidth\":0,\"ticks\":\"\"}},\"type\":\"scatterternary\"}],\"surface\":[{\"colorbar\":{\"outlinewidth\":0,\"ticks\":\"\"},\"colorscale\":[[0.0,\"#0d0887\"],[0.1111111111111111,\"#46039f\"],[0.2222222222222222,\"#7201a8\"],[0.3333333333333333,\"#9c179e\"],[0.4444444444444444,\"#bd3786\"],[0.5555555555555556,\"#d8576b\"],[0.6666666666666666,\"#ed7953\"],[0.7777777777777778,\"#fb9f3a\"],[0.8888888888888888,\"#fdca26\"],[1.0,\"#f0f921\"]],\"type\":\"surface\"}],\"table\":[{\"cells\":{\"fill\":{\"color\":\"#EBF0F8\"},\"line\":{\"color\":\"white\"}},\"header\":{\"fill\":{\"color\":\"#C8D4E3\"},\"line\":{\"color\":\"white\"}},\"type\":\"table\"}]},\"layout\":{\"annotationdefaults\":{\"arrowcolor\":\"#2a3f5f\",\"arrowhead\":0,\"arrowwidth\":1},\"autotypenumbers\":\"strict\",\"coloraxis\":{\"colorbar\":{\"outlinewidth\":0,\"ticks\":\"\"}},\"colorscale\":{\"diverging\":[[0,\"#8e0152\"],[0.1,\"#c51b7d\"],[0.2,\"#de77ae\"],[0.3,\"#f1b6da\"],[0.4,\"#fde0ef\"],[0.5,\"#f7f7f7\"],[0.6,\"#e6f5d0\"],[0.7,\"#b8e186\"],[0.8,\"#7fbc41\"],[0.9,\"#4d9221\"],[1,\"#276419\"]],\"sequential\":[[0.0,\"#0d0887\"],[0.1111111111111111,\"#46039f\"],[0.2222222222222222,\"#7201a8\"],[0.3333333333333333,\"#9c179e\"],[0.4444444444444444,\"#bd3786\"],[0.5555555555555556,\"#d8576b\"],[0.6666666666666666,\"#ed7953\"],[0.7777777777777778,\"#fb9f3a\"],[0.8888888888888888,\"#fdca26\"],[1.0,\"#f0f921\"]],\"sequentialminus\":[[0.0,\"#0d0887\"],[0.1111111111111111,\"#46039f\"],[0.2222222222222222,\"#7201a8\"],[0.3333333333333333,\"#9c179e\"],[0.4444444444444444,\"#bd3786\"],[0.5555555555555556,\"#d8576b\"],[0.6666666666666666,\"#ed7953\"],[0.7777777777777778,\"#fb9f3a\"],[0.8888888888888888,\"#fdca26\"],[1.0,\"#f0f921\"]]},\"colorway\":[\"#636efa\",\"#EF553B\",\"#00cc96\",\"#ab63fa\",\"#FFA15A\",\"#19d3f3\",\"#FF6692\",\"#B6E880\",\"#FF97FF\",\"#FECB52\"],\"font\":{\"color\":\"#2a3f5f\"},\"geo\":{\"bgcolor\":\"white\",\"lakecolor\":\"white\",\"landcolor\":\"#E5ECF6\",\"showlakes\":true,\"showland\":true,\"subunitcolor\":\"white\"},\"hoverlabel\":{\"align\":\"left\"},\"hovermode\":\"closest\",\"mapbox\":{\"style\":\"light\"},\"paper_bgcolor\":\"white\",\"plot_bgcolor\":\"#E5ECF6\",\"polar\":{\"angularaxis\":{\"gridcolor\":\"white\",\"linecolor\":\"white\",\"ticks\":\"\"},\"bgcolor\":\"#E5ECF6\",\"radialaxis\":{\"gridcolor\":\"white\",\"linecolor\":\"white\",\"ticks\":\"\"}},\"scene\":{\"xaxis\":{\"backgroundcolor\":\"#E5ECF6\",\"gridcolor\":\"white\",\"gridwidth\":2,\"linecolor\":\"white\",\"showbackground\":true,\"ticks\":\"\",\"zerolinecolor\":\"white\"},\"yaxis\":{\"backgroundcolor\":\"#E5ECF6\",\"gridcolor\":\"white\",\"gridwidth\":2,\"linecolor\":\"white\",\"showbackground\":true,\"ticks\":\"\",\"zerolinecolor\":\"white\"},\"zaxis\":{\"backgroundcolor\":\"#E5ECF6\",\"gridcolor\":\"white\",\"gridwidth\":2,\"linecolor\":\"white\",\"showbackground\":true,\"ticks\":\"\",\"zerolinecolor\":\"white\"}},\"shapedefaults\":{\"line\":{\"color\":\"#2a3f5f\"}},\"ternary\":{\"aaxis\":{\"gridcolor\":\"white\",\"linecolor\":\"white\",\"ticks\":\"\"},\"baxis\":{\"gridcolor\":\"white\",\"linecolor\":\"white\",\"ticks\":\"\"},\"bgcolor\":\"#E5ECF6\",\"caxis\":{\"gridcolor\":\"white\",\"linecolor\":\"white\",\"ticks\":\"\"}},\"title\":{\"x\":0.05},\"xaxis\":{\"automargin\":true,\"gridcolor\":\"white\",\"linecolor\":\"white\",\"ticks\":\"\",\"title\":{\"standoff\":15},\"zerolinecolor\":\"white\",\"zerolinewidth\":2},\"yaxis\":{\"automargin\":true,\"gridcolor\":\"white\",\"linecolor\":\"white\",\"ticks\":\"\",\"title\":{\"standoff\":15},\"zerolinecolor\":\"white\",\"zerolinewidth\":2}}},\"coloraxis\":{\"colorbar\":{\"title\":{\"text\":\"F1\"}},\"colorscale\":[[0.0,\"#0d0887\"],[0.1111111111111111,\"#46039f\"],[0.2222222222222222,\"#7201a8\"],[0.3333333333333333,\"#9c179e\"],[0.4444444444444444,\"#bd3786\"],[0.5555555555555556,\"#d8576b\"],[0.6666666666666666,\"#ed7953\"],[0.7777777777777778,\"#fb9f3a\"],[0.8888888888888888,\"#fdca26\"],[1.0,\"#f0f921\"]]},\"legend\":{\"tracegroupgap\":0},\"margin\":{\"t\":60}},                        {\"responsive\": true}                    ).then(function(){\n",
       "                            \n",
       "var gd = document.getElementById('561cc841-49c8-4169-83d0-2470e965ebba');\n",
       "var x = new MutationObserver(function (mutations, observer) {{\n",
       "        var display = window.getComputedStyle(gd).display;\n",
       "        if (!display || display === 'none') {{\n",
       "            console.log([gd, 'removed!']);\n",
       "            Plotly.purge(gd);\n",
       "            observer.disconnect();\n",
       "        }}\n",
       "}});\n",
       "\n",
       "// Listen for the removal of the full notebook cells\n",
       "var notebookContainer = gd.closest('#notebook-container');\n",
       "if (notebookContainer) {{\n",
       "    x.observe(notebookContainer, {childList: true});\n",
       "}}\n",
       "\n",
       "// Listen for the clearing of the current output cell\n",
       "var outputEl = gd.closest('.output');\n",
       "if (outputEl) {{\n",
       "    x.observe(outputEl, {childList: true});\n",
       "}}\n",
       "\n",
       "                        })                };                            </script>        </div>\n",
       "</body>\n",
       "</html>"
      ]
     },
     "metadata": {},
     "output_type": "display_data"
    }
   ],
   "source": [
    "import plotly.express as px\n",
    "df = random_results_pd_collectible\n",
    "fig = px.parallel_coordinates(df, color=\"F1\" )\n",
    "fig.show()"
   ]
  },
  {
   "cell_type": "code",
   "execution_count": null,
   "metadata": {
    "colab": {
     "base_uri": "https://localhost:8080/"
    },
    "id": "ybH_8YZYffnA",
    "outputId": "c7dc28b0-522f-4b4c-df04-3ca406912fdd"
   },
   "outputs": [
    {
     "name": "stdout",
     "output_type": "stream",
     "text": [
      "Training Games\n",
      "The best score is 0.6665\n",
      "The best hyperparameters are {'colsample_bytree': 0.8, 'reg_alpha': 1, 'reg_lambda': 1}\n",
      "\tAccuracy: 0.7033384491482928\n",
      "\tRecall: 0.5868525351920186\n",
      "\tF1 score: 0.46802365187062317\n",
      "\tPresicion 0.38921368683435303\n",
      "\tconfusion_matrix [[37698 13477]\n",
      " [ 6046  8588]]\n",
      "Training Art\n",
      "The best score is 0.7729\n",
      "The best hyperparameters are {'colsample_bytree': 0.8, 'reg_alpha': 0, 'reg_lambda': 5}\n",
      "\tAccuracy: 0.7693007329730887\n",
      "\tRecall: 0.7757057154815608\n",
      "\tF1 score: 0.8376016872551972\n",
      "\tPresicion 0.9102319236016371\n",
      "\tconfusion_matrix [[ 9777  3290]\n",
      " [ 9646 33360]]\n",
      "Training Other\n",
      "The best score is 0.6674\n",
      "The best hyperparameters are {'colsample_bytree': 0.3, 'reg_alpha': 0, 'reg_lambda': 0.5}\n",
      "\tAccuracy: 0.6519856954639563\n",
      "\tRecall: 0.5549215406562055\n",
      "\tF1 score: 0.2961553102398173\n",
      "\tPresicion 0.2019730010384216\n",
      "\tconfusion_matrix [[3075 1537]\n",
      " [ 312  389]]\n",
      "Training Collectible\n",
      "The best score is 0.6925\n",
      "The best hyperparameters are {'colsample_bytree': 0.8, 'reg_alpha': 0, 'reg_lambda': 1}\n",
      "\tAccuracy: 0.741653387965703\n",
      "\tRecall: 0.5341758750744392\n",
      "\tF1 score: 0.5424491852847303\n",
      "\tPresicion 0.550982800982801\n",
      "\tconfusion_matrix [[31024  6579]\n",
      " [ 7040  8073]]\n",
      "Training Utility\n",
      "The best score is 0.7561\n",
      "The best hyperparameters are {'colsample_bytree': 0.5, 'reg_alpha': 0.5, 'reg_lambda': 0}\n",
      "\tAccuracy: 0.7081339712918661\n",
      "\tRecall: 0.5909090909090909\n",
      "\tF1 score: 0.46017699115044247\n",
      "\tPresicion 0.37681159420289856\n",
      "\tconfusion_matrix [[122  43]\n",
      " [ 18  26]]\n",
      "Training Metaverse\n",
      "The best score is 0.7510\n",
      "The best hyperparameters are {'colsample_bytree': 0.8, 'reg_alpha': 5, 'reg_lambda': 0.5}\n",
      "\tAccuracy: 0.7294743059657413\n",
      "\tRecall: 0.7312348668280871\n",
      "\tF1 score: 0.7250900360144058\n",
      "\tPresicion 0.719047619047619\n",
      "\tconfusion_matrix [[631 236]\n",
      " [222 604]]\n",
      "Training All\n"
     ]
    },
    {
     "name": "stderr",
     "output_type": "stream",
     "text": [
      "/usr/local/lib/python3.7/dist-packages/joblib/externals/loky/process_executor.py:703: UserWarning: A worker stopped while some jobs were given to the executor. This can be caused by a too short worker timeout or by a memory leak.\n",
      "  \"timeout or by a memory leak.\", UserWarning\n"
     ]
    }
   ],
   "source": [
    "# Define grid search\n",
    "grid_search = GridSearchCV(estimator=model,\n",
    "                           param_grid=param_grid,\n",
    "                           scoring='accuracy',\n",
    "                           n_jobs=-1,\n",
    "                           cv=kfold,\n",
    "                           verbose=0)\n",
    "#grid_search = GridSearchCV(estimator=model,\n",
    "#                           param_grid=param_grid,\n",
    "#                          scoring=scoring,\n",
    "#                           refit='accuracy',\n",
    "#                           n_jobs=-1,\n",
    "#                           cv=kfold,\n",
    "#                           verbose=0)\n",
    "\n",
    "\n",
    "for category, category_data in categorized_data.items():\n",
    "  X_train = category_data['X_train']\n",
    "  y_train = category_data['y_train']\n",
    "  X_test = category_data['X_test']\n",
    "  y_test = category_data['y_test']\n",
    "  print(f'Training {category}')\n",
    "  # Fit grid search\n",
    "  grid_result = grid_search.fit(X_train, y_train)\n",
    "  # Print the best score and the corresponding hyperparameters\n",
    "  print(f'The best score is {grid_result.best_score_:.4f}')\n",
    "  print(f'The best hyperparameters are {grid_result.best_params_}')\n",
    "  # Make prediction using the best model\n",
    "  grid_predict = grid_result.predict(X_test)\n",
    "  # Get predicted probabilities\n",
    "  grid_result_prob = grid_result.predict_proba(X_test)[:,1]\n",
    "  #printing performance according to the best model for accuracy\n",
    "  print(\"\\tAccuracy:\" ,accuracy_score(y_test, grid_predict))\n",
    "  print(\"\\tRecall:\", recall_score(y_test, grid_predict))\n",
    "  print(\"\\tF1 score:\",f1_score(y_test,grid_predict))\n",
    "  print(\"\\tPresicion\", precision_score(y_test,grid_predict))\n",
    "  print(\"\\tconfusion_matrix\", confusion_matrix(y_test, grid_predict))\n",
    "  # Get performance metrics\n",
    "  #precision, recall, fscore, support = score(y_test, grid_predict)\n",
    "  # Print result\n",
    "  #print(f'Presicion: {precision[0]:.4f}')\n",
    "  #print(f'Recall: {recall[1]:.4f}')\n",
    "  #print(f'F1 score: {fscore[2]:.4f}')"
   ]
  }
 ],
 "metadata": {
  "accelerator": "GPU",
  "colab": {
   "machine_shape": "hm",
   "provenance": []
  },
  "gpuClass": "standard",
  "kernelspec": {
   "display_name": "Python 3 (ipykernel)",
   "language": "python",
   "name": "python3"
  },
  "language_info": {
   "codemirror_mode": {
    "name": "ipython",
    "version": 3
   },
   "file_extension": ".py",
   "mimetype": "text/x-python",
   "name": "python",
   "nbconvert_exporter": "python",
   "pygments_lexer": "ipython3",
   "version": "3.11.4"
  }
 },
 "nbformat": 4,
 "nbformat_minor": 1
}
