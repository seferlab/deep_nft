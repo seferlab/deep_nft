{
  "cells": [
    {
      "cell_type": "code",
      "execution_count": null,
      "metadata": {
        "id": "vm0syr7rnCAI"
      },
      "outputs": [],
      "source": [
        "import pandas as pd\n",
        "import numpy as np\n",
        "import matplotlib.pyplot as plt\n",
        "from sklearn.model_selection import train_test_split\n",
        "from sklearn.metrics import precision_score, recall_score, f1_score, accuracy_score\n",
        "from sklearn.ensemble import AdaBoostClassifier"
      ]
    },
    {
      "cell_type": "code",
      "execution_count": null,
      "metadata": {
        "id": "-ovu8qOMnC3N"
      },
      "outputs": [],
      "source": [
        "!gdown 1-2gXdkQELPxQXdUOwN8F1dR2vgke60qW\n",
        "df = pd.read_csv('secondary_sale_dataset.csv')"
      ]
    },
    {
      "cell_type": "code",
      "execution_count": null,
      "metadata": {
        "colab": {
          "base_uri": "https://localhost:8080/"
        },
        "id": "2iAFlBpknGoO",
        "outputId": "deb41e79-e7e3-4a3d-c115-04f798c4a585"
      },
      "outputs": [
        {
          "output_type": "stream",
          "name": "stdout",
          "text": [
            "Games\n",
            "\tTrain count: 1,250,354\n",
            "\tTest count: 65,809\n",
            "Art\n",
            "\tTrain count: 1,065,373\n",
            "\tTest count: 56,073\n",
            "Other\n",
            "\tTrain count: 100,931\n",
            "\tTest count: 5,313\n",
            "Collectible\n",
            "\tTrain count: 1,001,602\n",
            "\tTest count: 52,716\n",
            "Utility\n",
            "\tTrain count: 3,955\n",
            "\tTest count: 209\n",
            "Metaverse\n",
            "\tTrain count: 32,160\n",
            "\tTest count: 1,693\n",
            "All\n",
            "\tTrain count: 3,454,378\n",
            "\tTest count: 181,810\n"
          ]
        }
      ],
      "source": [
        "def split_categories(df):\n",
        "  categorized_data = {}\n",
        "  for category in df['Category'].unique():\n",
        "    categorized_data[category] = {\n",
        "        'df': df[df['Category'] == category].copy(deep=True)\n",
        "    }\n",
        "  categorized_data['All'] = {\n",
        "      'df' : df.copy(deep=True)\n",
        "  }\n",
        "  return categorized_data\n",
        "\n",
        "# prepare data\n",
        "categorized_data = split_categories(df)\n",
        "feature_columns = ['0','1','2','3','4','5','6','week_1','centrality_buyer','centrality_seller','p_resale']\n",
        "label_column = 'secondary_sale'\n",
        "for key, item in categorized_data.items():\n",
        "  category_df = item['df']\n",
        "  X = category_df[feature_columns].values\n",
        "  y = category_df[label_column].values\n",
        "  X_train, X_test, y_train, y_test = train_test_split(X, y, test_size=0.05, random_state=42)\n",
        "  categorized_data[key]['X_train'] = X_train\n",
        "  categorized_data[key]['X_test'] = X_test\n",
        "  categorized_data[key]['y_train'] = y_train\n",
        "  categorized_data[key]['y_test'] = y_test\n",
        "for key, item in categorized_data.items():\n",
        "  print(f'{key}\\n\\tTrain count: {len(item[\"X_train\"]):,}\\n\\tTest count: {len(item[\"X_test\"]):,}')"
      ]
    },
    {
      "cell_type": "code",
      "execution_count": null,
      "metadata": {
        "id": "XMWeyIwEnKne"
      },
      "outputs": [],
      "source": [
        "from sklearn.metrics import confusion_matrix"
      ]
    },
    {
      "cell_type": "code",
      "execution_count": null,
      "metadata": {
        "id": "o_vdgTgonMM4"
      },
      "outputs": [],
      "source": [
        "from imblearn.over_sampling import SMOTE"
      ]
    },
    {
      "cell_type": "code",
      "execution_count": null,
      "metadata": {
        "colab": {
          "base_uri": "https://localhost:8080/"
        },
        "id": "oryFEGcTnexb",
        "outputId": "bb8c18bb-e4d7-41a5-ebd4-01bd816ebe44"
      },
      "outputs": [
        {
          "name": "stdout",
          "output_type": "stream",
          "text": [
            "Training Games\n",
            "\tAccuracy: 0.6912124481453904\n",
            "\tRecall: 0.5619789531228646\n",
            "\tF1 score: 0.44733335146454895\n",
            "\tPresicion 0.3715382877795347\n",
            "\tconfusion_matrix [[37264 13911]\n",
            " [ 6410  8224]]\n",
            "Training Art\n",
            "\tAccuracy: 0.7245198223744048\n",
            "\tRecall: 0.7317118541598847\n",
            "\tF1 score: 0.8029292065881634\n",
            "\tPresicion 0.8895044803120672\n",
            "\tconfusion_matrix [[ 9158  3909]\n",
            " [11538 31468]]\n",
            "Training Other\n",
            "\tAccuracy: 0.6350461133069829\n",
            "\tRecall: 0.5663338088445078\n",
            "\tF1 score: 0.29052323454079765\n",
            "\tPresicion 0.1953740157480315\n",
            "\tconfusion_matrix [[2977 1635]\n",
            " [ 304  397]]\n",
            "Training Collectible\n",
            "\tAccuracy: 0.7467182639046969\n",
            "\tRecall: 0.4765433732548137\n",
            "\tF1 score: 0.5189508574722582\n",
            "\tPresicion 0.5696432808668829\n",
            "\tconfusion_matrix [[32162  5441]\n",
            " [ 7911  7202]]\n",
            "Training Utility\n",
            "\tAccuracy: 0.631578947368421\n",
            "\tRecall: 0.5681818181818182\n",
            "\tF1 score: 0.3937007874015748\n",
            "\tPresicion 0.30120481927710846\n",
            "\tconfusion_matrix [[107  58]\n",
            " [ 19  25]]\n",
            "Training Metaverse\n",
            "\tAccuracy: 0.7023036030714708\n",
            "\tRecall: 0.7276029055690073\n",
            "\tF1 score: 0.7045720984759671\n",
            "\tPresicion 0.6829545454545455\n",
            "\tconfusion_matrix [[588 279]\n",
            " [225 601]]\n",
            "Training All\n",
            "\tAccuracy: 0.711875034376547\n",
            "\tRecall: 0.6978152743608942\n",
            "\tF1 score: 0.6658459104652795\n",
            "\tPresicion 0.636677483104399\n",
            "\tconfusion_matrix [[77235 29783]\n",
            " [22601 52191]]\n"
          ]
        }
      ],
      "source": [
        "# fit model adaboost\n",
        "results = pd.DataFrame(columns=['accuracy','recall','f1','precision','confusion_matrix'], index=categorized_data.keys())\n",
        "for category, category_data in categorized_data.items():\n",
        "  X_train = category_data['X_train']\n",
        "  y_train = category_data['y_train']\n",
        "  X_test = category_data['X_test']\n",
        "  y_test = category_data['y_test']\n",
        "  print(f'Training {category}')\n",
        "  oversample = SMOTE()\n",
        "  X_train_res, y_train_res = oversample.fit_resample(X_train, y_train)\n",
        "  abc = AdaBoostClassifier(n_estimators=50,learning_rate=1)\n",
        "  abc.fit(X_train_res, y_train_res)\n",
        "  y_pred = abc.predict(X_test)\n",
        "  accuracy = accuracy_score(y_test, y_pred)\n",
        "  results.loc[category,'accuracy'] = accuracy\n",
        "  results.loc[category,'recall'] = recall_score(y_test, y_pred)\n",
        "  results.loc[category,'f1'] = f1_score(y_test,y_pred)\n",
        "  results.loc[category,'precision'] = precision_score(y_test,y_pred)\n",
        "  results.loc[category,'confusion_matrix'] = confusion_matrix(y_test, y_pred)\n",
        "  print(\"\\tAccuracy:\" ,accuracy)\n",
        "  print(\"\\tRecall:\", recall_score(y_test, y_pred))\n",
        "  print(\"\\tF1 score:\",f1_score(y_test,y_pred))\n",
        "  print(\"\\tPresicion\", precision_score(y_test,y_pred))\n",
        "  print(\"\\tconfusion_matrix\", confusion_matrix(y_test, y_pred))"
      ]
    },
    {
      "cell_type": "code",
      "execution_count": null,
      "metadata": {
        "id": "TMurhaguukSi"
      },
      "outputs": [],
      "source": [
        "from xgboost import XGBClassifier"
      ]
    },
    {
      "cell_type": "code",
      "source": [
        "# fit model xgboots\n",
        "results = pd.DataFrame(columns=['accuracy','recall','f1','precision','confusion_matrix'], index=categorized_data.keys())\n",
        "for category, category_data in categorized_data.items():\n",
        "  if category =='Utility' :\n",
        "    X_train = category_data['X_train']\n",
        "    y_train = category_data['y_train']\n",
        "    X_test = category_data['X_test']\n",
        "    y_test = category_data['y_test']\n",
        "    print(f'Training {category}')\n",
        "    oversample = SMOTE()\n",
        "    X_train_res, y_train_res = oversample.fit_resample(X_train, y_train)\n",
        "    model = XGBClassifier(reg_lambda= 0, reg_alpha = 1, max_depth=15, learning_rate= 0.1, colsample_bytree = 1)\n",
        "    model.fit(X_train_res, y_train_res)\n",
        "    y_pred = model.predict(X_test)\n",
        "    accuracy = accuracy_score(y_test, y_pred)\n",
        "    results.loc[category,'accuracy'] = accuracy\n",
        "    results.loc[category,'recall'] = recall_score(y_test, y_pred)\n",
        "    results.loc[category,'f1'] = f1_score(y_test,y_pred)\n",
        "    results.loc[category,'precision'] = precision_score(y_test,y_pred)\n",
        "    results.loc[category,'confusion_matrix'] = confusion_matrix(y_test, y_pred)\n",
        "    print(\"\\tAccuracy:\" ,accuracy)\n",
        "    print(\"\\tRecall:\", recall_score(y_test, y_pred))\n",
        "    print(\"\\tF1 score:\",f1_score(y_test,y_pred))\n",
        "    print(\"\\tPresicion\", precision_score(y_test,y_pred))\n",
        "    print(\"\\tconfusion_matrix\", confusion_matrix(y_test, y_pred))"
      ],
      "metadata": {
        "colab": {
          "base_uri": "https://localhost:8080/"
        },
        "id": "pa9H1ije5luL",
        "outputId": "09869abb-d3e4-442f-90e5-ca93ed3da935"
      },
      "execution_count": null,
      "outputs": [
        {
          "output_type": "stream",
          "name": "stdout",
          "text": [
            "Training Utility\n",
            "\tAccuracy: 0.8038277511961722\n",
            "\tRecall: 0.4090909090909091\n",
            "\tF1 score: 0.4675324675324675\n",
            "\tPresicion 0.5454545454545454\n",
            "\tconfusion_matrix [[150  15]\n",
            " [ 26  18]]\n"
          ]
        }
      ]
    },
    {
      "cell_type": "code",
      "source": [
        "# fit model xgboots\n",
        "results = pd.DataFrame(columns=['accuracy','recall','f1','precision','confusion_matrix'], index=categorized_data.keys())\n",
        "for category, category_data in categorized_data.items():\n",
        "  if category =='Collectible' :\n",
        "    X_train = category_data['X_train']\n",
        "    y_train = category_data['y_train']\n",
        "    X_test = category_data['X_test']\n",
        "    y_test = category_data['y_test']\n",
        "    print(f'Training {category}')\n",
        "    oversample = SMOTE()\n",
        "    X_train_res, y_train_res = oversample.fit_resample(X_train, y_train)\n",
        "    model = XGBClassifier(reg_lambda= 0.1, reg_alpha = 1, max_depth=15, learning_rate= 0.1)\n",
        "    model.fit(X_train_res, y_train_res)\n",
        "    y_pred = model.predict(X_test)\n",
        "    accuracy = accuracy_score(y_test, y_pred)\n",
        "    results.loc[category,'accuracy'] = accuracy\n",
        "    results.loc[category,'recall'] = recall_score(y_test, y_pred)\n",
        "    results.loc[category,'f1'] = f1_score(y_test,y_pred)\n",
        "    results.loc[category,'precision'] = precision_score(y_test,y_pred)\n",
        "    results.loc[category,'confusion_matrix'] = confusion_matrix(y_test, y_pred)\n",
        "    print(\"\\tAccuracy:\" ,accuracy)\n",
        "    print(\"\\tRecall:\", recall_score(y_test, y_pred))\n",
        "    print(\"\\tF1 score:\",f1_score(y_test,y_pred))\n",
        "    print(\"\\tPresicion\", precision_score(y_test,y_pred))\n",
        "    print(\"\\tconfusion_matrix\", confusion_matrix(y_test, y_pred))"
      ],
      "metadata": {
        "colab": {
          "base_uri": "https://localhost:8080/"
        },
        "id": "LbIMhHev2dPI",
        "outputId": "6d7df6fc-ffad-4ba0-83e6-d4d4fc3a9543"
      },
      "execution_count": null,
      "outputs": [
        {
          "output_type": "stream",
          "name": "stdout",
          "text": [
            "Training Collectible\n"
          ]
        }
      ]
    },
    {
      "cell_type": "code",
      "execution_count": null,
      "metadata": {
        "colab": {
          "base_uri": "https://localhost:8080/"
        },
        "id": "RbXm0YmNud1J",
        "outputId": "14547969-f161-4d90-d784-904f4121fb7e"
      },
      "outputs": [
        {
          "name": "stdout",
          "output_type": "stream",
          "text": [
            "Training Games\n",
            "\tAccuracy: 0.701226276041271\n",
            "\tRecall: 0.5884242175755091\n",
            "\tF1 score: 0.46692332718794055\n",
            "\tPresicion 0.38701123595505615\n",
            "\tconfusion_matrix [[37536 13639]\n",
            " [ 6023  8611]]\n",
            "Training Art\n",
            "\tAccuracy: 0.7662333030157117\n",
            "\tRecall: 0.7699390782681487\n",
            "\tF1 score: 0.834770332274492\n",
            "\tPresicion 0.9115234267466829\n",
            "\tconfusion_matrix [[ 9853  3214]\n",
            " [ 9894 33112]]\n",
            "Training Other\n",
            "\tAccuracy: 0.655561829474873\n",
            "\tRecall: 0.5606276747503567\n",
            "\tF1 score: 0.3004587155963303\n",
            "\tPresicion 0.20522193211488252\n",
            "\tconfusion_matrix [[3090 1522]\n",
            " [ 308  393]]\n",
            "Training Collectible\n",
            "\tAccuracy: 0.7396236436755445\n",
            "\tRecall: 0.5409250314298948\n",
            "\tF1 score: 0.5436228221838011\n",
            "\tPresicion 0.5463476575553031\n",
            "\tconfusion_matrix [[30815  6788]\n",
            " [ 6938  8175]]\n",
            "Training Utility\n",
            "\tAccuracy: 0.722488038277512\n",
            "\tRecall: 0.5454545454545454\n",
            "\tF1 score: 0.45283018867924524\n",
            "\tPresicion 0.3870967741935484\n",
            "\tconfusion_matrix [[127  38]\n",
            " [ 20  24]]\n",
            "Training Metaverse\n",
            "\tAccuracy: 0.7395156526875369\n",
            "\tRecall: 0.7312348668280871\n",
            "\tF1 score: 0.7325651910248635\n",
            "\tPresicion 0.7339003645200486\n",
            "\tconfusion_matrix [[648 219]\n",
            " [222 604]]\n",
            "Training All\n",
            "\tAccuracy: 0.7384742313404103\n",
            "\tRecall: 0.712790137982672\n",
            "\tF1 score: 0.6915872089252124\n",
            "\tPresicion 0.6716092620121444\n",
            "\tconfusion_matrix [[80951 26067]\n",
            " [21481 53311]]\n"
          ]
        }
      ],
      "source": [
        "# fit model xgboots\n",
        "results = pd.DataFrame(columns=['accuracy','recall','f1','precision','confusion_matrix'], index=categorized_data.keys())\n",
        "for category, category_data in categorized_data.items():\n",
        "  if category =='Utility' :\n",
        "    X_train = category_data['X_train']\n",
        "    y_train = category_data['y_train']\n",
        "    X_test = category_data['X_test']\n",
        "    y_test = category_data['y_test']\n",
        "    print(f'Training {category}')\n",
        "    oversample = SMOTE()\n",
        "    X_train_res, y_train_res = oversample.fit_resample(X_train, y_train)\n",
        "    model = XGBClassifier()\n",
        "    model.fit(X_train_res, y_train_res)\n",
        "    y_pred = model.predict(X_test)\n",
        "    accuracy = accuracy_score(y_test, y_pred)\n",
        "    results.loc[category,'accuracy'] = accuracy\n",
        "    results.loc[category,'recall'] = recall_score(y_test, y_pred)\n",
        "    results.loc[category,'f1'] = f1_score(y_test,y_pred)\n",
        "    results.loc[category,'precision'] = precision_score(y_test,y_pred)\n",
        "    results.loc[category,'confusion_matrix'] = confusion_matrix(y_test, y_pred)\n",
        "    print(\"\\tAccuracy:\" ,accuracy)\n",
        "    print(\"\\tRecall:\", recall_score(y_test, y_pred))\n",
        "    print(\"\\tF1 score:\",f1_score(y_test,y_pred))\n",
        "    print(\"\\tPresicion\", precision_score(y_test,y_pred))\n",
        "    print(\"\\tconfusion_matrix\", confusion_matrix(y_test, y_pred))"
      ]
    },
    {
      "cell_type": "code",
      "execution_count": null,
      "metadata": {
        "id": "K6erIW4212-V"
      },
      "outputs": [],
      "source": [
        "from sklearn.ensemble import RandomForestClassifier"
      ]
    },
    {
      "cell_type": "code",
      "execution_count": null,
      "metadata": {
        "colab": {
          "base_uri": "https://localhost:8080/"
        },
        "id": "QPJgh2II19vu",
        "outputId": "1b9c4502-a636-4453-99a6-292a44e1f575"
      },
      "outputs": [
        {
          "output_type": "stream",
          "name": "stdout",
          "text": [
            "Training Games\n",
            "\tAccuracy: 0.848774483733228\n",
            "\tRecall: 0.494806614732814\n",
            "\tF1 score: 0.5926986985348285\n",
            "\tPresicion 0.7388775510204082\n",
            "Training Art\n",
            "\tAccuracy: 0.8508729691651954\n",
            "\tRecall: 0.9327070641305865\n",
            "\tF1 score: 0.9056058519404873\n",
            "\tPresicion 0.8800351031154015\n",
            "Training Other\n",
            "\tAccuracy: 0.8959156785243741\n",
            "\tRecall: 0.2796005706134094\n",
            "\tF1 score: 0.4148148148148148\n",
            "\tPresicion 0.8032786885245902\n",
            "Training Collectible\n",
            "\tAccuracy: 0.8201115410880947\n",
            "\tRecall: 0.5593859591080527\n",
            "\tF1 score: 0.6406729566897806\n",
            "\tPresicion 0.7496009930838802\n",
            "Training Utility\n",
            "\tAccuracy: 0.8038277511961722\n",
            "\tRecall: 0.22727272727272727\n",
            "\tF1 score: 0.32786885245901637\n",
            "\tPresicion 0.5882352941176471\n",
            "Training Metaverse\n",
            "\tAccuracy: 0.7725930301240401\n",
            "\tRecall: 0.7966101694915254\n",
            "\tF1 score: 0.7736625514403294\n",
            "\tPresicion 0.752\n",
            "Training All\n",
            "\tAccuracy: 0.8239975798910951\n",
            "\tRecall: 0.7553347951652584\n",
            "\tF1 score: 0.7792944097665275\n",
            "\tPresicion 0.804823842833331\n"
          ]
        }
      ],
      "source": [
        "# fit model RandomForest\n",
        "results = pd.DataFrame(columns=['accuracy','recall','f1','precision','confusion_matrix'], index=categorized_data.keys())\n",
        "for category, category_data in categorized_data.items():\n",
        "  X_train = category_data['X_train']\n",
        "  y_train = category_data['y_train']\n",
        "  X_test = category_data['X_test']\n",
        "  y_test = category_data['y_test']\n",
        "  print(f'Training {category}')\n",
        "  #oversample = SMOTE()\n",
        "  #X_train_res, y_train_res = oversample.fit_resample(X_train, y_train)\n",
        "  rf=RandomForestClassifier(n_estimators=100)\n",
        "  rf.fit(X_train, y_train)\n",
        "  y_pred = rf.predict(X_test)\n",
        "  accuracy = accuracy_score(y_test, y_pred)\n",
        "  results.loc[category,'accuracy'] = accuracy\n",
        "  results.loc[category,'recall'] = recall_score(y_test, y_pred)\n",
        "  results.loc[category,'f1'] = f1_score(y_test,y_pred)\n",
        "  results.loc[category,'precision'] = precision_score(y_test,y_pred)\n",
        "  #results.loc[category,'confusion_matrix'] = confusion_matrix(y_test, y_pred)\n",
        "  print(\"\\tAccuracy:\", accuracy)\n",
        "  print(\"\\tRecall:\", recall_score(y_test, y_pred))\n",
        "  print(\"\\tF1 score:\", f1_score(y_test,y_pred))\n",
        "  print(\"\\tPresicion\", precision_score(y_test,y_pred))\n",
        "  #print(\"\\tconfusion_matrix\", confusion_matrix(y_test, y_pred))"
      ]
    },
    {
      "cell_type": "code",
      "execution_count": null,
      "metadata": {
        "id": "xGzV3YWzYc9f"
      },
      "outputs": [],
      "source": [
        "from sklearn.linear_model import LogisticRegression\n",
        "from sklearn import metrics\n",
        "from sklearn.preprocessing import StandardScaler"
      ]
    },
    {
      "cell_type": "code",
      "execution_count": null,
      "metadata": {
        "colab": {
          "background_save": true,
          "base_uri": "https://localhost:8080/"
        },
        "id": "jammmY7lYe5G",
        "outputId": "959fc41a-4638-4e02-ac86-cbcd57ff5024"
      },
      "outputs": [
        {
          "name": "stdout",
          "output_type": "stream",
          "text": [
            "Training Games\n",
            "\tAccuracy: 0.6357793007035512\n",
            "\tRecall: 0.5440754407544075\n",
            "\tF1 score: 0.39916777379490137\n",
            "\tPresicion 0.31521437903321586\n",
            "\tconfusion_matrix [[33878 17297]\n",
            " [ 6672  7962]]\n",
            "Training Art\n",
            "\tAccuracy: 0.5370677509674888\n",
            "\tRecall: 0.4775845230898014\n",
            "\tF1 score: 0.6127752252521033\n",
            "\tPresicion 0.8547232625884311\n",
            "\tconfusion_matrix [[ 9576  3491]\n",
            " [22467 20539]]\n",
            "Training Other\n",
            "\tAccuracy: 0.5795219273480143\n",
            "\tRecall: 0.6248216833095578\n",
            "\tF1 score: 0.28167202572347266\n",
            "\tPresicion 0.18181818181818182\n",
            "\tconfusion_matrix [[2641 1971]\n",
            " [ 263  438]]\n",
            "Training Collectible\n",
            "\tAccuracy: 0.6683739282191365\n",
            "\tRecall: 0.496923178720307\n",
            "\tF1 score: 0.4621254076672205\n",
            "\tPresicion 0.4318822243947323\n",
            "\tconfusion_matrix [[27724  9879]\n",
            " [ 7603  7510]]\n",
            "Training Utility\n",
            "\tAccuracy: 0.49282296650717705\n",
            "\tRecall: 0.7045454545454546\n",
            "\tF1 score: 0.36904761904761907\n",
            "\tPresicion 0.25\n",
            "\tconfusion_matrix [[72 93]\n",
            " [13 31]]\n",
            "Training Metaverse\n",
            "\tAccuracy: 0.629060838747785\n",
            "\tRecall: 0.5060532687651331\n",
            "\tF1 score: 0.5710382513661202\n",
            "\tPresicion 0.6551724137931034\n",
            "\tconfusion_matrix [[647 220]\n",
            " [408 418]]\n",
            "Training All\n",
            "\tAccuracy: 0.6446565095429294\n",
            "\tRecall: 0.5876965450850359\n",
            "\tF1 score: 0.5764023210831721\n",
            "\tPresicion 0.5655340118111756\n",
            "\tconfusion_matrix [[73250 33768]\n",
            " [30837 43955]]\n"
          ]
        }
      ],
      "source": [
        "# fit model Logistic\n",
        "results = pd.DataFrame(columns=['accuracy','recall','f1','precision','confusion_matrix'], index=categorized_data.keys())\n",
        "for category, category_data in categorized_data.items():\n",
        "  X_train = category_data['X_train']\n",
        "  y_train = category_data['y_train']\n",
        "  X_test = category_data['X_test']\n",
        "  y_test = category_data['y_test']\n",
        "  print(f'Training {category}')\n",
        "  #standart scaler\n",
        "  sc = StandardScaler()\n",
        "  X_train = sc.fit_transform(X_train)\n",
        "  X_test = sc.transform(X_test)\n",
        "  #smote\n",
        "  oversample = SMOTE()\n",
        "  X_train_res, y_train_res = oversample.fit_resample(X_train, y_train)\n",
        "  model2 = LogisticRegression(solver='liblinear')\n",
        "  model2.fit(X_train_res, y_train_res)\n",
        "  y_pred = model2.predict(X_test)\n",
        "  accuracy = accuracy_score(y_test, y_pred)\n",
        "  results.loc[category,'accuracy'] = accuracy\n",
        "  results.loc[category,'recall'] = recall_score(y_test, y_pred)\n",
        "  results.loc[category,'f1'] = f1_score(y_test,y_pred)\n",
        "  results.loc[category,'precision'] = precision_score(y_test,y_pred)\n",
        "  results.loc[category,'confusion_matrix'] = confusion_matrix(y_test, y_pred)\n",
        "  print(\"\\tAccuracy:\" ,accuracy)\n",
        "  print(\"\\tRecall:\", recall_score(y_test, y_pred))\n",
        "  print(\"\\tF1 score:\",f1_score(y_test,y_pred))\n",
        "  print(\"\\tPresicion\", precision_score(y_test,y_pred))\n",
        "  print(\"\\tconfusion_matrix\", confusion_matrix(y_test, y_pred))"
      ]
    }
  ],
  "metadata": {
    "colab": {
      "provenance": [],
      "machine_shape": "hm"
    },
    "gpuClass": "standard",
    "kernelspec": {
      "display_name": "Python 3",
      "name": "python3"
    },
    "language_info": {
      "name": "python"
    }
  },
  "nbformat": 4,
  "nbformat_minor": 0
}