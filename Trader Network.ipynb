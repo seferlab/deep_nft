{
 "cells": [
  {
   "cell_type": "markdown",
   "metadata": {
    "id": "wdCDHE3dsEBR"
   },
   "source": [
    "# Trader centrality calculation\n",
    "\n",
    "Two seperate directed graphs for traders are built for each unique date found in the dataset."
   ]
  },
  {
   "cell_type": "code",
   "execution_count": 1,
   "metadata": {
    "id": "kTnCGTVlnHOz"
   },
   "outputs": [],
   "source": [
    "import pandas as pd\n",
    "import networkx as nx\n",
    "from tqdm.notebook import tqdm"
   ]
  },
  {
   "cell_type": "markdown",
   "metadata": {
    "id": "YBVBXfpXsdZR"
   },
   "source": [
    "Original data"
   ]
  },
  {
   "cell_type": "code",
   "execution_count": 3,
   "metadata": {
    "id": "OD3XW6JwoOFm"
   },
   "outputs": [],
   "source": [
    "nft_transactions = pd.read_csv('data/Data_API.csv',usecols=['Seller_address','Buyer_address','Datetime_updated','Datetime_updated_seconds','Unique_id_collection','Collection_cleaned','Category'])"
   ]
  },
  {
   "cell_type": "code",
   "execution_count": 4,
   "metadata": {
    "id": "VFJXViMiIuEn"
   },
   "outputs": [],
   "source": [
    "nft_transactions.Datetime_updated = pd.to_datetime(nft_transactions.Datetime_updated)\n",
    "nft_transactions.Datetime_updated_seconds = pd.to_datetime(nft_transactions.Datetime_updated_seconds)"
   ]
  },
  {
   "cell_type": "code",
   "execution_count": 5,
   "metadata": {
    "id": "kB_2v62aJBLW"
   },
   "outputs": [],
   "source": [
    "unique_dates = list(nft_transactions.groupby('Datetime_updated').groups.keys())"
   ]
  },
  {
   "cell_type": "markdown",
   "metadata": {
    "id": "P3W04l2p4XKG"
   },
   "source": [
    "## Create networks and calculate centrality"
   ]
  },
  {
   "cell_type": "code",
   "execution_count": 6,
   "metadata": {
    "id": "Ph0fXffnJGxu"
   },
   "outputs": [
    {
     "data": {
      "application/vnd.jupyter.widget-view+json": {
       "model_id": "c2fede17ed7046b5b52c7e0dcc43b712",
       "version_major": 2,
       "version_minor": 0
      },
      "text/plain": [
       "  0%|          | 0/1252 [00:00<?, ?it/s]"
      ]
     },
     "metadata": {},
     "output_type": "display_data"
    },
    {
     "data": {
      "text/html": [
       "<div>\n",
       "<style scoped>\n",
       "    .dataframe tbody tr th:only-of-type {\n",
       "        vertical-align: middle;\n",
       "    }\n",
       "\n",
       "    .dataframe tbody tr th {\n",
       "        vertical-align: top;\n",
       "    }\n",
       "\n",
       "    .dataframe thead th {\n",
       "        text-align: right;\n",
       "    }\n",
       "</style>\n",
       "<table border=\"1\" class=\"dataframe\">\n",
       "  <thead>\n",
       "    <tr style=\"text-align: right;\">\n",
       "      <th></th>\n",
       "      <th>Seller_address</th>\n",
       "      <th>Buyer_address</th>\n",
       "      <th>Datetime_updated</th>\n",
       "      <th>Datetime_updated_seconds</th>\n",
       "      <th>Unique_id_collection</th>\n",
       "      <th>Collection_cleaned</th>\n",
       "      <th>Category</th>\n",
       "      <th>centrality_seller</th>\n",
       "      <th>centrality_buyer</th>\n",
       "    </tr>\n",
       "  </thead>\n",
       "  <tbody>\n",
       "    <tr>\n",
       "      <th>0</th>\n",
       "      <td>0x98139e00121ce58f35221f6e78aacf67dbefd822</td>\n",
       "      <td>0x30306c44c10cdaff1056f91695ee05b43756ae4f</td>\n",
       "      <td>2017-11-23</td>\n",
       "      <td>2017-11-23 23:58:59</td>\n",
       "      <td>('Cryptokitties', '3354')</td>\n",
       "      <td>Cryptokittie</td>\n",
       "      <td>Art</td>\n",
       "      <td>NaN</td>\n",
       "      <td>NaN</td>\n",
       "    </tr>\n",
       "    <tr>\n",
       "      <th>1</th>\n",
       "      <td>0x51c3016d6699480ec6becdf2155079c27ebae040</td>\n",
       "      <td>0x78cff6a05343b7ab7d5dd453d39fa90427889e4e</td>\n",
       "      <td>2017-11-23</td>\n",
       "      <td>2017-11-23 23:55:55</td>\n",
       "      <td>('Cryptokitties', '3348')</td>\n",
       "      <td>Cryptokittie</td>\n",
       "      <td>Art</td>\n",
       "      <td>NaN</td>\n",
       "      <td>NaN</td>\n",
       "    </tr>\n",
       "    <tr>\n",
       "      <th>2</th>\n",
       "      <td>0x6e129c4bef43eb234a10b969f15bc564511bec6c</td>\n",
       "      <td>0x173216d1fd08e76fd4f25710d2849091ce2fb026</td>\n",
       "      <td>2017-11-23</td>\n",
       "      <td>2017-11-23 23:54:37</td>\n",
       "      <td>('Cryptokitties', '3321')</td>\n",
       "      <td>Cryptokittie</td>\n",
       "      <td>Art</td>\n",
       "      <td>NaN</td>\n",
       "      <td>NaN</td>\n",
       "    </tr>\n",
       "    <tr>\n",
       "      <th>3</th>\n",
       "      <td>0x1fd9277f03bd18f740bffbf9f160f10bd8fa9f11</td>\n",
       "      <td>0xadbee7390043da115bdacb68cc218a507c4210fa</td>\n",
       "      <td>2017-11-23</td>\n",
       "      <td>2017-11-23 23:51:14</td>\n",
       "      <td>('Cryptokitties', '1404')</td>\n",
       "      <td>Cryptokittie</td>\n",
       "      <td>Art</td>\n",
       "      <td>NaN</td>\n",
       "      <td>NaN</td>\n",
       "    </tr>\n",
       "    <tr>\n",
       "      <th>4</th>\n",
       "      <td>0x6e129c4bef43eb234a10b969f15bc564511bec6c</td>\n",
       "      <td>0x1a40ca0774518d8f7f41df7da070a4aae08184f1</td>\n",
       "      <td>2017-11-23</td>\n",
       "      <td>2017-11-23 23:48:24</td>\n",
       "      <td>('Cryptokitties', '3319')</td>\n",
       "      <td>Cryptokittie</td>\n",
       "      <td>Art</td>\n",
       "      <td>NaN</td>\n",
       "      <td>NaN</td>\n",
       "    </tr>\n",
       "    <tr>\n",
       "      <th>...</th>\n",
       "      <td>...</td>\n",
       "      <td>...</td>\n",
       "      <td>...</td>\n",
       "      <td>...</td>\n",
       "      <td>...</td>\n",
       "      <td>...</td>\n",
       "      <td>...</td>\n",
       "      <td>...</td>\n",
       "      <td>...</td>\n",
       "    </tr>\n",
       "    <tr>\n",
       "      <th>154440</th>\n",
       "      <td>0x6acad2cb890c7f095ca3c4840a135df4517b3067</td>\n",
       "      <td>0x34e7d90199f6c40f19e20cacd53687f4031b293d</td>\n",
       "      <td>2021-04-27</td>\n",
       "      <td>2021-04-27 00:05:26</td>\n",
       "      <td>('Glewme-city-real-estate', '49006244057585521...</td>\n",
       "      <td>Glewmecityrealestate</td>\n",
       "      <td>Metaverse</td>\n",
       "      <td>0.000011</td>\n",
       "      <td>9.174802e-06</td>\n",
       "    </tr>\n",
       "    <tr>\n",
       "      <th>154441</th>\n",
       "      <td>0x400cbcf4b2a30aac711fc5a882fcaf485cce6f04</td>\n",
       "      <td>0x8f9e6dd01128cc3c148902ebfa648bfcb68ad1ce</td>\n",
       "      <td>2021-04-27</td>\n",
       "      <td>2021-04-27 00:01:19</td>\n",
       "      <td>('Rarible', '297669')</td>\n",
       "      <td>Rari</td>\n",
       "      <td>Art</td>\n",
       "      <td>0.000006</td>\n",
       "      <td>NaN</td>\n",
       "    </tr>\n",
       "    <tr>\n",
       "      <th>154442</th>\n",
       "      <td>0xd65b30057bf6f8ee3571f27e286fbbd6107868b8</td>\n",
       "      <td>0xd98695e2fce07e908c9f523387b1b1f8eb9d41ec</td>\n",
       "      <td>2021-04-27</td>\n",
       "      <td>2021-04-27 00:01:20</td>\n",
       "      <td>('Hashmasks', '11312')</td>\n",
       "      <td>Hashmask</td>\n",
       "      <td>Art</td>\n",
       "      <td>0.000004</td>\n",
       "      <td>6.116535e-07</td>\n",
       "    </tr>\n",
       "    <tr>\n",
       "      <th>154443</th>\n",
       "      <td>0x252d95edd1fa68bcdca548df93a2738294357188</td>\n",
       "      <td>0x685731e1e7ebd3a068b0ea697c4fb93ecb40e8dc</td>\n",
       "      <td>2021-04-27</td>\n",
       "      <td>2021-04-27 00:00:57</td>\n",
       "      <td>('Art-blocks', '53000219')</td>\n",
       "      <td>Art</td>\n",
       "      <td>Art</td>\n",
       "      <td>0.000002</td>\n",
       "      <td>2.038845e-07</td>\n",
       "    </tr>\n",
       "    <tr>\n",
       "      <th>154444</th>\n",
       "      <td>0x17d2f2dd213ad0153e77356ff95a26437ea5376a</td>\n",
       "      <td>0x9c84da73c71f003e77539a331ac526667e65d373</td>\n",
       "      <td>2021-04-27</td>\n",
       "      <td>2021-04-27 00:00:03</td>\n",
       "      <td>('Rarible', '415972')</td>\n",
       "      <td>Rari</td>\n",
       "      <td>Art</td>\n",
       "      <td>0.000003</td>\n",
       "      <td>NaN</td>\n",
       "    </tr>\n",
       "  </tbody>\n",
       "</table>\n",
       "<p>6071027 rows × 9 columns</p>\n",
       "</div>"
      ],
      "text/plain": [
       "                                    Seller_address  \\\n",
       "0       0x98139e00121ce58f35221f6e78aacf67dbefd822   \n",
       "1       0x51c3016d6699480ec6becdf2155079c27ebae040   \n",
       "2       0x6e129c4bef43eb234a10b969f15bc564511bec6c   \n",
       "3       0x1fd9277f03bd18f740bffbf9f160f10bd8fa9f11   \n",
       "4       0x6e129c4bef43eb234a10b969f15bc564511bec6c   \n",
       "...                                            ...   \n",
       "154440  0x6acad2cb890c7f095ca3c4840a135df4517b3067   \n",
       "154441  0x400cbcf4b2a30aac711fc5a882fcaf485cce6f04   \n",
       "154442  0xd65b30057bf6f8ee3571f27e286fbbd6107868b8   \n",
       "154443  0x252d95edd1fa68bcdca548df93a2738294357188   \n",
       "154444  0x17d2f2dd213ad0153e77356ff95a26437ea5376a   \n",
       "\n",
       "                                     Buyer_address Datetime_updated  \\\n",
       "0       0x30306c44c10cdaff1056f91695ee05b43756ae4f       2017-11-23   \n",
       "1       0x78cff6a05343b7ab7d5dd453d39fa90427889e4e       2017-11-23   \n",
       "2       0x173216d1fd08e76fd4f25710d2849091ce2fb026       2017-11-23   \n",
       "3       0xadbee7390043da115bdacb68cc218a507c4210fa       2017-11-23   \n",
       "4       0x1a40ca0774518d8f7f41df7da070a4aae08184f1       2017-11-23   \n",
       "...                                            ...              ...   \n",
       "154440  0x34e7d90199f6c40f19e20cacd53687f4031b293d       2021-04-27   \n",
       "154441  0x8f9e6dd01128cc3c148902ebfa648bfcb68ad1ce       2021-04-27   \n",
       "154442  0xd98695e2fce07e908c9f523387b1b1f8eb9d41ec       2021-04-27   \n",
       "154443  0x685731e1e7ebd3a068b0ea697c4fb93ecb40e8dc       2021-04-27   \n",
       "154444  0x9c84da73c71f003e77539a331ac526667e65d373       2021-04-27   \n",
       "\n",
       "       Datetime_updated_seconds  \\\n",
       "0           2017-11-23 23:58:59   \n",
       "1           2017-11-23 23:55:55   \n",
       "2           2017-11-23 23:54:37   \n",
       "3           2017-11-23 23:51:14   \n",
       "4           2017-11-23 23:48:24   \n",
       "...                         ...   \n",
       "154440      2021-04-27 00:05:26   \n",
       "154441      2021-04-27 00:01:19   \n",
       "154442      2021-04-27 00:01:20   \n",
       "154443      2021-04-27 00:00:57   \n",
       "154444      2021-04-27 00:00:03   \n",
       "\n",
       "                                     Unique_id_collection  \\\n",
       "0                               ('Cryptokitties', '3354')   \n",
       "1                               ('Cryptokitties', '3348')   \n",
       "2                               ('Cryptokitties', '3321')   \n",
       "3                               ('Cryptokitties', '1404')   \n",
       "4                               ('Cryptokitties', '3319')   \n",
       "...                                                   ...   \n",
       "154440  ('Glewme-city-real-estate', '49006244057585521...   \n",
       "154441                              ('Rarible', '297669')   \n",
       "154442                             ('Hashmasks', '11312')   \n",
       "154443                         ('Art-blocks', '53000219')   \n",
       "154444                              ('Rarible', '415972')   \n",
       "\n",
       "          Collection_cleaned   Category  centrality_seller  centrality_buyer  \n",
       "0               Cryptokittie        Art                NaN               NaN  \n",
       "1               Cryptokittie        Art                NaN               NaN  \n",
       "2               Cryptokittie        Art                NaN               NaN  \n",
       "3               Cryptokittie        Art                NaN               NaN  \n",
       "4               Cryptokittie        Art                NaN               NaN  \n",
       "...                      ...        ...                ...               ...  \n",
       "154440  Glewmecityrealestate  Metaverse           0.000011      9.174802e-06  \n",
       "154441                  Rari        Art           0.000006               NaN  \n",
       "154442              Hashmask        Art           0.000004      6.116535e-07  \n",
       "154443                   Art        Art           0.000002      2.038845e-07  \n",
       "154444                  Rari        Art           0.000003               NaN  \n",
       "\n",
       "[6071027 rows x 9 columns]"
      ]
     },
     "execution_count": 6,
     "metadata": {},
     "output_type": "execute_result"
    }
   ],
   "source": [
    "G_seller = nx.DiGraph()\n",
    "G_buyer = nx.DiGraph()\n",
    "dataframes = []\n",
    "for i, date in tqdm(enumerate(unique_dates), total=len(unique_dates)):\n",
    "    # filter transactions to only include transactions between current and previous date\n",
    "    prev_date = unique_dates[i-1] if i > 0 else unique_dates[0]\n",
    "    date_mask = (nft_transactions.Datetime_updated >= prev_date) & (nft_transactions.Datetime_updated < date)\n",
    "    date_transactions = nft_transactions.loc[date_mask]\n",
    "  \n",
    "    # add transactions as edges to the networks\n",
    "    for index, row in date_transactions.iterrows():\n",
    "        # add prefix '_' to nft ids to filter them later on (none of the addresses start with '_')\n",
    "        G_seller.add_edges_from([(row.Seller_address, f'_{row.Unique_id_collection}')])\n",
    "        G_buyer.add_edges_from([(row.Buyer_address, f'_{row.Unique_id_collection}')])\n",
    "  \n",
    "    # calculate centrality of nodes so far\n",
    "    centrality_seller = nx.degree_centrality(G_seller)\n",
    "    centrality_buyer = nx.degree_centrality(G_buyer)\n",
    "    # filter to address nodes\n",
    "    centrality_seller_address_nodes = {key:value for key, value in centrality_seller.items() if '_' not in key}.items()\n",
    "    centrality_buyer_address_nodes = {key:value for key, value in centrality_buyer.items() if '_' not in key}.items()\n",
    "    # convert dict items to pandas dataframe\n",
    "    centrality_seller_address = pd.DataFrame(centrality_seller_address_nodes, columns=['Seller_address','centrality_seller'])\n",
    "    centrality_buyer_address = pd.DataFrame(centrality_buyer_address_nodes, columns=['Buyer_address','centrality_buyer'])\n",
    "    # merge with this dates nft transaction data\n",
    "    merged_with_seller_and_buyer = (nft_transactions.loc[nft_transactions.Datetime_updated == date]\n",
    "        .merge(centrality_seller_address, on='Seller_address', how='left')\n",
    "        .merge(centrality_buyer_address, on='Buyer_address', how='left'))\n",
    "    dataframes.append(merged_with_seller_and_buyer)\n",
    "\n",
    "nft_transactions_with_centrality = pd.concat(dataframes)\n",
    "nft_transactions_with_centrality"
   ]
  },
  {
   "cell_type": "code",
   "execution_count": 7,
   "metadata": {
    "colab": {
     "base_uri": "https://localhost:8080/",
     "height": 296
    },
    "id": "1PEbXmxitaFB",
    "outputId": "5304f187-06e2-4f0b-9999-41d6a045600a"
   },
   "outputs": [
    {
     "data": {
      "text/plain": [
       "<Axes: >"
      ]
     },
     "execution_count": 7,
     "metadata": {},
     "output_type": "execute_result"
    },
    {
     "data": {
      "image/png": "[encoded data removed]",
      "text/plain": [
       "<Figure size 2000x400 with 1 Axes>"
      ]
     },
     "metadata": {},
     "output_type": "display_data"
    }
   ],
   "source": [
    "nft_transactions_with_centrality.reset_index().centrality_seller.plot(figsize=(20,4))"
   ]
  },
  {
   "cell_type": "code",
   "execution_count": 8,
   "metadata": {
    "colab": {
     "base_uri": "https://localhost:8080/",
     "height": 296
    },
    "id": "gFihJ764tZry",
    "outputId": "0643756b-83b4-402d-d3b1-8266b2692ce1"
   },
   "outputs": [
    {
     "data": {
      "text/plain": [
       "<Axes: >"
      ]
     },
     "execution_count": 8,
     "metadata": {},
     "output_type": "execute_result"
    },
    {
     "data": {
      "image/png": "[encoded data removed]",
      "text/plain": [
       "<Figure size 2000x400 with 1 Axes>"
      ]
     },
     "metadata": {},
     "output_type": "display_data"
    }
   ],
   "source": [
    "nft_transactions_with_centrality.reset_index().centrality_buyer.plot(figsize=(20,4))"
   ]
  }
 ],
 "metadata": {
  "colab": {
   "machine_shape": "hm",
   "provenance": []
  },
  "gpuClass": "standard",
  "kernelspec": {
   "display_name": "Python 3 (ipykernel)",
   "language": "python",
   "name": "python3"
  },
  "language_info": {
   "codemirror_mode": {
    "name": "ipython",
    "version": 3
   },
   "file_extension": ".py",
   "mimetype": "text/x-python",
   "name": "python",
   "nbconvert_exporter": "python",
   "pygments_lexer": "ipython3",
   "version": "3.10.13"
  }
 },
 "nbformat": 4,
 "nbformat_minor": 1
}
